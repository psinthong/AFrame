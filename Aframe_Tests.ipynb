{
 "cells": [
  {
   "cell_type": "code",
   "execution_count": 2,
   "metadata": {},
   "outputs": [],
   "source": [
    "import aframe as af\n",
    "import pandas as pd\n",
    "import numpy as np\n",
    "import math\n",
    "columns = [\"alias\", \"employment\", \"friendIds\",\"gender\",\"id\",\"name\",\"nickname\",\"userSince\"]"
   ]
  },
  {
   "cell_type": "code",
   "execution_count": 4,
   "metadata": {},
   "outputs": [],
   "source": [
    "message_af = af.AFrame(dataverse='TinySocial', dataset='GleambookMessages')\n",
    "user_af = af.AFrame(dataverse='TinySocial', dataset='GleambookUsers')\n",
    "message_df = message_af.toPandas()\n",
    "user_df = user_af.toPandas()"
   ]
  },
  {
   "cell_type": "code",
   "execution_count": 5,
   "metadata": {},
   "outputs": [],
   "source": [
    "def test_head():\n",
    "    for i in range(5):\n",
    "        head = user_df.head()\n",
    "        assert (head.shape[0] == 5)\n",
    "        for col in [\"alias\", \"employment\", \"friendIds\", \"id\", \"name\", \"userSince\"]:\n",
    "            assert (head.iloc[i][col] == user_df.iloc[i][col])\n",
    "        for col in [\"gender\", \"nickname\"]:\n",
    "            if (type(head.iloc[i][col])==float) and (type(user_df.iloc[i][col])==float): \n",
    "                x = float(head.iloc[i][col])\n",
    "                y = float(user_df.iloc[i][col])\n",
    "                if (not math.isnan(x)) and (not math.isnan(y)):\n",
    "                    assert (head.iloc[i][col] == user_df.iloc[i][col])\n",
    "            else:\n",
    "                assert (head.iloc[i][col] == user_df.iloc[i][col])"
   ]
  },
  {
   "cell_type": "code",
   "execution_count": 6,
   "metadata": {},
   "outputs": [],
   "source": [
    "def test_map():\n",
    "    f = lambda x: len(str(x))\n",
    "    names = user_df[\"name\"]\n",
    "    l_map = user_df['name'].map(f)\n",
    "    count = l_map.shape[0]\n",
    "    for i in range(count):\n",
    "        assert (len(names[i]) == l_map[i])"
   ]
  },
  {
   "cell_type": "code",
   "execution_count": 7,
   "metadata": {},
   "outputs": [],
   "source": [
    "def test_apply():\n",
    "    f = lambda x: len(str(x))\n",
    "    apply = user_df.apply(f)\n",
    "    for (i,col) in enumerate(columns):\n",
    "        count = sum([f(a) for a in user_df[col]])\n",
    "        #print(apply[i], count)\n",
    "        assert (apply[i] == count)"
   ]
  },
  {
   "cell_type": "code",
   "execution_count": 8,
   "metadata": {},
   "outputs": [],
   "source": [
    "def test_elementwiseMap():\n",
    "    real_len = [len(i) for i in user_df['name']]\n",
    "    name_len = user_af['name'].map('length')\n",
    "    collect = name_len.collect()\n",
    "    size = collect.shape[0]\n",
    "    for row in range(size):\n",
    "        a = collect[0][row]\n",
    "        assert (a == real_len[row])"
   ]
  },
  {
   "cell_type": "code",
   "execution_count": 9,
   "metadata": {},
   "outputs": [],
   "source": [
    "def test_functionsWithArgumentsMap():\n",
    "    name_contain = user_af['name'].map('contains', 'Suzan')\n",
    "    collect = name_contain.collect()\n",
    "    names = user_df['name']\n",
    "    for (i,name) in enumerate(names):\n",
    "        truth = 'Suzan' in name\n",
    "        assert (truth == collect[0][i])"
   ]
  },
  {
   "cell_type": "code",
   "execution_count": 10,
   "metadata": {},
   "outputs": [],
   "source": [
    "def test_tablewiseApply():\n",
    "    message_af = af.AFrame(dataverse='TinySocial', dataset='GleambookMessages')\n",
    "    fields = message_af.apply('get_object_fields')\n",
    "    first_head = fields.head(1)\n",
    "    real_fields = message_af.columns\n",
    "    for i in first_head:\n",
    "        for f in first_head[i]:\n",
    "            assert (f['field-name'] == list(real_fields[i].keys())[0])\n",
    "            if f['field-type'] == 'bigint':\n",
    "                assert (list(real_fields[i].values())[0] == 'int64')\n",
    "            else:\n",
    "                assert (f['field-type'] == list(real_fields[i].values())[0])    "
   ]
  },
  {
   "cell_type": "code",
   "execution_count": null,
   "metadata": {},
   "outputs": [],
   "source": []
  },
  {
   "cell_type": "code",
   "execution_count": 11,
   "metadata": {},
   "outputs": [],
   "source": [
    "def test_unnest():\n",
    "    output = user_af.unnest(user_af['friendIds']).head()#user_af.unnest(user_af['friendIds'], appended=True, name='friendID').head()\n",
    "    real = pd.DataFrame({'alias':user_df.alias.repeat(user_df.friendIds.str.len()),'friendID':np.concatenate(user_df.friendIds.values)})\n",
    "    real_head = list(real['friendID'].loc[[4,5]].head())\n",
    "    for (i, el) in enumerate(output[0]):\n",
    "        assert(el == real_head[i])"
   ]
  },
  {
   "cell_type": "code",
   "execution_count": 12,
   "metadata": {},
   "outputs": [],
   "source": [
    "def test_add():\n",
    "    real = user_af['id'].head()[0]\n",
    "    output1 = user_af['id'].add(3).head()[0]\n",
    "    output2 = (user_af['id']+3).head()[0]\n",
    "    for i in range(5):\n",
    "        assert(real[i]+3 == output1[i])\n",
    "        assert(real[i]+3 == output2[i])"
   ]
  },
  {
   "cell_type": "code",
   "execution_count": 13,
   "metadata": {},
   "outputs": [],
   "source": [
    "def test_mul():\n",
    "    real = user_af['id'].head()[0]\n",
    "    output = user_af['id'].mul(3).head()[0]\n",
    "    for i in range(5):\n",
    "        assert(real[i]*3 == output[i])"
   ]
  },
  {
   "cell_type": "code",
   "execution_count": 14,
   "metadata": {},
   "outputs": [],
   "source": [
    "def test_toPandas():\n",
    "    output_df = user_af.toPandas().head()\n",
    "    real_df = user_df.head()\n",
    "    output_columns = list(user_af.toPandas().columns)\n",
    "    real_columns = list(user_df.columns)\n",
    "    testing_columns = ['alias', 'gender', 'id', 'name', 'nickname']\n",
    "    for i in range(len(real_columns)):\n",
    "        assert(output_columns[i] == real_columns[i])\n",
    "    for col in testing_columns:\n",
    "        for a in range(5):\n",
    "            out = output_df[col][a]\n",
    "            real = real_df[col][a]\n",
    "            if type(out) == float or type(real) == float:\n",
    "                if math.isnan(out):\n",
    "                    out = 0.0\n",
    "                if math.isnan(real):\n",
    "                    real = 0.0\n",
    "            assert(out == real)"
   ]
  },
  {
   "cell_type": "code",
   "execution_count": 25,
   "metadata": {},
   "outputs": [],
   "source": [
    "def test_withColumn():\n",
    "    output = user_af.withColumn('id_3', user_af['id']+3).head()['id_3']\n",
    "    real = user_df.sort_values(by=['id']).head()['id']\n",
    "    for (i,el) in enumerate(list(output)):\n",
    "        assert(output.iloc[i] == real.iloc[i]+3)"
   ]
  },
  {
   "cell_type": "code",
   "execution_count": 26,
   "metadata": {},
   "outputs": [],
   "source": [
    "def test_persisting():\n",
    "    message_af = af.AFrame(dataverse='TinySocial', dataset='GleambookMessages')\n",
    "    user_af = af.AFrame(dataverse='TinySocial', dataset='GleambookUsers')\n",
    "    test_toPandas()\n",
    "    test_withColumn()"
   ]
  },
  {
   "cell_type": "code",
   "execution_count": 43,
   "metadata": {},
   "outputs": [
    {
     "data": {
      "text/plain": [
       "\"tmp = user_af.withColumn('id_3', user_af['id']+3)\\nnew_af = tmp.persist('UserCopy')\\ndef test_persist():\\n    print(new_af.head())\\n    print(tmp.head())\\n    #for col in tmp.columns:\\n    #    print(tmp[col], new_af[col])\\n    #    print('-----------------------------------------------------------------------------------------------------------')\\n    \\ntest_persist()\""
      ]
     },
     "execution_count": 43,
     "metadata": {},
     "output_type": "execute_result"
    }
   ],
   "source": [
    "'''tmp = user_af.withColumn('id_3', user_af['id']+3)\n",
    "new_af = tmp.persist('UserCopy')\n",
    "def test_persist():\n",
    "    print(new_af.head())\n",
    "    print(tmp.head())\n",
    "    #for col in tmp.columns:\n",
    "    #    print(tmp[col], new_af[col])\n",
    "    #    print('-----------------------------------------------------------------------------------------------------------')\n",
    "    \n",
    "test_persist()'''"
   ]
  },
  {
   "cell_type": "code",
   "execution_count": null,
   "metadata": {},
   "outputs": [],
   "source": [
    " "
   ]
  },
  {
   "cell_type": "code",
   "execution_count": 27,
   "metadata": {},
   "outputs": [],
   "source": [
    "def test():\n",
    "    test_head()\n",
    "    test_map()\n",
    "    #test_apply()\n",
    "    test_elementwiseMap()\n",
    "    test_functionsWithArgumentsMap()\n",
    "    test_tablewiseApply()\n",
    "    test_unnest()\n",
    "    test_add()\n",
    "    test_mul()\n",
    "    test_persisting()"
   ]
  },
  {
   "cell_type": "code",
   "execution_count": 28,
   "metadata": {},
   "outputs": [
    {
     "name": "stdout",
     "output_type": "stream",
     "text": [
      "Every test passed!\n"
     ]
    }
   ],
   "source": [
    "if __name__ == \"__main__\":\n",
    "    test()\n",
    "    print(\"Every test passed!\")"
   ]
  },
  {
   "cell_type": "code",
   "execution_count": null,
   "metadata": {},
   "outputs": [],
   "source": []
  },
  {
   "cell_type": "code",
   "execution_count": null,
   "metadata": {},
   "outputs": [],
   "source": []
  },
  {
   "cell_type": "code",
   "execution_count": null,
   "metadata": {},
   "outputs": [],
   "source": []
  }
 ],
 "metadata": {
  "kernelspec": {
   "display_name": "Python 3",
   "language": "python",
   "name": "python3"
  },
  "language_info": {
   "codemirror_mode": {
    "name": "ipython",
    "version": 3
   },
   "file_extension": ".py",
   "mimetype": "text/x-python",
   "name": "python",
   "nbconvert_exporter": "python",
   "pygments_lexer": "ipython3",
   "version": "3.7.1"
  }
 },
 "nbformat": 4,
 "nbformat_minor": 2
}
