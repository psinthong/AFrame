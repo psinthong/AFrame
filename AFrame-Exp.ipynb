{
 "cells": [
  {
   "cell_type": "code",
   "execution_count": 1,
   "metadata": {},
   "outputs": [],
   "source": [
    "import aframe as af\n",
    "import pandas as pd\n",
    "import findspark\n",
    "findspark.init()\n",
    "import pyspark\n",
    "from pyspark.sql import Row\n",
    "from pyspark.sql import SQLContext\n",
    "from pyspark import SparkContext\n",
    "from pyspark.sql.functions import *"
   ]
  },
  {
   "cell_type": "code",
   "execution_count": 40,
   "metadata": {},
   "outputs": [],
   "source": [
    "message_af = af.AFrame(dataverse='TinySocial', dataset='GleambookMessages')\n",
    "user_af = af.AFrame(dataverse='TinySocial', dataset='GleambookUsers')\n",
    "user2_af = af.AFrame(dataverse='TinySocial', dataset='GleambookUsers2')\n",
    "message_df = message_af.toPandas()\n",
    "user_df = user_af.toPandas()"
   ]
  },
  {
   "cell_type": "code",
   "execution_count": 44,
   "metadata": {},
   "outputs": [
    {
     "data": {
      "text/html": [
       "<div>\n",
       "<style scoped>\n",
       "    .dataframe tbody tr th:only-of-type {\n",
       "        vertical-align: middle;\n",
       "    }\n",
       "\n",
       "    .dataframe tbody tr th {\n",
       "        vertical-align: top;\n",
       "    }\n",
       "\n",
       "    .dataframe thead th {\n",
       "        text-align: right;\n",
       "    }\n",
       "</style>\n",
       "<table border=\"1\" class=\"dataframe\">\n",
       "  <thead>\n",
       "    <tr style=\"text-align: right;\">\n",
       "      <th></th>\n",
       "      <th>bar</th>\n",
       "      <th>foo</th>\n",
       "      <th>id</th>\n",
       "    </tr>\n",
       "  </thead>\n",
       "  <tbody>\n",
       "    <tr>\n",
       "      <th>0</th>\n",
       "      <td>NaN</td>\n",
       "      <td>3.0</td>\n",
       "      <td>1</td>\n",
       "    </tr>\n",
       "    <tr>\n",
       "      <th>1</th>\n",
       "      <td>7.0</td>\n",
       "      <td>NaN</td>\n",
       "      <td>2</td>\n",
       "    </tr>\n",
       "  </tbody>\n",
       "</table>\n",
       "</div>"
      ],
      "text/plain": [
       "   bar  foo  id\n",
       "0  NaN  3.0   1\n",
       "1  7.0  NaN   2"
      ]
     },
     "execution_count": 44,
     "metadata": {},
     "output_type": "execute_result"
    }
   ],
   "source": [
    "user3_af = af.AFrame(dataverse='TinySocial', dataset='GleambookUsers3')\n",
    "user3_af.head(2)"
   ]
  },
  {
   "cell_type": "code",
   "execution_count": 3,
   "metadata": {},
   "outputs": [],
   "source": [
    "sc = SparkContext(appName=\"af_app\")\n",
    "sqlContext = SQLContext(sc)"
   ]
  },
  {
   "cell_type": "code",
   "execution_count": 4,
   "metadata": {},
   "outputs": [],
   "source": [
    "message_spark = sqlContext.createDataFrame(message_df,message_df.columns.tolist())\n",
    "user_spark = sqlContext.createDataFrame(user_df.fillna('None'),user_df.columns.tolist())"
   ]
  },
  {
   "cell_type": "markdown",
   "metadata": {},
   "source": [
    "## Pandas DataFrame JOIN"
   ]
  },
  {
   "cell_type": "code",
   "execution_count": 5,
   "metadata": {},
   "outputs": [
    {
     "data": {
      "text/html": [
       "<div>\n",
       "<style scoped>\n",
       "    .dataframe tbody tr th:only-of-type {\n",
       "        vertical-align: middle;\n",
       "    }\n",
       "\n",
       "    .dataframe tbody tr th {\n",
       "        vertical-align: top;\n",
       "    }\n",
       "\n",
       "    .dataframe thead th {\n",
       "        text-align: right;\n",
       "    }\n",
       "</style>\n",
       "<table border=\"1\" class=\"dataframe\">\n",
       "  <thead>\n",
       "    <tr style=\"text-align: right;\">\n",
       "      <th></th>\n",
       "      <th>authorId</th>\n",
       "      <th>inResponseTo</th>\n",
       "      <th>message</th>\n",
       "      <th>messageId</th>\n",
       "      <th>senderLocation</th>\n",
       "      <th>authorId_r</th>\n",
       "      <th>inResponseTo_r</th>\n",
       "      <th>message_r</th>\n",
       "      <th>messageId_r</th>\n",
       "      <th>senderLocation_r</th>\n",
       "    </tr>\n",
       "  </thead>\n",
       "  <tbody>\n",
       "    <tr>\n",
       "      <th>0</th>\n",
       "      <td>3</td>\n",
       "      <td>2</td>\n",
       "      <td>love product-b its shortcut-menu is awesome:)</td>\n",
       "      <td>1</td>\n",
       "      <td>[47.16, 77.75]</td>\n",
       "      <td>3</td>\n",
       "      <td>2</td>\n",
       "      <td>love product-b its shortcut-menu is awesome:)</td>\n",
       "      <td>1</td>\n",
       "      <td>[47.16, 77.75]</td>\n",
       "    </tr>\n",
       "    <tr>\n",
       "      <th>1</th>\n",
       "      <td>1</td>\n",
       "      <td>4</td>\n",
       "      <td>dislike x-phone its touch-screen is horrible</td>\n",
       "      <td>2</td>\n",
       "      <td>[41.66, 80.87]</td>\n",
       "      <td>1</td>\n",
       "      <td>4</td>\n",
       "      <td>dislike x-phone its touch-screen is horrible</td>\n",
       "      <td>2</td>\n",
       "      <td>[41.66, 80.87]</td>\n",
       "    </tr>\n",
       "  </tbody>\n",
       "</table>\n",
       "</div>"
      ],
      "text/plain": [
       "   authorId  inResponseTo                                         message  \\\n",
       "0         3             2   love product-b its shortcut-menu is awesome:)   \n",
       "1         1             4    dislike x-phone its touch-screen is horrible   \n",
       "\n",
       "   messageId  senderLocation  authorId_r  inResponseTo_r  \\\n",
       "0          1  [47.16, 77.75]           3               2   \n",
       "1          2  [41.66, 80.87]           1               4   \n",
       "\n",
       "                                        message_r  messageId_r  \\\n",
       "0   love product-b its shortcut-menu is awesome:)            1   \n",
       "1    dislike x-phone its touch-screen is horrible            2   \n",
       "\n",
       "  senderLocation_r  \n",
       "0   [47.16, 77.75]  \n",
       "1   [41.66, 80.87]  "
      ]
     },
     "execution_count": 5,
     "metadata": {},
     "output_type": "execute_result"
    }
   ],
   "source": [
    "message_df.join(message_df,rsuffix='_r').head(2)"
   ]
  },
  {
   "cell_type": "markdown",
   "metadata": {},
   "source": [
    "## Pandas DataFrame Merge"
   ]
  },
  {
   "cell_type": "code",
   "execution_count": 6,
   "metadata": {},
   "outputs": [
    {
     "data": {
      "text/html": [
       "<div>\n",
       "<style scoped>\n",
       "    .dataframe tbody tr th:only-of-type {\n",
       "        vertical-align: middle;\n",
       "    }\n",
       "\n",
       "    .dataframe tbody tr th {\n",
       "        vertical-align: top;\n",
       "    }\n",
       "\n",
       "    .dataframe thead th {\n",
       "        text-align: right;\n",
       "    }\n",
       "</style>\n",
       "<table border=\"1\" class=\"dataframe\">\n",
       "  <thead>\n",
       "    <tr style=\"text-align: right;\">\n",
       "      <th></th>\n",
       "      <th>alias</th>\n",
       "      <th>employment</th>\n",
       "      <th>friendIds</th>\n",
       "      <th>gender</th>\n",
       "      <th>id</th>\n",
       "      <th>name</th>\n",
       "      <th>nickname</th>\n",
       "      <th>userSince</th>\n",
       "      <th>authorId</th>\n",
       "      <th>inResponseTo</th>\n",
       "      <th>message</th>\n",
       "      <th>messageId</th>\n",
       "      <th>senderLocation</th>\n",
       "    </tr>\n",
       "  </thead>\n",
       "  <tbody>\n",
       "    <tr>\n",
       "      <th>0</th>\n",
       "      <td>Margarita</td>\n",
       "      <td>[{'organizationName': 'Codetechno', 'startDate...</td>\n",
       "      <td>[2, 3, 6, 10]</td>\n",
       "      <td>F</td>\n",
       "      <td>1</td>\n",
       "      <td>MargaritaStoddard</td>\n",
       "      <td>Mags</td>\n",
       "      <td>2012-08-20T10:10:00.000Z</td>\n",
       "      <td>1</td>\n",
       "      <td>4</td>\n",
       "      <td>dislike x-phone its touch-screen is horrible</td>\n",
       "      <td>2</td>\n",
       "      <td>[41.66, 80.87]</td>\n",
       "    </tr>\n",
       "    <tr>\n",
       "      <th>1</th>\n",
       "      <td>Margarita</td>\n",
       "      <td>[{'organizationName': 'Codetechno', 'startDate...</td>\n",
       "      <td>[2, 3, 6, 10]</td>\n",
       "      <td>F</td>\n",
       "      <td>1</td>\n",
       "      <td>MargaritaStoddard</td>\n",
       "      <td>Mags</td>\n",
       "      <td>2012-08-20T10:10:00.000Z</td>\n",
       "      <td>1</td>\n",
       "      <td>2</td>\n",
       "      <td>can't stand acast the network is horrible:(</td>\n",
       "      <td>4</td>\n",
       "      <td>[37.73, 97.04]</td>\n",
       "    </tr>\n",
       "  </tbody>\n",
       "</table>\n",
       "</div>"
      ],
      "text/plain": [
       "       alias                                         employment  \\\n",
       "0  Margarita  [{'organizationName': 'Codetechno', 'startDate...   \n",
       "1  Margarita  [{'organizationName': 'Codetechno', 'startDate...   \n",
       "\n",
       "       friendIds gender  id               name nickname  \\\n",
       "0  [2, 3, 6, 10]      F   1  MargaritaStoddard     Mags   \n",
       "1  [2, 3, 6, 10]      F   1  MargaritaStoddard     Mags   \n",
       "\n",
       "                  userSince  authorId  inResponseTo  \\\n",
       "0  2012-08-20T10:10:00.000Z         1             4   \n",
       "1  2012-08-20T10:10:00.000Z         1             2   \n",
       "\n",
       "                                         message  messageId  senderLocation  \n",
       "0   dislike x-phone its touch-screen is horrible          2  [41.66, 80.87]  \n",
       "1    can't stand acast the network is horrible:(          4  [37.73, 97.04]  "
      ]
     },
     "execution_count": 6,
     "metadata": {},
     "output_type": "execute_result"
    }
   ],
   "source": [
    "user_df.merge(message_df, how='inner', left_on='id', right_on='authorId').head(2)"
   ]
  },
  {
   "cell_type": "code",
   "execution_count": 28,
   "metadata": {},
   "outputs": [
    {
     "data": {
      "text/html": [
       "<div>\n",
       "<style scoped>\n",
       "    .dataframe tbody tr th:only-of-type {\n",
       "        vertical-align: middle;\n",
       "    }\n",
       "\n",
       "    .dataframe tbody tr th {\n",
       "        vertical-align: top;\n",
       "    }\n",
       "\n",
       "    .dataframe thead th {\n",
       "        text-align: right;\n",
       "    }\n",
       "</style>\n",
       "<table border=\"1\" class=\"dataframe\">\n",
       "  <thead>\n",
       "    <tr style=\"text-align: right;\">\n",
       "      <th></th>\n",
       "      <th>authorId</th>\n",
       "      <th>inResponseTo_l</th>\n",
       "      <th>message_l</th>\n",
       "      <th>messageId_l</th>\n",
       "      <th>senderLocation_l</th>\n",
       "      <th>inResponseTo_r</th>\n",
       "      <th>message_r</th>\n",
       "      <th>messageId_r</th>\n",
       "      <th>senderLocation_r</th>\n",
       "    </tr>\n",
       "  </thead>\n",
       "  <tbody>\n",
       "    <tr>\n",
       "      <th>0</th>\n",
       "      <td>3</td>\n",
       "      <td>2</td>\n",
       "      <td>love product-b its shortcut-menu is awesome:)</td>\n",
       "      <td>1</td>\n",
       "      <td>[47.16, 77.75]</td>\n",
       "      <td>2</td>\n",
       "      <td>love product-b its shortcut-menu is awesome:)</td>\n",
       "      <td>1</td>\n",
       "      <td>[47.16, 77.75]</td>\n",
       "    </tr>\n",
       "    <tr>\n",
       "      <th>1</th>\n",
       "      <td>3</td>\n",
       "      <td>2</td>\n",
       "      <td>love product-b its shortcut-menu is awesome:)</td>\n",
       "      <td>1</td>\n",
       "      <td>[47.16, 77.75]</td>\n",
       "      <td>12</td>\n",
       "      <td>love ccast its wireless is good</td>\n",
       "      <td>9</td>\n",
       "      <td>[34.45, 96.48]</td>\n",
       "    </tr>\n",
       "  </tbody>\n",
       "</table>\n",
       "</div>"
      ],
      "text/plain": [
       "   authorId  inResponseTo_l                                       message_l  \\\n",
       "0         3               2   love product-b its shortcut-menu is awesome:)   \n",
       "1         3               2   love product-b its shortcut-menu is awesome:)   \n",
       "\n",
       "   messageId_l senderLocation_l  inResponseTo_r  \\\n",
       "0            1   [47.16, 77.75]               2   \n",
       "1            1   [47.16, 77.75]              12   \n",
       "\n",
       "                                        message_r  messageId_r  \\\n",
       "0   love product-b its shortcut-menu is awesome:)            1   \n",
       "1                 love ccast its wireless is good            9   \n",
       "\n",
       "  senderLocation_r  \n",
       "0   [47.16, 77.75]  \n",
       "1   [34.45, 96.48]  "
      ]
     },
     "execution_count": 28,
     "metadata": {},
     "output_type": "execute_result"
    }
   ],
   "source": [
    "message_df.merge(message_df, how='inner', left_on='authorId', right_on='authorId', suffixes=('_l','_r')).head(2)"
   ]
  },
  {
   "cell_type": "markdown",
   "metadata": {},
   "source": [
    "## AFrame JOIN"
   ]
  },
  {
   "cell_type": "code",
   "execution_count": 8,
   "metadata": {},
   "outputs": [],
   "source": [
    "joined_af = user_af.join(message_af, how='inner', left_on='id', right_on='authorId')"
   ]
  },
  {
   "cell_type": "code",
   "execution_count": 9,
   "metadata": {},
   "outputs": [
    {
     "data": {
      "text/plain": [
       "'SELECT VALUE object_merge(l,r) FROM TinySocial.GleambookUsers l JOIN TinySocial.GleambookMessages r on l.id=r.authorId;'"
      ]
     },
     "execution_count": 9,
     "metadata": {},
     "output_type": "execute_result"
    }
   ],
   "source": [
    "joined_af.query"
   ]
  },
  {
   "cell_type": "code",
   "execution_count": 10,
   "metadata": {},
   "outputs": [],
   "source": [
    "joined_af = message_af.join(message_af, how='inner', left_on='authorId', right_on='authorId')"
   ]
  },
  {
   "cell_type": "code",
   "execution_count": 11,
   "metadata": {},
   "outputs": [
    {
     "data": {
      "text/plain": [
       "'SELECT l,r from TinySocial.GleambookMessages l JOIN TinySocial.GleambookMessages r on l.authorId=r.authorId;'"
      ]
     },
     "execution_count": 11,
     "metadata": {},
     "output_type": "execute_result"
    }
   ],
   "source": [
    "joined_af.query"
   ]
  },
  {
   "cell_type": "code",
   "execution_count": 12,
   "metadata": {},
   "outputs": [
    {
     "data": {
      "text/html": [
       "<div>\n",
       "<style scoped>\n",
       "    .dataframe tbody tr th:only-of-type {\n",
       "        vertical-align: middle;\n",
       "    }\n",
       "\n",
       "    .dataframe tbody tr th {\n",
       "        vertical-align: top;\n",
       "    }\n",
       "\n",
       "    .dataframe thead th {\n",
       "        text-align: right;\n",
       "    }\n",
       "</style>\n",
       "<table border=\"1\" class=\"dataframe\">\n",
       "  <thead>\n",
       "    <tr style=\"text-align: right;\">\n",
       "      <th></th>\n",
       "      <th>l</th>\n",
       "      <th>r</th>\n",
       "    </tr>\n",
       "  </thead>\n",
       "  <tbody>\n",
       "    <tr>\n",
       "      <th>0</th>\n",
       "      <td>{'messageId': 1, 'authorId': 3, 'inResponseTo'...</td>\n",
       "      <td>{'messageId': 1, 'authorId': 3, 'inResponseTo'...</td>\n",
       "    </tr>\n",
       "    <tr>\n",
       "      <th>1</th>\n",
       "      <td>{'messageId': 1, 'authorId': 3, 'inResponseTo'...</td>\n",
       "      <td>{'messageId': 9, 'authorId': 3, 'inResponseTo'...</td>\n",
       "    </tr>\n",
       "  </tbody>\n",
       "</table>\n",
       "</div>"
      ],
      "text/plain": [
       "                                                   l  \\\n",
       "0  {'messageId': 1, 'authorId': 3, 'inResponseTo'...   \n",
       "1  {'messageId': 1, 'authorId': 3, 'inResponseTo'...   \n",
       "\n",
       "                                                   r  \n",
       "0  {'messageId': 1, 'authorId': 3, 'inResponseTo'...  \n",
       "1  {'messageId': 9, 'authorId': 3, 'inResponseTo'...  "
      ]
     },
     "execution_count": 12,
     "metadata": {},
     "output_type": "execute_result"
    }
   ],
   "source": [
    "joined_af.head(2)"
   ]
  },
  {
   "cell_type": "markdown",
   "metadata": {},
   "source": [
    "## Pandas vs. AFrame vs. PySpark"
   ]
  },
  {
   "cell_type": "code",
   "execution_count": 13,
   "metadata": {},
   "outputs": [],
   "source": [
    "joined_pandas = pd.merge(user_df,message_df, left_on='id', right_on='authorId', how='inner')\n",
    "joined_af = user_af.join(message_af, left_on='id', right_on='authorId',how='inner')\n",
    "joined_spark = user_spark.join(message_spark, user_spark.id == message_spark.authorId, 'inner')"
   ]
  },
  {
   "cell_type": "markdown",
   "metadata": {},
   "source": [
    "### Pandas"
   ]
  },
  {
   "cell_type": "code",
   "execution_count": 14,
   "metadata": {},
   "outputs": [
    {
     "data": {
      "text/html": [
       "<div>\n",
       "<style scoped>\n",
       "    .dataframe tbody tr th:only-of-type {\n",
       "        vertical-align: middle;\n",
       "    }\n",
       "\n",
       "    .dataframe tbody tr th {\n",
       "        vertical-align: top;\n",
       "    }\n",
       "\n",
       "    .dataframe thead th {\n",
       "        text-align: right;\n",
       "    }\n",
       "</style>\n",
       "<table border=\"1\" class=\"dataframe\">\n",
       "  <thead>\n",
       "    <tr style=\"text-align: right;\">\n",
       "      <th></th>\n",
       "      <th>alias</th>\n",
       "      <th>employment</th>\n",
       "      <th>friendIds</th>\n",
       "      <th>gender</th>\n",
       "      <th>id</th>\n",
       "      <th>name</th>\n",
       "      <th>nickname</th>\n",
       "      <th>userSince</th>\n",
       "      <th>authorId</th>\n",
       "      <th>inResponseTo</th>\n",
       "      <th>message</th>\n",
       "      <th>messageId</th>\n",
       "      <th>senderLocation</th>\n",
       "    </tr>\n",
       "  </thead>\n",
       "  <tbody>\n",
       "    <tr>\n",
       "      <th>0</th>\n",
       "      <td>Margarita</td>\n",
       "      <td>[{'organizationName': 'Codetechno', 'startDate...</td>\n",
       "      <td>[2, 3, 6, 10]</td>\n",
       "      <td>F</td>\n",
       "      <td>1</td>\n",
       "      <td>MargaritaStoddard</td>\n",
       "      <td>Mags</td>\n",
       "      <td>2012-08-20T10:10:00.000Z</td>\n",
       "      <td>1</td>\n",
       "      <td>4</td>\n",
       "      <td>dislike x-phone its touch-screen is horrible</td>\n",
       "      <td>2</td>\n",
       "      <td>[41.66, 80.87]</td>\n",
       "    </tr>\n",
       "    <tr>\n",
       "      <th>1</th>\n",
       "      <td>Margarita</td>\n",
       "      <td>[{'organizationName': 'Codetechno', 'startDate...</td>\n",
       "      <td>[2, 3, 6, 10]</td>\n",
       "      <td>F</td>\n",
       "      <td>1</td>\n",
       "      <td>MargaritaStoddard</td>\n",
       "      <td>Mags</td>\n",
       "      <td>2012-08-20T10:10:00.000Z</td>\n",
       "      <td>1</td>\n",
       "      <td>2</td>\n",
       "      <td>can't stand acast the network is horrible:(</td>\n",
       "      <td>4</td>\n",
       "      <td>[37.73, 97.04]</td>\n",
       "    </tr>\n",
       "  </tbody>\n",
       "</table>\n",
       "</div>"
      ],
      "text/plain": [
       "       alias                                         employment  \\\n",
       "0  Margarita  [{'organizationName': 'Codetechno', 'startDate...   \n",
       "1  Margarita  [{'organizationName': 'Codetechno', 'startDate...   \n",
       "\n",
       "       friendIds gender  id               name nickname  \\\n",
       "0  [2, 3, 6, 10]      F   1  MargaritaStoddard     Mags   \n",
       "1  [2, 3, 6, 10]      F   1  MargaritaStoddard     Mags   \n",
       "\n",
       "                  userSince  authorId  inResponseTo  \\\n",
       "0  2012-08-20T10:10:00.000Z         1             4   \n",
       "1  2012-08-20T10:10:00.000Z         1             2   \n",
       "\n",
       "                                         message  messageId  senderLocation  \n",
       "0   dislike x-phone its touch-screen is horrible          2  [41.66, 80.87]  \n",
       "1    can't stand acast the network is horrible:(          4  [37.73, 97.04]  "
      ]
     },
     "execution_count": 14,
     "metadata": {},
     "output_type": "execute_result"
    }
   ],
   "source": [
    "joined_pandas.head(2)"
   ]
  },
  {
   "cell_type": "markdown",
   "metadata": {},
   "source": [
    "### AFrame"
   ]
  },
  {
   "cell_type": "code",
   "execution_count": 15,
   "metadata": {},
   "outputs": [
    {
     "data": {
      "text/html": [
       "<div>\n",
       "<style scoped>\n",
       "    .dataframe tbody tr th:only-of-type {\n",
       "        vertical-align: middle;\n",
       "    }\n",
       "\n",
       "    .dataframe tbody tr th {\n",
       "        vertical-align: top;\n",
       "    }\n",
       "\n",
       "    .dataframe thead th {\n",
       "        text-align: right;\n",
       "    }\n",
       "</style>\n",
       "<table border=\"1\" class=\"dataframe\">\n",
       "  <thead>\n",
       "    <tr style=\"text-align: right;\">\n",
       "      <th></th>\n",
       "      <th>alias</th>\n",
       "      <th>authorId</th>\n",
       "      <th>employment</th>\n",
       "      <th>friendIds</th>\n",
       "      <th>gender</th>\n",
       "      <th>id</th>\n",
       "      <th>inResponseTo</th>\n",
       "      <th>message</th>\n",
       "      <th>messageId</th>\n",
       "      <th>name</th>\n",
       "      <th>nickname</th>\n",
       "      <th>senderLocation</th>\n",
       "      <th>userSince</th>\n",
       "    </tr>\n",
       "  </thead>\n",
       "  <tbody>\n",
       "    <tr>\n",
       "      <th>0</th>\n",
       "      <td>Margarita</td>\n",
       "      <td>1</td>\n",
       "      <td>[{'organizationName': 'Codetechno', 'startDate...</td>\n",
       "      <td>[2, 3, 6, 10]</td>\n",
       "      <td>F</td>\n",
       "      <td>1</td>\n",
       "      <td>4</td>\n",
       "      <td>dislike x-phone its touch-screen is horrible</td>\n",
       "      <td>2</td>\n",
       "      <td>MargaritaStoddard</td>\n",
       "      <td>Mags</td>\n",
       "      <td>[41.66, 80.87]</td>\n",
       "      <td>2012-08-20T10:10:00.000Z</td>\n",
       "    </tr>\n",
       "    <tr>\n",
       "      <th>1</th>\n",
       "      <td>Margarita</td>\n",
       "      <td>1</td>\n",
       "      <td>[{'organizationName': 'Codetechno', 'startDate...</td>\n",
       "      <td>[2, 3, 6, 10]</td>\n",
       "      <td>F</td>\n",
       "      <td>1</td>\n",
       "      <td>2</td>\n",
       "      <td>can't stand acast the network is horrible:(</td>\n",
       "      <td>4</td>\n",
       "      <td>MargaritaStoddard</td>\n",
       "      <td>Mags</td>\n",
       "      <td>[37.73, 97.04]</td>\n",
       "      <td>2012-08-20T10:10:00.000Z</td>\n",
       "    </tr>\n",
       "  </tbody>\n",
       "</table>\n",
       "</div>"
      ],
      "text/plain": [
       "       alias  authorId                                         employment  \\\n",
       "0  Margarita         1  [{'organizationName': 'Codetechno', 'startDate...   \n",
       "1  Margarita         1  [{'organizationName': 'Codetechno', 'startDate...   \n",
       "\n",
       "       friendIds gender  id  inResponseTo  \\\n",
       "0  [2, 3, 6, 10]      F   1             4   \n",
       "1  [2, 3, 6, 10]      F   1             2   \n",
       "\n",
       "                                         message  messageId  \\\n",
       "0   dislike x-phone its touch-screen is horrible          2   \n",
       "1    can't stand acast the network is horrible:(          4   \n",
       "\n",
       "                name nickname  senderLocation                 userSince  \n",
       "0  MargaritaStoddard     Mags  [41.66, 80.87]  2012-08-20T10:10:00.000Z  \n",
       "1  MargaritaStoddard     Mags  [37.73, 97.04]  2012-08-20T10:10:00.000Z  "
      ]
     },
     "execution_count": 15,
     "metadata": {},
     "output_type": "execute_result"
    }
   ],
   "source": [
    "joined_af.head(2)"
   ]
  },
  {
   "cell_type": "markdown",
   "metadata": {},
   "source": [
    "### PySpark"
   ]
  },
  {
   "cell_type": "code",
   "execution_count": 16,
   "metadata": {},
   "outputs": [
    {
     "name": "stdout",
     "output_type": "stream",
     "text": [
      "+-------+--------------------+---------+------+---+--------------+--------+--------------------+--------+------------+--------------------+---------+--------------+\n",
      "|  alias|          employment|friendIds|gender| id|          name|nickname|           userSince|authorId|inResponseTo|             message|messageId|senderLocation|\n",
      "+-------+--------------------+---------+------+---+--------------+--------+--------------------+--------+------------+--------------------+---------+--------------+\n",
      "|Suzanna|[[organizationNam...|      [6]|  None|  7|SuzannaTillson|    None|2012-08-07T10:10:...|       7|          11| like x-phone the...|       15|[44.47, 67.11]|\n",
      "| Willis|[[organizationNam...|[1, 3, 7]|  None|  6|   WillisWynne|    None|2005-01-17T10:10:...|       6|           2| love product-b t...|        5| [34.7, 90.76]|\n",
      "+-------+--------------------+---------+------+---+--------------+--------+--------------------+--------+------------+--------------------+---------+--------------+\n",
      "only showing top 2 rows\n",
      "\n"
     ]
    }
   ],
   "source": [
    "joined_spark.show(2)"
   ]
  },
  {
   "cell_type": "code",
   "execution_count": 33,
   "metadata": {},
   "outputs": [],
   "source": [
    "joined_spark = message_spark.join(message_spark, message_spark.authorId == message_spark.authorId, 'inner')"
   ]
  },
  {
   "cell_type": "code",
   "execution_count": 36,
   "metadata": {},
   "outputs": [
    {
     "name": "stdout",
     "output_type": "stream",
     "text": [
      "+--------+------------+--------------------+---------+--------------+--------+------------+--------------------+---------+--------------+\n",
      "|authorId|inResponseTo|             message|messageId|senderLocation|authorId|inResponseTo|             message|messageId|senderLocation|\n",
      "+--------+------------+--------------------+---------+--------------+--------+------------+--------------------+---------+--------------+\n",
      "|       7|          11| like x-phone the...|       15|[44.47, 67.11]|       7|          11| like x-phone the...|       15|[44.47, 67.11]|\n",
      "|       6|           2| love product-b t...|        5| [34.7, 90.76]|       6|           2| love product-b t...|        5| [34.7, 90.76]|\n",
      "+--------+------------+--------------------+---------+--------------+--------+------------+--------------------+---------+--------------+\n",
      "only showing top 2 rows\n",
      "\n"
     ]
    }
   ],
   "source": [
    "joined_spark.show(2)"
   ]
  },
  {
   "cell_type": "markdown",
   "metadata": {},
   "source": [
    "# Group By"
   ]
  },
  {
   "cell_type": "markdown",
   "metadata": {},
   "source": [
    "## Pandas Group By"
   ]
  },
  {
   "cell_type": "code",
   "execution_count": 17,
   "metadata": {},
   "outputs": [
    {
     "data": {
      "text/plain": [
       "<pandas.core.groupby.DataFrameGroupBy object at 0x109e329b0>"
      ]
     },
     "execution_count": 17,
     "metadata": {},
     "output_type": "execute_result"
    }
   ],
   "source": [
    "message_df.groupby('authorId')"
   ]
  },
  {
   "cell_type": "code",
   "execution_count": 18,
   "metadata": {},
   "outputs": [
    {
     "data": {
      "text/plain": [
       "{1: Int64Index([1, 3, 7, 9, 10], dtype='int64'),\n",
       " 2: Int64Index([2, 5], dtype='int64'),\n",
       " 3: Int64Index([0, 8], dtype='int64'),\n",
       " 5: Int64Index([6], dtype='int64'),\n",
       " 6: Int64Index([4], dtype='int64'),\n",
       " 7: Int64Index([14], dtype='int64'),\n",
       " 9: Int64Index([13], dtype='int64'),\n",
       " 10: Int64Index([11, 12], dtype='int64')}"
      ]
     },
     "execution_count": 18,
     "metadata": {},
     "output_type": "execute_result"
    }
   ],
   "source": [
    "message_df.groupby('authorId').groups"
   ]
  },
  {
   "cell_type": "code",
   "execution_count": 19,
   "metadata": {},
   "outputs": [
    {
     "data": {
      "text/html": [
       "<div>\n",
       "<style scoped>\n",
       "    .dataframe tbody tr th:only-of-type {\n",
       "        vertical-align: middle;\n",
       "    }\n",
       "\n",
       "    .dataframe tbody tr th {\n",
       "        vertical-align: top;\n",
       "    }\n",
       "\n",
       "    .dataframe thead th {\n",
       "        text-align: right;\n",
       "    }\n",
       "</style>\n",
       "<table border=\"1\" class=\"dataframe\">\n",
       "  <thead>\n",
       "    <tr style=\"text-align: right;\">\n",
       "      <th></th>\n",
       "      <th>authorId</th>\n",
       "      <th>inResponseTo</th>\n",
       "      <th>message</th>\n",
       "      <th>messageId</th>\n",
       "      <th>senderLocation</th>\n",
       "    </tr>\n",
       "  </thead>\n",
       "  <tbody>\n",
       "    <tr>\n",
       "      <th>1</th>\n",
       "      <td>1</td>\n",
       "      <td>4</td>\n",
       "      <td>dislike x-phone its touch-screen is horrible</td>\n",
       "      <td>2</td>\n",
       "      <td>[41.66, 80.87]</td>\n",
       "    </tr>\n",
       "    <tr>\n",
       "      <th>3</th>\n",
       "      <td>1</td>\n",
       "      <td>2</td>\n",
       "      <td>can't stand acast the network is horrible:(</td>\n",
       "      <td>4</td>\n",
       "      <td>[37.73, 97.04]</td>\n",
       "    </tr>\n",
       "    <tr>\n",
       "      <th>7</th>\n",
       "      <td>1</td>\n",
       "      <td>11</td>\n",
       "      <td>like ccast the 3G is awesome:)</td>\n",
       "      <td>8</td>\n",
       "      <td>[40.33, 80.87]</td>\n",
       "    </tr>\n",
       "    <tr>\n",
       "      <th>9</th>\n",
       "      <td>1</td>\n",
       "      <td>12</td>\n",
       "      <td>can't stand product-w the touch-screen is ter...</td>\n",
       "      <td>10</td>\n",
       "      <td>[42.5, 70.01]</td>\n",
       "    </tr>\n",
       "    <tr>\n",
       "      <th>10</th>\n",
       "      <td>1</td>\n",
       "      <td>1</td>\n",
       "      <td>can't stand acast its plan is terrible</td>\n",
       "      <td>11</td>\n",
       "      <td>[38.97, 77.49]</td>\n",
       "    </tr>\n",
       "  </tbody>\n",
       "</table>\n",
       "</div>"
      ],
      "text/plain": [
       "    authorId  inResponseTo                                            message  \\\n",
       "1          1             4       dislike x-phone its touch-screen is horrible   \n",
       "3          1             2        can't stand acast the network is horrible:(   \n",
       "7          1            11                     like ccast the 3G is awesome:)   \n",
       "9          1            12   can't stand product-w the touch-screen is ter...   \n",
       "10         1             1             can't stand acast its plan is terrible   \n",
       "\n",
       "    messageId  senderLocation  \n",
       "1           2  [41.66, 80.87]  \n",
       "3           4  [37.73, 97.04]  \n",
       "7           8  [40.33, 80.87]  \n",
       "9          10   [42.5, 70.01]  \n",
       "10         11  [38.97, 77.49]  "
      ]
     },
     "execution_count": 19,
     "metadata": {},
     "output_type": "execute_result"
    }
   ],
   "source": [
    "grouped_pandas = message_df.groupby('authorId')\n",
    "grouped_pandas.get_group(1)"
   ]
  },
  {
   "cell_type": "code",
   "execution_count": 20,
   "metadata": {},
   "outputs": [
    {
     "data": {
      "text/html": [
       "<div>\n",
       "<style scoped>\n",
       "    .dataframe tbody tr th:only-of-type {\n",
       "        vertical-align: middle;\n",
       "    }\n",
       "\n",
       "    .dataframe tbody tr th {\n",
       "        vertical-align: top;\n",
       "    }\n",
       "\n",
       "    .dataframe thead th {\n",
       "        text-align: right;\n",
       "    }\n",
       "</style>\n",
       "<table border=\"1\" class=\"dataframe\">\n",
       "  <thead>\n",
       "    <tr style=\"text-align: right;\">\n",
       "      <th></th>\n",
       "      <th>inResponseTo</th>\n",
       "      <th>message</th>\n",
       "      <th>messageId</th>\n",
       "      <th>senderLocation</th>\n",
       "    </tr>\n",
       "    <tr>\n",
       "      <th>authorId</th>\n",
       "      <th></th>\n",
       "      <th></th>\n",
       "      <th></th>\n",
       "      <th></th>\n",
       "    </tr>\n",
       "  </thead>\n",
       "  <tbody>\n",
       "    <tr>\n",
       "      <th>1</th>\n",
       "      <td>5</td>\n",
       "      <td>5</td>\n",
       "      <td>5</td>\n",
       "      <td>5</td>\n",
       "    </tr>\n",
       "    <tr>\n",
       "      <th>2</th>\n",
       "      <td>2</td>\n",
       "      <td>2</td>\n",
       "      <td>2</td>\n",
       "      <td>2</td>\n",
       "    </tr>\n",
       "    <tr>\n",
       "      <th>3</th>\n",
       "      <td>2</td>\n",
       "      <td>2</td>\n",
       "      <td>2</td>\n",
       "      <td>2</td>\n",
       "    </tr>\n",
       "    <tr>\n",
       "      <th>5</th>\n",
       "      <td>1</td>\n",
       "      <td>1</td>\n",
       "      <td>1</td>\n",
       "      <td>1</td>\n",
       "    </tr>\n",
       "    <tr>\n",
       "      <th>6</th>\n",
       "      <td>1</td>\n",
       "      <td>1</td>\n",
       "      <td>1</td>\n",
       "      <td>1</td>\n",
       "    </tr>\n",
       "    <tr>\n",
       "      <th>7</th>\n",
       "      <td>1</td>\n",
       "      <td>1</td>\n",
       "      <td>1</td>\n",
       "      <td>1</td>\n",
       "    </tr>\n",
       "    <tr>\n",
       "      <th>9</th>\n",
       "      <td>1</td>\n",
       "      <td>1</td>\n",
       "      <td>1</td>\n",
       "      <td>1</td>\n",
       "    </tr>\n",
       "    <tr>\n",
       "      <th>10</th>\n",
       "      <td>2</td>\n",
       "      <td>2</td>\n",
       "      <td>2</td>\n",
       "      <td>2</td>\n",
       "    </tr>\n",
       "  </tbody>\n",
       "</table>\n",
       "</div>"
      ],
      "text/plain": [
       "          inResponseTo  message  messageId  senderLocation\n",
       "authorId                                                  \n",
       "1                    5        5          5               5\n",
       "2                    2        2          2               2\n",
       "3                    2        2          2               2\n",
       "5                    1        1          1               1\n",
       "6                    1        1          1               1\n",
       "7                    1        1          1               1\n",
       "9                    1        1          1               1\n",
       "10                   2        2          2               2"
      ]
     },
     "execution_count": 20,
     "metadata": {},
     "output_type": "execute_result"
    }
   ],
   "source": [
    "grouped_pandas.count()"
   ]
  },
  {
   "cell_type": "markdown",
   "metadata": {},
   "source": [
    "## PySpark Group By"
   ]
  },
  {
   "cell_type": "code",
   "execution_count": 21,
   "metadata": {},
   "outputs": [
    {
     "data": {
      "text/plain": [
       "<pyspark.sql.group.GroupedData at 0x109e70048>"
      ]
     },
     "execution_count": 21,
     "metadata": {},
     "output_type": "execute_result"
    }
   ],
   "source": [
    "grouped_spark = message_spark.groupby('authorId')\n",
    "grouped_spark"
   ]
  },
  {
   "cell_type": "code",
   "execution_count": 22,
   "metadata": {},
   "outputs": [
    {
     "name": "stdout",
     "output_type": "stream",
     "text": [
      "+--------+-----+\n",
      "|authorId|count|\n",
      "+--------+-----+\n",
      "|       7|    1|\n",
      "|       6|    1|\n",
      "|       9|    1|\n",
      "|       5|    1|\n",
      "|       1|    5|\n",
      "|      10|    2|\n",
      "|       3|    2|\n",
      "|       2|    2|\n",
      "+--------+-----+\n",
      "\n"
     ]
    }
   ],
   "source": [
    "grouped_spark.count().show()"
   ]
  },
  {
   "cell_type": "markdown",
   "metadata": {},
   "source": [
    "## AFrame Group By"
   ]
  },
  {
   "cell_type": "code",
   "execution_count": 23,
   "metadata": {},
   "outputs": [
    {
     "data": {
      "text/plain": [
       "<aframe.groupby.AFrameGroupBy at 0x109e70828>"
      ]
     },
     "execution_count": 23,
     "metadata": {},
     "output_type": "execute_result"
    }
   ],
   "source": [
    "grouped_af = message_af.groupby('authorId')\n",
    "grouped_af"
   ]
  },
  {
   "cell_type": "code",
   "execution_count": 24,
   "metadata": {},
   "outputs": [
    {
     "data": {
      "text/plain": [
       "'SELECT * FROM TinySocial.GleambookMessages t GROUP BY t.authorId AS grp_id GROUP AS grps(t AS grp);'"
      ]
     },
     "execution_count": 24,
     "metadata": {},
     "output_type": "execute_result"
    }
   ],
   "source": [
    "grouped_af.query"
   ]
  },
  {
   "cell_type": "code",
   "execution_count": 25,
   "metadata": {},
   "outputs": [
    {
     "data": {
      "text/html": [
       "<div>\n",
       "<style scoped>\n",
       "    .dataframe tbody tr th:only-of-type {\n",
       "        vertical-align: middle;\n",
       "    }\n",
       "\n",
       "    .dataframe tbody tr th {\n",
       "        vertical-align: top;\n",
       "    }\n",
       "\n",
       "    .dataframe thead th {\n",
       "        text-align: right;\n",
       "    }\n",
       "</style>\n",
       "<table border=\"1\" class=\"dataframe\">\n",
       "  <thead>\n",
       "    <tr style=\"text-align: right;\">\n",
       "      <th></th>\n",
       "      <th>authorId</th>\n",
       "      <th>inResponseTo</th>\n",
       "      <th>message</th>\n",
       "      <th>messageId</th>\n",
       "      <th>senderLocation</th>\n",
       "    </tr>\n",
       "  </thead>\n",
       "  <tbody>\n",
       "    <tr>\n",
       "      <th>0</th>\n",
       "      <td>1</td>\n",
       "      <td>4</td>\n",
       "      <td>dislike x-phone its touch-screen is horrible</td>\n",
       "      <td>2</td>\n",
       "      <td>[41.66, 80.87]</td>\n",
       "    </tr>\n",
       "    <tr>\n",
       "      <th>1</th>\n",
       "      <td>1</td>\n",
       "      <td>2</td>\n",
       "      <td>can't stand acast the network is horrible:(</td>\n",
       "      <td>4</td>\n",
       "      <td>[37.73, 97.04]</td>\n",
       "    </tr>\n",
       "    <tr>\n",
       "      <th>2</th>\n",
       "      <td>1</td>\n",
       "      <td>11</td>\n",
       "      <td>like ccast the 3G is awesome:)</td>\n",
       "      <td>8</td>\n",
       "      <td>[40.33, 80.87]</td>\n",
       "    </tr>\n",
       "    <tr>\n",
       "      <th>3</th>\n",
       "      <td>1</td>\n",
       "      <td>12</td>\n",
       "      <td>can't stand product-w the touch-screen is ter...</td>\n",
       "      <td>10</td>\n",
       "      <td>[42.5, 70.01]</td>\n",
       "    </tr>\n",
       "    <tr>\n",
       "      <th>4</th>\n",
       "      <td>1</td>\n",
       "      <td>1</td>\n",
       "      <td>can't stand acast its plan is terrible</td>\n",
       "      <td>11</td>\n",
       "      <td>[38.97, 77.49]</td>\n",
       "    </tr>\n",
       "  </tbody>\n",
       "</table>\n",
       "</div>"
      ],
      "text/plain": [
       "   authorId  inResponseTo                                            message  \\\n",
       "0         1             4       dislike x-phone its touch-screen is horrible   \n",
       "1         1             2        can't stand acast the network is horrible:(   \n",
       "2         1            11                     like ccast the 3G is awesome:)   \n",
       "3         1            12   can't stand product-w the touch-screen is ter...   \n",
       "4         1             1             can't stand acast its plan is terrible   \n",
       "\n",
       "   messageId  senderLocation  \n",
       "0          2  [41.66, 80.87]  \n",
       "1          4  [37.73, 97.04]  \n",
       "2          8  [40.33, 80.87]  \n",
       "3         10   [42.5, 70.01]  \n",
       "4         11  [38.97, 77.49]  "
      ]
     },
     "execution_count": 25,
     "metadata": {},
     "output_type": "execute_result"
    }
   ],
   "source": [
    "grouped_af.get_group(1)"
   ]
  },
  {
   "cell_type": "code",
   "execution_count": 26,
   "metadata": {},
   "outputs": [
    {
     "data": {
      "text/html": [
       "<div>\n",
       "<style scoped>\n",
       "    .dataframe tbody tr th:only-of-type {\n",
       "        vertical-align: middle;\n",
       "    }\n",
       "\n",
       "    .dataframe tbody tr th {\n",
       "        vertical-align: top;\n",
       "    }\n",
       "\n",
       "    .dataframe thead th {\n",
       "        text-align: right;\n",
       "    }\n",
       "</style>\n",
       "<table border=\"1\" class=\"dataframe\">\n",
       "  <thead>\n",
       "    <tr style=\"text-align: right;\">\n",
       "      <th></th>\n",
       "      <th>authorId</th>\n",
       "      <th>count</th>\n",
       "    </tr>\n",
       "  </thead>\n",
       "  <tbody>\n",
       "    <tr>\n",
       "      <th>0</th>\n",
       "      <td>1</td>\n",
       "      <td>5</td>\n",
       "    </tr>\n",
       "    <tr>\n",
       "      <th>1</th>\n",
       "      <td>2</td>\n",
       "      <td>2</td>\n",
       "    </tr>\n",
       "    <tr>\n",
       "      <th>2</th>\n",
       "      <td>3</td>\n",
       "      <td>2</td>\n",
       "    </tr>\n",
       "    <tr>\n",
       "      <th>3</th>\n",
       "      <td>5</td>\n",
       "      <td>1</td>\n",
       "    </tr>\n",
       "    <tr>\n",
       "      <th>4</th>\n",
       "      <td>6</td>\n",
       "      <td>1</td>\n",
       "    </tr>\n",
       "    <tr>\n",
       "      <th>5</th>\n",
       "      <td>7</td>\n",
       "      <td>1</td>\n",
       "    </tr>\n",
       "    <tr>\n",
       "      <th>6</th>\n",
       "      <td>9</td>\n",
       "      <td>1</td>\n",
       "    </tr>\n",
       "    <tr>\n",
       "      <th>7</th>\n",
       "      <td>10</td>\n",
       "      <td>2</td>\n",
       "    </tr>\n",
       "  </tbody>\n",
       "</table>\n",
       "</div>"
      ],
      "text/plain": [
       "   authorId  count\n",
       "0         1      5\n",
       "1         2      2\n",
       "2         3      2\n",
       "3         5      1\n",
       "4         6      1\n",
       "5         7      1\n",
       "6         9      1\n",
       "7        10      2"
      ]
     },
     "execution_count": 26,
     "metadata": {},
     "output_type": "execute_result"
    }
   ],
   "source": [
    "grouped_af.count()"
   ]
  },
  {
   "cell_type": "code",
   "execution_count": null,
   "metadata": {},
   "outputs": [],
   "source": []
  }
 ],
 "metadata": {
  "kernelspec": {
   "display_name": "pyspark-dev",
   "language": "python",
   "name": "pyspark"
  },
  "language_info": {
   "codemirror_mode": {
    "name": "ipython",
    "version": 3
   },
   "file_extension": ".py",
   "mimetype": "text/x-python",
   "name": "python",
   "nbconvert_exporter": "python",
   "pygments_lexer": "ipython3",
   "version": "3.6.5"
  }
 },
 "nbformat": 4,
 "nbformat_minor": 2
}
