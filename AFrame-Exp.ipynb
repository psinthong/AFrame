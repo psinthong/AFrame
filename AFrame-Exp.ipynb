{
 "cells": [
  {
   "cell_type": "code",
   "execution_count": 1,
   "metadata": {},
   "outputs": [],
   "source": [
    "from aframe import AFrame\n",
    "import pandas as pd"
   ]
  },
  {
   "cell_type": "code",
   "execution_count": 2,
   "metadata": {},
   "outputs": [],
   "source": [
    "af = AFrame(dataverse='test', dataset='TweetItems')"
   ]
  },
  {
   "cell_type": "code",
   "execution_count": 3,
   "metadata": {},
   "outputs": [
    {
     "data": {
      "text/plain": [
       "AsterixDB DataFrame with the following known columns: \n",
       "\t[{'name': 'id', 'type': 'int64', 'nullable': False}, {'name': 'text', 'type': 'string', 'nullable': False}]"
      ]
     },
     "execution_count": 3,
     "metadata": {},
     "output_type": "execute_result"
    }
   ],
   "source": [
    "af"
   ]
  },
  {
   "cell_type": "code",
   "execution_count": 4,
   "metadata": {},
   "outputs": [
    {
     "data": {
      "text/plain": [
       "5981"
      ]
     },
     "execution_count": 4,
     "metadata": {},
     "output_type": "execute_result"
    }
   ],
   "source": [
    "len(af)"
   ]
  },
  {
   "cell_type": "code",
   "execution_count": 5,
   "metadata": {},
   "outputs": [
    {
     "data": {
      "text/plain": [
       "\"[{'name': 'id', 'type': 'int64', 'nullable': False}, {'name': 'text', 'type': 'string', 'nullable': False}]\""
      ]
     },
     "execution_count": 5,
     "metadata": {},
     "output_type": "execute_result"
    }
   ],
   "source": [
    "af.columns"
   ]
  },
  {
   "cell_type": "code",
   "execution_count": 6,
   "metadata": {},
   "outputs": [],
   "source": [
    "df = af.toPandas()"
   ]
  },
  {
   "cell_type": "code",
   "execution_count": 7,
   "metadata": {},
   "outputs": [
    {
     "data": {
      "text/html": [
       "<div>\n",
       "<style scoped>\n",
       "    .dataframe tbody tr th:only-of-type {\n",
       "        vertical-align: middle;\n",
       "    }\n",
       "\n",
       "    .dataframe tbody tr th {\n",
       "        vertical-align: top;\n",
       "    }\n",
       "\n",
       "    .dataframe thead th {\n",
       "        text-align: right;\n",
       "    }\n",
       "</style>\n",
       "<table border=\"1\" class=\"dataframe\">\n",
       "  <thead>\n",
       "    <tr style=\"text-align: right;\">\n",
       "      <th></th>\n",
       "      <th>contributors</th>\n",
       "      <th>coordinates</th>\n",
       "      <th>created_at</th>\n",
       "      <th>display_text_range</th>\n",
       "      <th>entities</th>\n",
       "      <th>extended_entities</th>\n",
       "      <th>extended_tweet</th>\n",
       "      <th>favorite_count</th>\n",
       "      <th>favorited</th>\n",
       "      <th>filter_level</th>\n",
       "      <th>...</th>\n",
       "      <th>reply_count</th>\n",
       "      <th>retweet_count</th>\n",
       "      <th>retweeted</th>\n",
       "      <th>retweeted_status</th>\n",
       "      <th>source</th>\n",
       "      <th>text</th>\n",
       "      <th>timestamp_ms</th>\n",
       "      <th>truncated</th>\n",
       "      <th>user</th>\n",
       "      <th>withheld_in_countries</th>\n",
       "    </tr>\n",
       "  </thead>\n",
       "  <tbody>\n",
       "    <tr>\n",
       "      <th>0</th>\n",
       "      <td>NaN</td>\n",
       "      <td>None</td>\n",
       "      <td>2018-02-08 05:18:41</td>\n",
       "      <td>NaN</td>\n",
       "      <td>{'hashtags': [], 'urls': [], 'user_mentions': ...</td>\n",
       "      <td>{'media': [{'id': 961400756740923392, 'id_str'...</td>\n",
       "      <td>NaN</td>\n",
       "      <td>0</td>\n",
       "      <td>False</td>\n",
       "      <td>low</td>\n",
       "      <td>...</td>\n",
       "      <td>0</td>\n",
       "      <td>0</td>\n",
       "      <td>False</td>\n",
       "      <td>{'created_at': 'Thu Feb 08 00:46:19 +0000 2018...</td>\n",
       "      <td>&lt;a href=\"http://twitter.com\" rel=\"nofollow\"&gt;Tw...</td>\n",
       "      <td>RT @MicahGrimes: 2 iconic photos. 1 year. Only...</td>\n",
       "      <td>2018-02-08 05:18:41.604</td>\n",
       "      <td>False</td>\n",
       "      <td>{'id': 320000200, 'id_str': '320000200', 'name...</td>\n",
       "      <td>NaN</td>\n",
       "    </tr>\n",
       "    <tr>\n",
       "      <th>1</th>\n",
       "      <td>NaN</td>\n",
       "      <td>None</td>\n",
       "      <td>2018-02-08 05:18:41</td>\n",
       "      <td>NaN</td>\n",
       "      <td>{'hashtags': [], 'urls': [], 'user_mentions': ...</td>\n",
       "      <td>NaN</td>\n",
       "      <td>NaN</td>\n",
       "      <td>0</td>\n",
       "      <td>False</td>\n",
       "      <td>low</td>\n",
       "      <td>...</td>\n",
       "      <td>0</td>\n",
       "      <td>0</td>\n",
       "      <td>False</td>\n",
       "      <td>{'created_at': 'Wed Feb 07 22:54:04 +0000 2018...</td>\n",
       "      <td>&lt;a href=\"http://twitter.com/download/iphone\" r...</td>\n",
       "      <td>RT @EdKrassen: Nancy Pelosi has more Enerygy a...</td>\n",
       "      <td>2018-02-08 05:18:41.705</td>\n",
       "      <td>False</td>\n",
       "      <td>{'id': 50667682, 'id_str': '50667682', 'name':...</td>\n",
       "      <td>NaN</td>\n",
       "    </tr>\n",
       "    <tr>\n",
       "      <th>2</th>\n",
       "      <td>NaN</td>\n",
       "      <td>None</td>\n",
       "      <td>2018-02-08 05:18:41</td>\n",
       "      <td>[0, 140]</td>\n",
       "      <td>{'hashtags': [{'text': 'POTUS', 'indices': [66...</td>\n",
       "      <td>NaN</td>\n",
       "      <td>{'full_text': 'CNN - INTERNATIONAL . THE LEAST...</td>\n",
       "      <td>0</td>\n",
       "      <td>False</td>\n",
       "      <td>low</td>\n",
       "      <td>...</td>\n",
       "      <td>0</td>\n",
       "      <td>0</td>\n",
       "      <td>False</td>\n",
       "      <td>NaN</td>\n",
       "      <td>&lt;a href=\"http://twitter.com\" rel=\"nofollow\"&gt;Tw...</td>\n",
       "      <td>CNN - INTERNATIONAL . THE LEAST  TRUSTED  NAME...</td>\n",
       "      <td>2018-02-08 05:18:41.713</td>\n",
       "      <td>True</td>\n",
       "      <td>{'id': 882677034429710336, 'id_str': '88267703...</td>\n",
       "      <td>NaN</td>\n",
       "    </tr>\n",
       "    <tr>\n",
       "      <th>3</th>\n",
       "      <td>NaN</td>\n",
       "      <td>None</td>\n",
       "      <td>2018-02-08 05:18:41</td>\n",
       "      <td>[17, 140]</td>\n",
       "      <td>{'hashtags': [], 'urls': [{'url': 'https://t.c...</td>\n",
       "      <td>NaN</td>\n",
       "      <td>{'full_text': '@realDonaldTrump The Russian As...</td>\n",
       "      <td>0</td>\n",
       "      <td>False</td>\n",
       "      <td>low</td>\n",
       "      <td>...</td>\n",
       "      <td>0</td>\n",
       "      <td>0</td>\n",
       "      <td>False</td>\n",
       "      <td>NaN</td>\n",
       "      <td>&lt;a href=\"http://twitter.com/download/android\" ...</td>\n",
       "      <td>@realDonaldTrump The Russian Asset Donald Trum...</td>\n",
       "      <td>2018-02-08 05:18:41.773</td>\n",
       "      <td>True</td>\n",
       "      <td>{'id': 958747420904497153, 'id_str': '95874742...</td>\n",
       "      <td>NaN</td>\n",
       "    </tr>\n",
       "    <tr>\n",
       "      <th>4</th>\n",
       "      <td>NaN</td>\n",
       "      <td>None</td>\n",
       "      <td>2018-02-08 05:18:41</td>\n",
       "      <td>NaN</td>\n",
       "      <td>{'hashtags': [], 'urls': [], 'user_mentions': ...</td>\n",
       "      <td>NaN</td>\n",
       "      <td>NaN</td>\n",
       "      <td>0</td>\n",
       "      <td>False</td>\n",
       "      <td>low</td>\n",
       "      <td>...</td>\n",
       "      <td>0</td>\n",
       "      <td>0</td>\n",
       "      <td>False</td>\n",
       "      <td>{'created_at': 'Wed Feb 07 15:48:03 +0000 2018...</td>\n",
       "      <td>&lt;a href=\"http://twitter.com/download/iphone\" r...</td>\n",
       "      <td>RT @nowthisnews: This Trump supporter used the...</td>\n",
       "      <td>2018-02-08 05:18:41.802</td>\n",
       "      <td>False</td>\n",
       "      <td>{'id': 749752742, 'id_str': '749752742', 'name...</td>\n",
       "      <td>NaN</td>\n",
       "    </tr>\n",
       "  </tbody>\n",
       "</table>\n",
       "<p>5 rows × 36 columns</p>\n",
       "</div>"
      ],
      "text/plain": [
       "   contributors coordinates          created_at display_text_range  \\\n",
       "0           NaN        None 2018-02-08 05:18:41                NaN   \n",
       "1           NaN        None 2018-02-08 05:18:41                NaN   \n",
       "2           NaN        None 2018-02-08 05:18:41           [0, 140]   \n",
       "3           NaN        None 2018-02-08 05:18:41          [17, 140]   \n",
       "4           NaN        None 2018-02-08 05:18:41                NaN   \n",
       "\n",
       "                                            entities  \\\n",
       "0  {'hashtags': [], 'urls': [], 'user_mentions': ...   \n",
       "1  {'hashtags': [], 'urls': [], 'user_mentions': ...   \n",
       "2  {'hashtags': [{'text': 'POTUS', 'indices': [66...   \n",
       "3  {'hashtags': [], 'urls': [{'url': 'https://t.c...   \n",
       "4  {'hashtags': [], 'urls': [], 'user_mentions': ...   \n",
       "\n",
       "                                   extended_entities  \\\n",
       "0  {'media': [{'id': 961400756740923392, 'id_str'...   \n",
       "1                                                NaN   \n",
       "2                                                NaN   \n",
       "3                                                NaN   \n",
       "4                                                NaN   \n",
       "\n",
       "                                      extended_tweet  favorite_count  \\\n",
       "0                                                NaN               0   \n",
       "1                                                NaN               0   \n",
       "2  {'full_text': 'CNN - INTERNATIONAL . THE LEAST...               0   \n",
       "3  {'full_text': '@realDonaldTrump The Russian As...               0   \n",
       "4                                                NaN               0   \n",
       "\n",
       "   favorited filter_level          ...          reply_count  retweet_count  \\\n",
       "0      False          low          ...                    0              0   \n",
       "1      False          low          ...                    0              0   \n",
       "2      False          low          ...                    0              0   \n",
       "3      False          low          ...                    0              0   \n",
       "4      False          low          ...                    0              0   \n",
       "\n",
       "   retweeted                                   retweeted_status  \\\n",
       "0      False  {'created_at': 'Thu Feb 08 00:46:19 +0000 2018...   \n",
       "1      False  {'created_at': 'Wed Feb 07 22:54:04 +0000 2018...   \n",
       "2      False                                                NaN   \n",
       "3      False                                                NaN   \n",
       "4      False  {'created_at': 'Wed Feb 07 15:48:03 +0000 2018...   \n",
       "\n",
       "                                              source  \\\n",
       "0  <a href=\"http://twitter.com\" rel=\"nofollow\">Tw...   \n",
       "1  <a href=\"http://twitter.com/download/iphone\" r...   \n",
       "2  <a href=\"http://twitter.com\" rel=\"nofollow\">Tw...   \n",
       "3  <a href=\"http://twitter.com/download/android\" ...   \n",
       "4  <a href=\"http://twitter.com/download/iphone\" r...   \n",
       "\n",
       "                                                text            timestamp_ms  \\\n",
       "0  RT @MicahGrimes: 2 iconic photos. 1 year. Only... 2018-02-08 05:18:41.604   \n",
       "1  RT @EdKrassen: Nancy Pelosi has more Enerygy a... 2018-02-08 05:18:41.705   \n",
       "2  CNN - INTERNATIONAL . THE LEAST  TRUSTED  NAME... 2018-02-08 05:18:41.713   \n",
       "3  @realDonaldTrump The Russian Asset Donald Trum... 2018-02-08 05:18:41.773   \n",
       "4  RT @nowthisnews: This Trump supporter used the... 2018-02-08 05:18:41.802   \n",
       "\n",
       "   truncated                                               user  \\\n",
       "0      False  {'id': 320000200, 'id_str': '320000200', 'name...   \n",
       "1      False  {'id': 50667682, 'id_str': '50667682', 'name':...   \n",
       "2       True  {'id': 882677034429710336, 'id_str': '88267703...   \n",
       "3       True  {'id': 958747420904497153, 'id_str': '95874742...   \n",
       "4      False  {'id': 749752742, 'id_str': '749752742', 'name...   \n",
       "\n",
       "  withheld_in_countries  \n",
       "0                   NaN  \n",
       "1                   NaN  \n",
       "2                   NaN  \n",
       "3                   NaN  \n",
       "4                   NaN  \n",
       "\n",
       "[5 rows x 36 columns]"
      ]
     },
     "execution_count": 7,
     "metadata": {},
     "output_type": "execute_result"
    }
   ],
   "source": [
    "df.head()"
   ]
  },
  {
   "cell_type": "code",
   "execution_count": 8,
   "metadata": {},
   "outputs": [
    {
     "data": {
      "text/plain": [
       "Index(['contributors', 'coordinates', 'created_at', 'display_text_range',\n",
       "       'entities', 'extended_entities', 'extended_tweet', 'favorite_count',\n",
       "       'favorited', 'filter_level', 'geo', 'id', 'id_str',\n",
       "       'in_reply_to_screen_name', 'in_reply_to_status_id',\n",
       "       'in_reply_to_status_id_str', 'in_reply_to_user_id',\n",
       "       'in_reply_to_user_id_str', 'is_quote_status', 'lang', 'place',\n",
       "       'possibly_sensitive', 'quote_count', 'quoted_status',\n",
       "       'quoted_status_id', 'quoted_status_id_str', 'reply_count',\n",
       "       'retweet_count', 'retweeted', 'retweeted_status', 'source', 'text',\n",
       "       'timestamp_ms', 'truncated', 'user', 'withheld_in_countries'],\n",
       "      dtype='object')"
      ]
     },
     "execution_count": 8,
     "metadata": {},
     "output_type": "execute_result"
    }
   ],
   "source": [
    "df.columns"
   ]
  },
  {
   "cell_type": "code",
   "execution_count": 9,
   "metadata": {},
   "outputs": [
    {
     "data": {
      "text/html": [
       "<div>\n",
       "<style scoped>\n",
       "    .dataframe tbody tr th:only-of-type {\n",
       "        vertical-align: middle;\n",
       "    }\n",
       "\n",
       "    .dataframe tbody tr th {\n",
       "        vertical-align: top;\n",
       "    }\n",
       "\n",
       "    .dataframe thead th {\n",
       "        text-align: right;\n",
       "    }\n",
       "</style>\n",
       "<table border=\"1\" class=\"dataframe\">\n",
       "  <thead>\n",
       "    <tr style=\"text-align: right;\">\n",
       "      <th></th>\n",
       "      <th>0</th>\n",
       "    </tr>\n",
       "  </thead>\n",
       "  <tbody>\n",
       "    <tr>\n",
       "      <th>0</th>\n",
       "      <td>False</td>\n",
       "    </tr>\n",
       "    <tr>\n",
       "      <th>1</th>\n",
       "      <td>False</td>\n",
       "    </tr>\n",
       "  </tbody>\n",
       "</table>\n",
       "</div>"
      ],
      "text/plain": [
       "       0\n",
       "0  False\n",
       "1  False"
      ]
     },
     "execution_count": 9,
     "metadata": {},
     "output_type": "execute_result"
    }
   ],
   "source": [
    "af['truncated'].head(2)"
   ]
  },
  {
   "cell_type": "code",
   "execution_count": 10,
   "metadata": {},
   "outputs": [
    {
     "data": {
      "text/plain": [
       "0    False\n",
       "1    False\n",
       "Name: truncated, dtype: bool"
      ]
     },
     "execution_count": 10,
     "metadata": {},
     "output_type": "execute_result"
    }
   ],
   "source": [
    "df['truncated'].head(2)"
   ]
  },
  {
   "cell_type": "code",
   "execution_count": 11,
   "metadata": {},
   "outputs": [
    {
     "data": {
      "text/plain": [
       "'select value t from test.TweetItems t where t.truncated = True;'"
      ]
     },
     "execution_count": 11,
     "metadata": {},
     "output_type": "execute_result"
    }
   ],
   "source": [
    "af[af['truncated'] == True].query"
   ]
  },
  {
   "cell_type": "code",
   "execution_count": 12,
   "metadata": {},
   "outputs": [
    {
     "data": {
      "text/html": [
       "<div>\n",
       "<style scoped>\n",
       "    .dataframe tbody tr th:only-of-type {\n",
       "        vertical-align: middle;\n",
       "    }\n",
       "\n",
       "    .dataframe tbody tr th {\n",
       "        vertical-align: top;\n",
       "    }\n",
       "\n",
       "    .dataframe thead th {\n",
       "        text-align: right;\n",
       "    }\n",
       "</style>\n",
       "<table border=\"1\" class=\"dataframe\">\n",
       "  <thead>\n",
       "    <tr style=\"text-align: right;\">\n",
       "      <th></th>\n",
       "      <th>contributors</th>\n",
       "      <th>coordinates</th>\n",
       "      <th>created_at</th>\n",
       "      <th>display_text_range</th>\n",
       "      <th>entities</th>\n",
       "      <th>extended_entities</th>\n",
       "      <th>extended_tweet</th>\n",
       "      <th>favorite_count</th>\n",
       "      <th>favorited</th>\n",
       "      <th>filter_level</th>\n",
       "      <th>...</th>\n",
       "      <th>reply_count</th>\n",
       "      <th>retweet_count</th>\n",
       "      <th>retweeted</th>\n",
       "      <th>retweeted_status</th>\n",
       "      <th>source</th>\n",
       "      <th>text</th>\n",
       "      <th>timestamp_ms</th>\n",
       "      <th>truncated</th>\n",
       "      <th>user</th>\n",
       "      <th>withheld_in_countries</th>\n",
       "    </tr>\n",
       "  </thead>\n",
       "  <tbody>\n",
       "    <tr>\n",
       "      <th>2</th>\n",
       "      <td>NaN</td>\n",
       "      <td>None</td>\n",
       "      <td>2018-02-08 05:18:41</td>\n",
       "      <td>[0, 140]</td>\n",
       "      <td>{'hashtags': [{'text': 'POTUS', 'indices': [66...</td>\n",
       "      <td>NaN</td>\n",
       "      <td>{'full_text': 'CNN - INTERNATIONAL . THE LEAST...</td>\n",
       "      <td>0</td>\n",
       "      <td>False</td>\n",
       "      <td>low</td>\n",
       "      <td>...</td>\n",
       "      <td>0</td>\n",
       "      <td>0</td>\n",
       "      <td>False</td>\n",
       "      <td>NaN</td>\n",
       "      <td>&lt;a href=\"http://twitter.com\" rel=\"nofollow\"&gt;Tw...</td>\n",
       "      <td>CNN - INTERNATIONAL . THE LEAST  TRUSTED  NAME...</td>\n",
       "      <td>2018-02-08 05:18:41.713</td>\n",
       "      <td>True</td>\n",
       "      <td>{'id': 882677034429710336, 'id_str': '88267703...</td>\n",
       "      <td>NaN</td>\n",
       "    </tr>\n",
       "    <tr>\n",
       "      <th>3</th>\n",
       "      <td>NaN</td>\n",
       "      <td>None</td>\n",
       "      <td>2018-02-08 05:18:41</td>\n",
       "      <td>[17, 140]</td>\n",
       "      <td>{'hashtags': [], 'urls': [{'url': 'https://t.c...</td>\n",
       "      <td>NaN</td>\n",
       "      <td>{'full_text': '@realDonaldTrump The Russian As...</td>\n",
       "      <td>0</td>\n",
       "      <td>False</td>\n",
       "      <td>low</td>\n",
       "      <td>...</td>\n",
       "      <td>0</td>\n",
       "      <td>0</td>\n",
       "      <td>False</td>\n",
       "      <td>NaN</td>\n",
       "      <td>&lt;a href=\"http://twitter.com/download/android\" ...</td>\n",
       "      <td>@realDonaldTrump The Russian Asset Donald Trum...</td>\n",
       "      <td>2018-02-08 05:18:41.773</td>\n",
       "      <td>True</td>\n",
       "      <td>{'id': 958747420904497153, 'id_str': '95874742...</td>\n",
       "      <td>NaN</td>\n",
       "    </tr>\n",
       "  </tbody>\n",
       "</table>\n",
       "<p>2 rows × 36 columns</p>\n",
       "</div>"
      ],
      "text/plain": [
       "   contributors coordinates          created_at display_text_range  \\\n",
       "2           NaN        None 2018-02-08 05:18:41           [0, 140]   \n",
       "3           NaN        None 2018-02-08 05:18:41          [17, 140]   \n",
       "\n",
       "                                            entities extended_entities  \\\n",
       "2  {'hashtags': [{'text': 'POTUS', 'indices': [66...               NaN   \n",
       "3  {'hashtags': [], 'urls': [{'url': 'https://t.c...               NaN   \n",
       "\n",
       "                                      extended_tweet  favorite_count  \\\n",
       "2  {'full_text': 'CNN - INTERNATIONAL . THE LEAST...               0   \n",
       "3  {'full_text': '@realDonaldTrump The Russian As...               0   \n",
       "\n",
       "   favorited filter_level          ...          reply_count  retweet_count  \\\n",
       "2      False          low          ...                    0              0   \n",
       "3      False          low          ...                    0              0   \n",
       "\n",
       "   retweeted retweeted_status  \\\n",
       "2      False              NaN   \n",
       "3      False              NaN   \n",
       "\n",
       "                                              source  \\\n",
       "2  <a href=\"http://twitter.com\" rel=\"nofollow\">Tw...   \n",
       "3  <a href=\"http://twitter.com/download/android\" ...   \n",
       "\n",
       "                                                text            timestamp_ms  \\\n",
       "2  CNN - INTERNATIONAL . THE LEAST  TRUSTED  NAME... 2018-02-08 05:18:41.713   \n",
       "3  @realDonaldTrump The Russian Asset Donald Trum... 2018-02-08 05:18:41.773   \n",
       "\n",
       "   truncated                                               user  \\\n",
       "2       True  {'id': 882677034429710336, 'id_str': '88267703...   \n",
       "3       True  {'id': 958747420904497153, 'id_str': '95874742...   \n",
       "\n",
       "  withheld_in_countries  \n",
       "2                   NaN  \n",
       "3                   NaN  \n",
       "\n",
       "[2 rows x 36 columns]"
      ]
     },
     "execution_count": 12,
     "metadata": {},
     "output_type": "execute_result"
    }
   ],
   "source": [
    "df[df['truncated'] == True].head(2)"
   ]
  },
  {
   "cell_type": "code",
   "execution_count": 13,
   "metadata": {
    "scrolled": true
   },
   "outputs": [
    {
     "name": "stdout",
     "output_type": "stream",
     "text": [
      "select value t.truncated from test.TweetItems t;\n"
     ]
    }
   ],
   "source": [
    "a = af['truncated']\n",
    "print(a.query)"
   ]
  },
  {
   "cell_type": "code",
   "execution_count": 14,
   "metadata": {
    "scrolled": true
   },
   "outputs": [
    {
     "name": "stdout",
     "output_type": "stream",
     "text": [
      "select value t.truncated = True from test.TweetItems t;\n"
     ]
    }
   ],
   "source": [
    "a = af['truncated'] == True\n",
    "print(a.query)"
   ]
  },
  {
   "cell_type": "code",
   "execution_count": 15,
   "metadata": {},
   "outputs": [
    {
     "name": "stdout",
     "output_type": "stream",
     "text": [
      "select value t from test.TweetItems t where t.truncated = True;\n"
     ]
    }
   ],
   "source": [
    "a = af[af['truncated'] == True]\n",
    "print(a.query)"
   ]
  },
  {
   "cell_type": "code",
   "execution_count": 16,
   "metadata": {},
   "outputs": [
    {
     "name": "stdout",
     "output_type": "stream",
     "text": [
      "select value t.truncated = True and t.favorited = False from test.TweetItems t;\n"
     ]
    }
   ],
   "source": [
    "a = (af['truncated'] == True) & (af['favorited'] == False)\n",
    "print(a.query)"
   ]
  },
  {
   "cell_type": "code",
   "execution_count": 17,
   "metadata": {},
   "outputs": [
    {
     "data": {
      "text/html": [
       "<div>\n",
       "<style scoped>\n",
       "    .dataframe tbody tr th:only-of-type {\n",
       "        vertical-align: middle;\n",
       "    }\n",
       "\n",
       "    .dataframe tbody tr th {\n",
       "        vertical-align: top;\n",
       "    }\n",
       "\n",
       "    .dataframe thead th {\n",
       "        text-align: right;\n",
       "    }\n",
       "</style>\n",
       "<table border=\"1\" class=\"dataframe\">\n",
       "  <thead>\n",
       "    <tr style=\"text-align: right;\">\n",
       "      <th></th>\n",
       "      <th>0</th>\n",
       "    </tr>\n",
       "  </thead>\n",
       "  <tbody>\n",
       "    <tr>\n",
       "      <th>0</th>\n",
       "      <td>False</td>\n",
       "    </tr>\n",
       "    <tr>\n",
       "      <th>1</th>\n",
       "      <td>False</td>\n",
       "    </tr>\n",
       "    <tr>\n",
       "      <th>2</th>\n",
       "      <td>True</td>\n",
       "    </tr>\n",
       "    <tr>\n",
       "      <th>3</th>\n",
       "      <td>True</td>\n",
       "    </tr>\n",
       "    <tr>\n",
       "      <th>4</th>\n",
       "      <td>False</td>\n",
       "    </tr>\n",
       "  </tbody>\n",
       "</table>\n",
       "</div>"
      ],
      "text/plain": [
       "       0\n",
       "0  False\n",
       "1  False\n",
       "2   True\n",
       "3   True\n",
       "4  False"
      ]
     },
     "execution_count": 17,
     "metadata": {},
     "output_type": "execute_result"
    }
   ],
   "source": [
    "a.head()"
   ]
  },
  {
   "cell_type": "code",
   "execution_count": 18,
   "metadata": {},
   "outputs": [
    {
     "data": {
      "text/plain": [
       "0    False\n",
       "1    False\n",
       "2     True\n",
       "3     True\n",
       "4    False\n",
       "dtype: bool"
      ]
     },
     "execution_count": 18,
     "metadata": {},
     "output_type": "execute_result"
    }
   ],
   "source": [
    "b = (df['truncated'] == True) & (df['favorited'] == False)\n",
    "b.head()"
   ]
  },
  {
   "cell_type": "code",
   "execution_count": 19,
   "metadata": {
    "scrolled": true
   },
   "outputs": [
    {
     "name": "stdout",
     "output_type": "stream",
     "text": [
      "select value t from test.TweetItems t where t.truncated = True and t.favorited = False;\n"
     ]
    }
   ],
   "source": [
    "a = af[(af['truncated'] == True) & (af['favorited'] == False)]\n",
    "print(a.query)"
   ]
  },
  {
   "cell_type": "code",
   "execution_count": 20,
   "metadata": {},
   "outputs": [
    {
     "data": {
      "text/html": [
       "<div>\n",
       "<style scoped>\n",
       "    .dataframe tbody tr th:only-of-type {\n",
       "        vertical-align: middle;\n",
       "    }\n",
       "\n",
       "    .dataframe tbody tr th {\n",
       "        vertical-align: top;\n",
       "    }\n",
       "\n",
       "    .dataframe thead th {\n",
       "        text-align: right;\n",
       "    }\n",
       "</style>\n",
       "<table border=\"1\" class=\"dataframe\">\n",
       "  <thead>\n",
       "    <tr style=\"text-align: right;\">\n",
       "      <th></th>\n",
       "      <th>contributors</th>\n",
       "      <th>coordinates</th>\n",
       "      <th>created_at</th>\n",
       "      <th>display_text_range</th>\n",
       "      <th>entities</th>\n",
       "      <th>extended_tweet</th>\n",
       "      <th>favorite_count</th>\n",
       "      <th>favorited</th>\n",
       "      <th>filter_level</th>\n",
       "      <th>geo</th>\n",
       "      <th>...</th>\n",
       "      <th>quoted_status_id</th>\n",
       "      <th>quoted_status_id_str</th>\n",
       "      <th>reply_count</th>\n",
       "      <th>retweet_count</th>\n",
       "      <th>retweeted</th>\n",
       "      <th>source</th>\n",
       "      <th>text</th>\n",
       "      <th>timestamp_ms</th>\n",
       "      <th>truncated</th>\n",
       "      <th>user</th>\n",
       "    </tr>\n",
       "  </thead>\n",
       "  <tbody>\n",
       "    <tr>\n",
       "      <th>0</th>\n",
       "      <td>NaN</td>\n",
       "      <td>NaN</td>\n",
       "      <td>2018-02-08 05:18:41</td>\n",
       "      <td>[0, 140]</td>\n",
       "      <td>{'hashtags': [{'text': 'POTUS', 'indices': [66...</td>\n",
       "      <td>{'full_text': 'CNN - INTERNATIONAL . THE LEAST...</td>\n",
       "      <td>0</td>\n",
       "      <td>False</td>\n",
       "      <td>low</td>\n",
       "      <td>NaN</td>\n",
       "      <td>...</td>\n",
       "      <td>9.561978e+17</td>\n",
       "      <td>9.561978e+17</td>\n",
       "      <td>0</td>\n",
       "      <td>0</td>\n",
       "      <td>False</td>\n",
       "      <td>&lt;a href=\"http://twitter.com\" rel=\"nofollow\"&gt;Tw...</td>\n",
       "      <td>CNN - INTERNATIONAL . THE LEAST  TRUSTED  NAME...</td>\n",
       "      <td>2018-02-08 05:18:41.713</td>\n",
       "      <td>True</td>\n",
       "      <td>{'id': 882677034429710336, 'id_str': '88267703...</td>\n",
       "    </tr>\n",
       "    <tr>\n",
       "      <th>1</th>\n",
       "      <td>NaN</td>\n",
       "      <td>NaN</td>\n",
       "      <td>2018-02-08 05:18:41</td>\n",
       "      <td>[17, 140]</td>\n",
       "      <td>{'hashtags': [], 'urls': [{'url': 'https://t.c...</td>\n",
       "      <td>{'full_text': '@realDonaldTrump The Russian As...</td>\n",
       "      <td>0</td>\n",
       "      <td>False</td>\n",
       "      <td>low</td>\n",
       "      <td>NaN</td>\n",
       "      <td>...</td>\n",
       "      <td>NaN</td>\n",
       "      <td>NaN</td>\n",
       "      <td>0</td>\n",
       "      <td>0</td>\n",
       "      <td>False</td>\n",
       "      <td>&lt;a href=\"http://twitter.com/download/android\" ...</td>\n",
       "      <td>@realDonaldTrump The Russian Asset Donald Trum...</td>\n",
       "      <td>2018-02-08 05:18:41.773</td>\n",
       "      <td>True</td>\n",
       "      <td>{'id': 958747420904497153, 'id_str': '95874742...</td>\n",
       "    </tr>\n",
       "  </tbody>\n",
       "</table>\n",
       "<p>2 rows × 33 columns</p>\n",
       "</div>"
      ],
      "text/plain": [
       "   contributors  coordinates          created_at display_text_range  \\\n",
       "0           NaN          NaN 2018-02-08 05:18:41           [0, 140]   \n",
       "1           NaN          NaN 2018-02-08 05:18:41          [17, 140]   \n",
       "\n",
       "                                            entities  \\\n",
       "0  {'hashtags': [{'text': 'POTUS', 'indices': [66...   \n",
       "1  {'hashtags': [], 'urls': [{'url': 'https://t.c...   \n",
       "\n",
       "                                      extended_tweet  favorite_count  \\\n",
       "0  {'full_text': 'CNN - INTERNATIONAL . THE LEAST...               0   \n",
       "1  {'full_text': '@realDonaldTrump The Russian As...               0   \n",
       "\n",
       "   favorited filter_level  geo  \\\n",
       "0      False          low  NaN   \n",
       "1      False          low  NaN   \n",
       "\n",
       "                         ...                          quoted_status_id  \\\n",
       "0                        ...                              9.561978e+17   \n",
       "1                        ...                                       NaN   \n",
       "\n",
       "   quoted_status_id_str reply_count  retweet_count  retweeted  \\\n",
       "0          9.561978e+17           0              0      False   \n",
       "1                   NaN           0              0      False   \n",
       "\n",
       "                                              source  \\\n",
       "0  <a href=\"http://twitter.com\" rel=\"nofollow\">Tw...   \n",
       "1  <a href=\"http://twitter.com/download/android\" ...   \n",
       "\n",
       "                                                text            timestamp_ms  \\\n",
       "0  CNN - INTERNATIONAL . THE LEAST  TRUSTED  NAME... 2018-02-08 05:18:41.713   \n",
       "1  @realDonaldTrump The Russian Asset Donald Trum... 2018-02-08 05:18:41.773   \n",
       "\n",
       "  truncated                                               user  \n",
       "0      True  {'id': 882677034429710336, 'id_str': '88267703...  \n",
       "1      True  {'id': 958747420904497153, 'id_str': '95874742...  \n",
       "\n",
       "[2 rows x 33 columns]"
      ]
     },
     "execution_count": 20,
     "metadata": {},
     "output_type": "execute_result"
    }
   ],
   "source": [
    "a.head(2)"
   ]
  },
  {
   "cell_type": "code",
   "execution_count": 21,
   "metadata": {},
   "outputs": [
    {
     "data": {
      "text/html": [
       "<div>\n",
       "<style scoped>\n",
       "    .dataframe tbody tr th:only-of-type {\n",
       "        vertical-align: middle;\n",
       "    }\n",
       "\n",
       "    .dataframe tbody tr th {\n",
       "        vertical-align: top;\n",
       "    }\n",
       "\n",
       "    .dataframe thead th {\n",
       "        text-align: right;\n",
       "    }\n",
       "</style>\n",
       "<table border=\"1\" class=\"dataframe\">\n",
       "  <thead>\n",
       "    <tr style=\"text-align: right;\">\n",
       "      <th></th>\n",
       "      <th>contributors</th>\n",
       "      <th>coordinates</th>\n",
       "      <th>created_at</th>\n",
       "      <th>display_text_range</th>\n",
       "      <th>entities</th>\n",
       "      <th>extended_entities</th>\n",
       "      <th>extended_tweet</th>\n",
       "      <th>favorite_count</th>\n",
       "      <th>favorited</th>\n",
       "      <th>filter_level</th>\n",
       "      <th>...</th>\n",
       "      <th>reply_count</th>\n",
       "      <th>retweet_count</th>\n",
       "      <th>retweeted</th>\n",
       "      <th>retweeted_status</th>\n",
       "      <th>source</th>\n",
       "      <th>text</th>\n",
       "      <th>timestamp_ms</th>\n",
       "      <th>truncated</th>\n",
       "      <th>user</th>\n",
       "      <th>withheld_in_countries</th>\n",
       "    </tr>\n",
       "  </thead>\n",
       "  <tbody>\n",
       "    <tr>\n",
       "      <th>2</th>\n",
       "      <td>NaN</td>\n",
       "      <td>None</td>\n",
       "      <td>2018-02-08 05:18:41</td>\n",
       "      <td>[0, 140]</td>\n",
       "      <td>{'hashtags': [{'text': 'POTUS', 'indices': [66...</td>\n",
       "      <td>NaN</td>\n",
       "      <td>{'full_text': 'CNN - INTERNATIONAL . THE LEAST...</td>\n",
       "      <td>0</td>\n",
       "      <td>False</td>\n",
       "      <td>low</td>\n",
       "      <td>...</td>\n",
       "      <td>0</td>\n",
       "      <td>0</td>\n",
       "      <td>False</td>\n",
       "      <td>NaN</td>\n",
       "      <td>&lt;a href=\"http://twitter.com\" rel=\"nofollow\"&gt;Tw...</td>\n",
       "      <td>CNN - INTERNATIONAL . THE LEAST  TRUSTED  NAME...</td>\n",
       "      <td>2018-02-08 05:18:41.713</td>\n",
       "      <td>True</td>\n",
       "      <td>{'id': 882677034429710336, 'id_str': '88267703...</td>\n",
       "      <td>NaN</td>\n",
       "    </tr>\n",
       "    <tr>\n",
       "      <th>3</th>\n",
       "      <td>NaN</td>\n",
       "      <td>None</td>\n",
       "      <td>2018-02-08 05:18:41</td>\n",
       "      <td>[17, 140]</td>\n",
       "      <td>{'hashtags': [], 'urls': [{'url': 'https://t.c...</td>\n",
       "      <td>NaN</td>\n",
       "      <td>{'full_text': '@realDonaldTrump The Russian As...</td>\n",
       "      <td>0</td>\n",
       "      <td>False</td>\n",
       "      <td>low</td>\n",
       "      <td>...</td>\n",
       "      <td>0</td>\n",
       "      <td>0</td>\n",
       "      <td>False</td>\n",
       "      <td>NaN</td>\n",
       "      <td>&lt;a href=\"http://twitter.com/download/android\" ...</td>\n",
       "      <td>@realDonaldTrump The Russian Asset Donald Trum...</td>\n",
       "      <td>2018-02-08 05:18:41.773</td>\n",
       "      <td>True</td>\n",
       "      <td>{'id': 958747420904497153, 'id_str': '95874742...</td>\n",
       "      <td>NaN</td>\n",
       "    </tr>\n",
       "  </tbody>\n",
       "</table>\n",
       "<p>2 rows × 36 columns</p>\n",
       "</div>"
      ],
      "text/plain": [
       "   contributors coordinates          created_at display_text_range  \\\n",
       "2           NaN        None 2018-02-08 05:18:41           [0, 140]   \n",
       "3           NaN        None 2018-02-08 05:18:41          [17, 140]   \n",
       "\n",
       "                                            entities extended_entities  \\\n",
       "2  {'hashtags': [{'text': 'POTUS', 'indices': [66...               NaN   \n",
       "3  {'hashtags': [], 'urls': [{'url': 'https://t.c...               NaN   \n",
       "\n",
       "                                      extended_tweet  favorite_count  \\\n",
       "2  {'full_text': 'CNN - INTERNATIONAL . THE LEAST...               0   \n",
       "3  {'full_text': '@realDonaldTrump The Russian As...               0   \n",
       "\n",
       "   favorited filter_level          ...          reply_count  retweet_count  \\\n",
       "2      False          low          ...                    0              0   \n",
       "3      False          low          ...                    0              0   \n",
       "\n",
       "   retweeted retweeted_status  \\\n",
       "2      False              NaN   \n",
       "3      False              NaN   \n",
       "\n",
       "                                              source  \\\n",
       "2  <a href=\"http://twitter.com\" rel=\"nofollow\">Tw...   \n",
       "3  <a href=\"http://twitter.com/download/android\" ...   \n",
       "\n",
       "                                                text            timestamp_ms  \\\n",
       "2  CNN - INTERNATIONAL . THE LEAST  TRUSTED  NAME... 2018-02-08 05:18:41.713   \n",
       "3  @realDonaldTrump The Russian Asset Donald Trum... 2018-02-08 05:18:41.773   \n",
       "\n",
       "   truncated                                               user  \\\n",
       "2       True  {'id': 882677034429710336, 'id_str': '88267703...   \n",
       "3       True  {'id': 958747420904497153, 'id_str': '95874742...   \n",
       "\n",
       "  withheld_in_countries  \n",
       "2                   NaN  \n",
       "3                   NaN  \n",
       "\n",
       "[2 rows x 36 columns]"
      ]
     },
     "execution_count": 21,
     "metadata": {},
     "output_type": "execute_result"
    }
   ],
   "source": [
    "b = df[(df['truncated'] == True) & (df['favorited'] == False)]\n",
    "b.head(2)"
   ]
  },
  {
   "cell_type": "code",
   "execution_count": 22,
   "metadata": {},
   "outputs": [
    {
     "name": "stdout",
     "output_type": "stream",
     "text": [
      "AFrame cnt: 564\n",
      "DataFrame cnt: 564\n"
     ]
    }
   ],
   "source": [
    "df_a = a.collect()\n",
    "print('AFrame cnt: %d' % len(df_a))\n",
    "print('DataFrame cnt: %d' % len(b))"
   ]
  }
 ],
 "metadata": {
  "kernelspec": {
   "display_name": "Python 3",
   "language": "python",
   "name": "python3"
  },
  "language_info": {
   "codemirror_mode": {
    "name": "ipython",
    "version": 3
   },
   "file_extension": ".py",
   "mimetype": "text/x-python",
   "name": "python",
   "nbconvert_exporter": "python",
   "pygments_lexer": "ipython3",
   "version": "3.6.4"
  }
 },
 "nbformat": 4,
 "nbformat_minor": 2
}
