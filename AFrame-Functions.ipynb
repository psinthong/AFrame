{
 "cells": [
  {
   "cell_type": "code",
   "execution_count": 1,
   "metadata": {},
   "outputs": [],
   "source": [
    "import aframe as af\n",
    "import pandas as pd\n",
    "import findspark\n",
    "findspark.init()\n",
    "import pyspark\n",
    "from pyspark.sql import Row\n",
    "from pyspark.sql import SQLContext\n",
    "from pyspark import SparkContext\n",
    "from pyspark.sql.functions import *\n",
    "import numpy as np"
   ]
  },
  {
   "cell_type": "code",
   "execution_count": 2,
   "metadata": {},
   "outputs": [],
   "source": [
    "message_af = af.AFrame(dataverse='TinySocial', dataset='GleambookMessages')\n",
    "user_af = af.AFrame(dataverse='TinySocial', dataset='GleambookUsers')\n",
    "message_df = message_af.toPandas()\n",
    "user_df = user_af.toPandas()"
   ]
  },
  {
   "cell_type": "code",
   "execution_count": 3,
   "metadata": {},
   "outputs": [],
   "source": [
    "sc = SparkContext(appName=\"app\")\n",
    "sqlContext = SQLContext(sc)"
   ]
  },
  {
   "cell_type": "code",
   "execution_count": 4,
   "metadata": {},
   "outputs": [],
   "source": [
    "message_spark = sqlContext.createDataFrame(message_df,message_df.columns.tolist())\n",
    "user_spark = sqlContext.createDataFrame(user_df.fillna('None'),user_df.columns.tolist())"
   ]
  },
  {
   "cell_type": "markdown",
   "metadata": {},
   "source": [
    "## Pandas DataFrame Functions"
   ]
  },
  {
   "cell_type": "code",
   "execution_count": 5,
   "metadata": {},
   "outputs": [
    {
     "data": {
      "text/html": [
       "<div>\n",
       "<style scoped>\n",
       "    .dataframe tbody tr th:only-of-type {\n",
       "        vertical-align: middle;\n",
       "    }\n",
       "\n",
       "    .dataframe tbody tr th {\n",
       "        vertical-align: top;\n",
       "    }\n",
       "\n",
       "    .dataframe thead th {\n",
       "        text-align: right;\n",
       "    }\n",
       "</style>\n",
       "<table border=\"1\" class=\"dataframe\">\n",
       "  <thead>\n",
       "    <tr style=\"text-align: right;\">\n",
       "      <th></th>\n",
       "      <th>alias</th>\n",
       "      <th>employment</th>\n",
       "      <th>friendIds</th>\n",
       "      <th>gender</th>\n",
       "      <th>id</th>\n",
       "      <th>name</th>\n",
       "      <th>nickname</th>\n",
       "      <th>userSince</th>\n",
       "    </tr>\n",
       "  </thead>\n",
       "  <tbody>\n",
       "    <tr>\n",
       "      <th>0</th>\n",
       "      <td>Margarita</td>\n",
       "      <td>[{'organizationName': 'Codetechno', 'startDate...</td>\n",
       "      <td>[2, 3, 6, 10]</td>\n",
       "      <td>F</td>\n",
       "      <td>1</td>\n",
       "      <td>MargaritaStoddard</td>\n",
       "      <td>Mags</td>\n",
       "      <td>2012-08-20T10:10:00.000Z</td>\n",
       "    </tr>\n",
       "    <tr>\n",
       "      <th>1</th>\n",
       "      <td>Isbel</td>\n",
       "      <td>[{'organizationName': 'Hexviafind', 'startDate...</td>\n",
       "      <td>[1, 4]</td>\n",
       "      <td>NaN</td>\n",
       "      <td>2</td>\n",
       "      <td>IsbelDull</td>\n",
       "      <td>Izzy</td>\n",
       "      <td>2011-01-22T10:10:00.000Z</td>\n",
       "    </tr>\n",
       "    <tr>\n",
       "      <th>2</th>\n",
       "      <td>Emory</td>\n",
       "      <td>[{'organizationName': 'geomedia', 'startDate':...</td>\n",
       "      <td>[1, 5, 8, 9]</td>\n",
       "      <td>NaN</td>\n",
       "      <td>3</td>\n",
       "      <td>EmoryUnk</td>\n",
       "      <td>NaN</td>\n",
       "      <td>2012-07-10T10:10:00.000Z</td>\n",
       "    </tr>\n",
       "    <tr>\n",
       "      <th>3</th>\n",
       "      <td>Nicholas</td>\n",
       "      <td>[{'organizationName': 'Zamcorporation', 'start...</td>\n",
       "      <td>[2]</td>\n",
       "      <td>NaN</td>\n",
       "      <td>4</td>\n",
       "      <td>NicholasStroh</td>\n",
       "      <td>NaN</td>\n",
       "      <td>2010-12-27T10:10:00.000Z</td>\n",
       "    </tr>\n",
       "    <tr>\n",
       "      <th>4</th>\n",
       "      <td>Von</td>\n",
       "      <td>[{'organizationName': 'Kongreen', 'startDate':...</td>\n",
       "      <td>[3, 6, 10]</td>\n",
       "      <td>NaN</td>\n",
       "      <td>5</td>\n",
       "      <td>VonKemble</td>\n",
       "      <td>NaN</td>\n",
       "      <td>2010-01-05T10:10:00.000Z</td>\n",
       "    </tr>\n",
       "  </tbody>\n",
       "</table>\n",
       "</div>"
      ],
      "text/plain": [
       "       alias                                         employment  \\\n",
       "0  Margarita  [{'organizationName': 'Codetechno', 'startDate...   \n",
       "1      Isbel  [{'organizationName': 'Hexviafind', 'startDate...   \n",
       "2      Emory  [{'organizationName': 'geomedia', 'startDate':...   \n",
       "3   Nicholas  [{'organizationName': 'Zamcorporation', 'start...   \n",
       "4        Von  [{'organizationName': 'Kongreen', 'startDate':...   \n",
       "\n",
       "       friendIds gender  id               name nickname  \\\n",
       "0  [2, 3, 6, 10]      F   1  MargaritaStoddard     Mags   \n",
       "1         [1, 4]    NaN   2          IsbelDull     Izzy   \n",
       "2   [1, 5, 8, 9]    NaN   3           EmoryUnk      NaN   \n",
       "3            [2]    NaN   4      NicholasStroh      NaN   \n",
       "4     [3, 6, 10]    NaN   5          VonKemble      NaN   \n",
       "\n",
       "                  userSince  \n",
       "0  2012-08-20T10:10:00.000Z  \n",
       "1  2011-01-22T10:10:00.000Z  \n",
       "2  2012-07-10T10:10:00.000Z  \n",
       "3  2010-12-27T10:10:00.000Z  \n",
       "4  2010-01-05T10:10:00.000Z  "
      ]
     },
     "execution_count": 5,
     "metadata": {},
     "output_type": "execute_result"
    }
   ],
   "source": [
    "user_df.head()"
   ]
  },
  {
   "cell_type": "markdown",
   "metadata": {},
   "source": [
    "### Elementwise functions"
   ]
  },
  {
   "cell_type": "code",
   "execution_count": 6,
   "metadata": {},
   "outputs": [
    {
     "data": {
      "text/plain": [
       "0    17\n",
       "1     9\n",
       "2     8\n",
       "3    13\n",
       "4     9\n",
       "5    11\n",
       "6    14\n",
       "7    12\n",
       "8    14\n",
       "9     9\n",
       "Name: name, dtype: int64"
      ]
     },
     "execution_count": 6,
     "metadata": {},
     "output_type": "execute_result"
    }
   ],
   "source": [
    "f = lambda x: len(str(x))\n",
    "user_df['name'].map(f)"
   ]
  },
  {
   "cell_type": "code",
   "execution_count": 7,
   "metadata": {},
   "outputs": [
    {
     "data": {
      "text/plain": [
       "0    9\n",
       "1    5\n",
       "2    5\n",
       "3    8\n",
       "4    3\n",
       "5    6\n",
       "6    7\n",
       "7    4\n",
       "8    7\n",
       "9    4\n",
       "Name: alias, dtype: int64"
      ]
     },
     "execution_count": 7,
     "metadata": {},
     "output_type": "execute_result"
    }
   ],
   "source": [
    "user_df['alias'].map(f)"
   ]
  },
  {
   "cell_type": "markdown",
   "metadata": {},
   "source": [
    "### Tablewise functions"
   ]
  },
  {
   "cell_type": "code",
   "execution_count": 8,
   "metadata": {},
   "outputs": [
    {
     "data": {
      "text/plain": [
       "alias         176\n",
       "employment    581\n",
       "friendIds     220\n",
       "gender        117\n",
       "id            103\n",
       "name          255\n",
       "nickname      139\n",
       "userSince     330\n",
       "dtype: int64"
      ]
     },
     "execution_count": 8,
     "metadata": {},
     "output_type": "execute_result"
    }
   ],
   "source": [
    "user_df.apply(f)"
   ]
  },
  {
   "cell_type": "markdown",
   "metadata": {},
   "source": [
    "## AFrame Functions"
   ]
  },
  {
   "cell_type": "markdown",
   "metadata": {},
   "source": [
    "### Elementwise Functions"
   ]
  },
  {
   "cell_type": "code",
   "execution_count": 9,
   "metadata": {},
   "outputs": [],
   "source": [
    "name_len = user_af['name'].map('length')"
   ]
  },
  {
   "cell_type": "code",
   "execution_count": 10,
   "metadata": {},
   "outputs": [
    {
     "data": {
      "text/plain": [
       "'select value length(t.name) from TinySocial.GleambookUsers t;'"
      ]
     },
     "execution_count": 10,
     "metadata": {},
     "output_type": "execute_result"
    }
   ],
   "source": [
    "name_len.query"
   ]
  },
  {
   "cell_type": "code",
   "execution_count": 11,
   "metadata": {},
   "outputs": [
    {
     "data": {
      "text/html": [
       "<div>\n",
       "<style scoped>\n",
       "    .dataframe tbody tr th:only-of-type {\n",
       "        vertical-align: middle;\n",
       "    }\n",
       "\n",
       "    .dataframe tbody tr th {\n",
       "        vertical-align: top;\n",
       "    }\n",
       "\n",
       "    .dataframe thead th {\n",
       "        text-align: right;\n",
       "    }\n",
       "</style>\n",
       "<table border=\"1\" class=\"dataframe\">\n",
       "  <thead>\n",
       "    <tr style=\"text-align: right;\">\n",
       "      <th></th>\n",
       "      <th>0</th>\n",
       "    </tr>\n",
       "  </thead>\n",
       "  <tbody>\n",
       "    <tr>\n",
       "      <th>0</th>\n",
       "      <td>17</td>\n",
       "    </tr>\n",
       "    <tr>\n",
       "      <th>1</th>\n",
       "      <td>9</td>\n",
       "    </tr>\n",
       "    <tr>\n",
       "      <th>2</th>\n",
       "      <td>8</td>\n",
       "    </tr>\n",
       "    <tr>\n",
       "      <th>3</th>\n",
       "      <td>13</td>\n",
       "    </tr>\n",
       "    <tr>\n",
       "      <th>4</th>\n",
       "      <td>9</td>\n",
       "    </tr>\n",
       "    <tr>\n",
       "      <th>5</th>\n",
       "      <td>11</td>\n",
       "    </tr>\n",
       "    <tr>\n",
       "      <th>6</th>\n",
       "      <td>14</td>\n",
       "    </tr>\n",
       "    <tr>\n",
       "      <th>7</th>\n",
       "      <td>12</td>\n",
       "    </tr>\n",
       "    <tr>\n",
       "      <th>8</th>\n",
       "      <td>14</td>\n",
       "    </tr>\n",
       "    <tr>\n",
       "      <th>9</th>\n",
       "      <td>9</td>\n",
       "    </tr>\n",
       "  </tbody>\n",
       "</table>\n",
       "</div>"
      ],
      "text/plain": [
       "    0\n",
       "0  17\n",
       "1   9\n",
       "2   8\n",
       "3  13\n",
       "4   9\n",
       "5  11\n",
       "6  14\n",
       "7  12\n",
       "8  14\n",
       "9   9"
      ]
     },
     "execution_count": 11,
     "metadata": {},
     "output_type": "execute_result"
    }
   ],
   "source": [
    "name_len.collect()"
   ]
  },
  {
   "cell_type": "markdown",
   "metadata": {},
   "source": [
    "### Functions with arguments"
   ]
  },
  {
   "cell_type": "code",
   "execution_count": 12,
   "metadata": {},
   "outputs": [],
   "source": [
    "name_contain = user_af['name'].map('contains', 'Suzan')"
   ]
  },
  {
   "cell_type": "code",
   "execution_count": 13,
   "metadata": {},
   "outputs": [
    {
     "data": {
      "text/plain": [
       "'select value contains(t.name, \"Suzan\") from TinySocial.GleambookUsers t;'"
      ]
     },
     "execution_count": 13,
     "metadata": {},
     "output_type": "execute_result"
    }
   ],
   "source": [
    "name_contain.query"
   ]
  },
  {
   "cell_type": "code",
   "execution_count": 14,
   "metadata": {},
   "outputs": [
    {
     "data": {
      "text/html": [
       "<div>\n",
       "<style scoped>\n",
       "    .dataframe tbody tr th:only-of-type {\n",
       "        vertical-align: middle;\n",
       "    }\n",
       "\n",
       "    .dataframe tbody tr th {\n",
       "        vertical-align: top;\n",
       "    }\n",
       "\n",
       "    .dataframe thead th {\n",
       "        text-align: right;\n",
       "    }\n",
       "</style>\n",
       "<table border=\"1\" class=\"dataframe\">\n",
       "  <thead>\n",
       "    <tr style=\"text-align: right;\">\n",
       "      <th></th>\n",
       "      <th>0</th>\n",
       "    </tr>\n",
       "  </thead>\n",
       "  <tbody>\n",
       "    <tr>\n",
       "      <th>0</th>\n",
       "      <td>False</td>\n",
       "    </tr>\n",
       "    <tr>\n",
       "      <th>1</th>\n",
       "      <td>False</td>\n",
       "    </tr>\n",
       "    <tr>\n",
       "      <th>2</th>\n",
       "      <td>False</td>\n",
       "    </tr>\n",
       "    <tr>\n",
       "      <th>3</th>\n",
       "      <td>False</td>\n",
       "    </tr>\n",
       "    <tr>\n",
       "      <th>4</th>\n",
       "      <td>False</td>\n",
       "    </tr>\n",
       "    <tr>\n",
       "      <th>5</th>\n",
       "      <td>False</td>\n",
       "    </tr>\n",
       "    <tr>\n",
       "      <th>6</th>\n",
       "      <td>True</td>\n",
       "    </tr>\n",
       "    <tr>\n",
       "      <th>7</th>\n",
       "      <td>False</td>\n",
       "    </tr>\n",
       "    <tr>\n",
       "      <th>8</th>\n",
       "      <td>False</td>\n",
       "    </tr>\n",
       "    <tr>\n",
       "      <th>9</th>\n",
       "      <td>False</td>\n",
       "    </tr>\n",
       "  </tbody>\n",
       "</table>\n",
       "</div>"
      ],
      "text/plain": [
       "       0\n",
       "0  False\n",
       "1  False\n",
       "2  False\n",
       "3  False\n",
       "4  False\n",
       "5  False\n",
       "6   True\n",
       "7  False\n",
       "8  False\n",
       "9  False"
      ]
     },
     "execution_count": 14,
     "metadata": {},
     "output_type": "execute_result"
    }
   ],
   "source": [
    "name_contain.collect()"
   ]
  },
  {
   "cell_type": "markdown",
   "metadata": {},
   "source": [
    "### Tablewise Functions"
   ]
  },
  {
   "cell_type": "code",
   "execution_count": 15,
   "metadata": {},
   "outputs": [],
   "source": [
    "fields = message_af.apply('get_object_fields')"
   ]
  },
  {
   "cell_type": "code",
   "execution_count": 16,
   "metadata": {},
   "outputs": [
    {
     "data": {
      "text/plain": [
       "'select value get_object_fields(t) from TinySocial.GleambookMessages t;'"
      ]
     },
     "execution_count": 16,
     "metadata": {},
     "output_type": "execute_result"
    }
   ],
   "source": [
    "fields.query"
   ]
  },
  {
   "cell_type": "code",
   "execution_count": 17,
   "metadata": {},
   "outputs": [
    {
     "data": {
      "text/html": [
       "<div>\n",
       "<style scoped>\n",
       "    .dataframe tbody tr th:only-of-type {\n",
       "        vertical-align: middle;\n",
       "    }\n",
       "\n",
       "    .dataframe tbody tr th {\n",
       "        vertical-align: top;\n",
       "    }\n",
       "\n",
       "    .dataframe thead th {\n",
       "        text-align: right;\n",
       "    }\n",
       "</style>\n",
       "<table border=\"1\" class=\"dataframe\">\n",
       "  <thead>\n",
       "    <tr style=\"text-align: right;\">\n",
       "      <th></th>\n",
       "      <th>0</th>\n",
       "      <th>1</th>\n",
       "      <th>2</th>\n",
       "      <th>3</th>\n",
       "      <th>4</th>\n",
       "    </tr>\n",
       "  </thead>\n",
       "  <tbody>\n",
       "    <tr>\n",
       "      <th>0</th>\n",
       "      <td>{'field-name': 'messageId', 'field-type': 'big...</td>\n",
       "      <td>{'field-name': 'authorId', 'field-type': 'bigi...</td>\n",
       "      <td>{'field-name': 'inResponseTo', 'field-type': '...</td>\n",
       "      <td>{'field-name': 'senderLocation', 'field-type':...</td>\n",
       "      <td>{'field-name': 'message', 'field-type': 'strin...</td>\n",
       "    </tr>\n",
       "  </tbody>\n",
       "</table>\n",
       "</div>"
      ],
      "text/plain": [
       "                                                   0  \\\n",
       "0  {'field-name': 'messageId', 'field-type': 'big...   \n",
       "\n",
       "                                                   1  \\\n",
       "0  {'field-name': 'authorId', 'field-type': 'bigi...   \n",
       "\n",
       "                                                   2  \\\n",
       "0  {'field-name': 'inResponseTo', 'field-type': '...   \n",
       "\n",
       "                                                   3  \\\n",
       "0  {'field-name': 'senderLocation', 'field-type':...   \n",
       "\n",
       "                                                   4  \n",
       "0  {'field-name': 'message', 'field-type': 'strin...  "
      ]
     },
     "execution_count": 17,
     "metadata": {},
     "output_type": "execute_result"
    }
   ],
   "source": [
    "fields.head(1)"
   ]
  },
  {
   "cell_type": "markdown",
   "metadata": {},
   "source": [
    "### PySpark"
   ]
  },
  {
   "cell_type": "code",
   "execution_count": 18,
   "metadata": {},
   "outputs": [
    {
     "name": "stdout",
     "output_type": "stream",
     "text": [
      "+---------+--------------------+-------------+------+---+-----------------+--------+--------------------+\n",
      "|    alias|          employment|    friendIds|gender| id|             name|nickname|           userSince|\n",
      "+---------+--------------------+-------------+------+---+-----------------+--------+--------------------+\n",
      "|Margarita|[[organizationNam...|[2, 3, 6, 10]|     F|  1|MargaritaStoddard|    Mags|2012-08-20T10:10:...|\n",
      "|    Isbel|[[organizationNam...|       [1, 4]|  None|  2|        IsbelDull|    Izzy|2011-01-22T10:10:...|\n",
      "|    Emory|[[organizationNam...| [1, 5, 8, 9]|  None|  3|         EmoryUnk|    None|2012-07-10T10:10:...|\n",
      "| Nicholas|[[organizationNam...|          [2]|  None|  4|    NicholasStroh|    None|2010-12-27T10:10:...|\n",
      "|      Von|[[organizationNam...|   [3, 6, 10]|  None|  5|        VonKemble|    None|2010-01-05T10:10:...|\n",
      "|   Willis|[[organizationNam...|    [1, 3, 7]|  None|  6|      WillisWynne|    None|2005-01-17T10:10:...|\n",
      "|  Suzanna|[[organizationNam...|          [6]|  None|  7|   SuzannaTillson|    None|2012-08-07T10:10:...|\n",
      "|     Nila|[[organizationNam...|          [3]|  None|  8|     NilaMilliron|    None|2008-01-01T10:10:...|\n",
      "|  Woodrow|[[organizationNam...|      [3, 10]|  None|  9|   WoodrowNehling|   Woody|2005-09-20T10:10:...|\n",
      "|     Bram|[[organizationNam...|    [1, 5, 9]|  None| 10|        BramHatch|    None|2010-10-16T10:10:...|\n",
      "+---------+--------------------+-------------+------+---+-----------------+--------+--------------------+\n",
      "\n"
     ]
    }
   ],
   "source": [
    "user_spark.show()"
   ]
  },
  {
   "cell_type": "code",
   "execution_count": 19,
   "metadata": {},
   "outputs": [
    {
     "name": "stdout",
     "output_type": "stream",
     "text": [
      "+---+\n",
      "|col|\n",
      "+---+\n",
      "|  2|\n",
      "|  3|\n",
      "|  6|\n",
      "| 10|\n",
      "|  1|\n",
      "|  4|\n",
      "|  1|\n",
      "|  5|\n",
      "|  8|\n",
      "|  9|\n",
      "|  2|\n",
      "|  3|\n",
      "|  6|\n",
      "| 10|\n",
      "|  1|\n",
      "|  3|\n",
      "|  7|\n",
      "|  6|\n",
      "|  3|\n",
      "|  3|\n",
      "+---+\n",
      "only showing top 20 rows\n",
      "\n"
     ]
    }
   ],
   "source": [
    "user_spark.select(explode(user_spark['friendIds'])).show()"
   ]
  },
  {
   "cell_type": "code",
   "execution_count": 20,
   "metadata": {},
   "outputs": [
    {
     "name": "stdout",
     "output_type": "stream",
     "text": [
      "+---------+--------------------+-------------+------+---+-----------------+--------+--------------------+------+\n",
      "|    alias|          employment|    friendIds|gender| id|             name|nickname|           userSince|friend|\n",
      "+---------+--------------------+-------------+------+---+-----------------+--------+--------------------+------+\n",
      "|Margarita|[[organizationNam...|[2, 3, 6, 10]|     F|  1|MargaritaStoddard|    Mags|2012-08-20T10:10:...|     2|\n",
      "|Margarita|[[organizationNam...|[2, 3, 6, 10]|     F|  1|MargaritaStoddard|    Mags|2012-08-20T10:10:...|     3|\n",
      "+---------+--------------------+-------------+------+---+-----------------+--------+--------------------+------+\n",
      "only showing top 2 rows\n",
      "\n"
     ]
    }
   ],
   "source": [
    "user_spark.withColumn('friend', explode('friendIds')).show(2)"
   ]
  },
  {
   "cell_type": "markdown",
   "metadata": {},
   "source": [
    "### AFrame Unnest Data"
   ]
  },
  {
   "cell_type": "code",
   "execution_count": 21,
   "metadata": {},
   "outputs": [
    {
     "data": {
      "text/html": [
       "<div>\n",
       "<style scoped>\n",
       "    .dataframe tbody tr th:only-of-type {\n",
       "        vertical-align: middle;\n",
       "    }\n",
       "\n",
       "    .dataframe tbody tr th {\n",
       "        vertical-align: top;\n",
       "    }\n",
       "\n",
       "    .dataframe thead th {\n",
       "        text-align: right;\n",
       "    }\n",
       "</style>\n",
       "<table border=\"1\" class=\"dataframe\">\n",
       "  <thead>\n",
       "    <tr style=\"text-align: right;\">\n",
       "      <th></th>\n",
       "      <th>0</th>\n",
       "    </tr>\n",
       "  </thead>\n",
       "  <tbody>\n",
       "    <tr>\n",
       "      <th>0</th>\n",
       "      <td>2</td>\n",
       "    </tr>\n",
       "    <tr>\n",
       "      <th>1</th>\n",
       "      <td>3</td>\n",
       "    </tr>\n",
       "    <tr>\n",
       "      <th>2</th>\n",
       "      <td>6</td>\n",
       "    </tr>\n",
       "    <tr>\n",
       "      <th>3</th>\n",
       "      <td>10</td>\n",
       "    </tr>\n",
       "    <tr>\n",
       "      <th>4</th>\n",
       "      <td>1</td>\n",
       "    </tr>\n",
       "  </tbody>\n",
       "</table>\n",
       "</div>"
      ],
      "text/plain": [
       "    0\n",
       "0   2\n",
       "1   3\n",
       "2   6\n",
       "3  10\n",
       "4   1"
      ]
     },
     "execution_count": 21,
     "metadata": {},
     "output_type": "execute_result"
    }
   ],
   "source": [
    "user_af.unnest(user_af['friendIds']).head()"
   ]
  },
  {
   "cell_type": "code",
   "execution_count": 22,
   "metadata": {},
   "outputs": [
    {
     "data": {
      "text/plain": [
       "'select u friend, t.* from TinySocial.GleambookUsers t unnest t.friendIds u;'"
      ]
     },
     "execution_count": 22,
     "metadata": {},
     "output_type": "execute_result"
    }
   ],
   "source": [
    "user_af.unnest(user_af['friendIds'], appended=True, name='friend').query"
   ]
  },
  {
   "cell_type": "code",
   "execution_count": 23,
   "metadata": {},
   "outputs": [
    {
     "data": {
      "text/html": [
       "<div>\n",
       "<style scoped>\n",
       "    .dataframe tbody tr th:only-of-type {\n",
       "        vertical-align: middle;\n",
       "    }\n",
       "\n",
       "    .dataframe tbody tr th {\n",
       "        vertical-align: top;\n",
       "    }\n",
       "\n",
       "    .dataframe thead th {\n",
       "        text-align: right;\n",
       "    }\n",
       "</style>\n",
       "<table border=\"1\" class=\"dataframe\">\n",
       "  <thead>\n",
       "    <tr style=\"text-align: right;\">\n",
       "      <th></th>\n",
       "      <th>alias</th>\n",
       "      <th>employment</th>\n",
       "      <th>friendID</th>\n",
       "      <th>friendIds</th>\n",
       "      <th>gender</th>\n",
       "      <th>id</th>\n",
       "      <th>name</th>\n",
       "      <th>nickname</th>\n",
       "      <th>userSince</th>\n",
       "    </tr>\n",
       "  </thead>\n",
       "  <tbody>\n",
       "    <tr>\n",
       "      <th>0</th>\n",
       "      <td>Margarita</td>\n",
       "      <td>[{'organizationName': 'Codetechno', 'startDate...</td>\n",
       "      <td>2</td>\n",
       "      <td>[2, 3, 6, 10]</td>\n",
       "      <td>F</td>\n",
       "      <td>1</td>\n",
       "      <td>MargaritaStoddard</td>\n",
       "      <td>Mags</td>\n",
       "      <td>2012-08-20T10:10:00.000Z</td>\n",
       "    </tr>\n",
       "    <tr>\n",
       "      <th>1</th>\n",
       "      <td>Margarita</td>\n",
       "      <td>[{'organizationName': 'Codetechno', 'startDate...</td>\n",
       "      <td>3</td>\n",
       "      <td>[2, 3, 6, 10]</td>\n",
       "      <td>F</td>\n",
       "      <td>1</td>\n",
       "      <td>MargaritaStoddard</td>\n",
       "      <td>Mags</td>\n",
       "      <td>2012-08-20T10:10:00.000Z</td>\n",
       "    </tr>\n",
       "    <tr>\n",
       "      <th>2</th>\n",
       "      <td>Margarita</td>\n",
       "      <td>[{'organizationName': 'Codetechno', 'startDate...</td>\n",
       "      <td>6</td>\n",
       "      <td>[2, 3, 6, 10]</td>\n",
       "      <td>F</td>\n",
       "      <td>1</td>\n",
       "      <td>MargaritaStoddard</td>\n",
       "      <td>Mags</td>\n",
       "      <td>2012-08-20T10:10:00.000Z</td>\n",
       "    </tr>\n",
       "    <tr>\n",
       "      <th>3</th>\n",
       "      <td>Margarita</td>\n",
       "      <td>[{'organizationName': 'Codetechno', 'startDate...</td>\n",
       "      <td>10</td>\n",
       "      <td>[2, 3, 6, 10]</td>\n",
       "      <td>F</td>\n",
       "      <td>1</td>\n",
       "      <td>MargaritaStoddard</td>\n",
       "      <td>Mags</td>\n",
       "      <td>2012-08-20T10:10:00.000Z</td>\n",
       "    </tr>\n",
       "    <tr>\n",
       "      <th>4</th>\n",
       "      <td>Isbel</td>\n",
       "      <td>[{'organizationName': 'Hexviafind', 'startDate...</td>\n",
       "      <td>1</td>\n",
       "      <td>[1, 4]</td>\n",
       "      <td>NaN</td>\n",
       "      <td>2</td>\n",
       "      <td>IsbelDull</td>\n",
       "      <td>Izzy</td>\n",
       "      <td>2011-01-22T10:10:00.000Z</td>\n",
       "    </tr>\n",
       "  </tbody>\n",
       "</table>\n",
       "</div>"
      ],
      "text/plain": [
       "       alias                                         employment  friendID  \\\n",
       "0  Margarita  [{'organizationName': 'Codetechno', 'startDate...         2   \n",
       "1  Margarita  [{'organizationName': 'Codetechno', 'startDate...         3   \n",
       "2  Margarita  [{'organizationName': 'Codetechno', 'startDate...         6   \n",
       "3  Margarita  [{'organizationName': 'Codetechno', 'startDate...        10   \n",
       "4      Isbel  [{'organizationName': 'Hexviafind', 'startDate...         1   \n",
       "\n",
       "       friendIds gender  id               name nickname  \\\n",
       "0  [2, 3, 6, 10]      F   1  MargaritaStoddard     Mags   \n",
       "1  [2, 3, 6, 10]      F   1  MargaritaStoddard     Mags   \n",
       "2  [2, 3, 6, 10]      F   1  MargaritaStoddard     Mags   \n",
       "3  [2, 3, 6, 10]      F   1  MargaritaStoddard     Mags   \n",
       "4         [1, 4]    NaN   2          IsbelDull     Izzy   \n",
       "\n",
       "                  userSince  \n",
       "0  2012-08-20T10:10:00.000Z  \n",
       "1  2012-08-20T10:10:00.000Z  \n",
       "2  2012-08-20T10:10:00.000Z  \n",
       "3  2012-08-20T10:10:00.000Z  \n",
       "4  2011-01-22T10:10:00.000Z  "
      ]
     },
     "execution_count": 23,
     "metadata": {},
     "output_type": "execute_result"
    }
   ],
   "source": [
    "user_af.unnest(user_af['friendIds'], appended=True, name='friendID').head()"
   ]
  },
  {
   "cell_type": "markdown",
   "metadata": {},
   "source": [
    "### Arithmetic Operations"
   ]
  },
  {
   "cell_type": "code",
   "execution_count": 24,
   "metadata": {},
   "outputs": [
    {
     "data": {
      "text/plain": [
       "'select value t.id + 3 from TinySocial.GleambookUsers t;'"
      ]
     },
     "execution_count": 24,
     "metadata": {},
     "output_type": "execute_result"
    }
   ],
   "source": [
    "(user_af['id'] + 3).query"
   ]
  },
  {
   "cell_type": "code",
   "execution_count": 25,
   "metadata": {},
   "outputs": [
    {
     "data": {
      "text/html": [
       "<div>\n",
       "<style scoped>\n",
       "    .dataframe tbody tr th:only-of-type {\n",
       "        vertical-align: middle;\n",
       "    }\n",
       "\n",
       "    .dataframe tbody tr th {\n",
       "        vertical-align: top;\n",
       "    }\n",
       "\n",
       "    .dataframe thead th {\n",
       "        text-align: right;\n",
       "    }\n",
       "</style>\n",
       "<table border=\"1\" class=\"dataframe\">\n",
       "  <thead>\n",
       "    <tr style=\"text-align: right;\">\n",
       "      <th></th>\n",
       "      <th>0</th>\n",
       "    </tr>\n",
       "  </thead>\n",
       "  <tbody>\n",
       "    <tr>\n",
       "      <th>0</th>\n",
       "      <td>4</td>\n",
       "    </tr>\n",
       "    <tr>\n",
       "      <th>1</th>\n",
       "      <td>5</td>\n",
       "    </tr>\n",
       "    <tr>\n",
       "      <th>2</th>\n",
       "      <td>6</td>\n",
       "    </tr>\n",
       "    <tr>\n",
       "      <th>3</th>\n",
       "      <td>7</td>\n",
       "    </tr>\n",
       "    <tr>\n",
       "      <th>4</th>\n",
       "      <td>8</td>\n",
       "    </tr>\n",
       "  </tbody>\n",
       "</table>\n",
       "</div>"
      ],
      "text/plain": [
       "   0\n",
       "0  4\n",
       "1  5\n",
       "2  6\n",
       "3  7\n",
       "4  8"
      ]
     },
     "execution_count": 25,
     "metadata": {},
     "output_type": "execute_result"
    }
   ],
   "source": [
    "user_af['id'].add(3).head()"
   ]
  },
  {
   "cell_type": "code",
   "execution_count": 26,
   "metadata": {},
   "outputs": [
    {
     "data": {
      "text/html": [
       "<div>\n",
       "<style scoped>\n",
       "    .dataframe tbody tr th:only-of-type {\n",
       "        vertical-align: middle;\n",
       "    }\n",
       "\n",
       "    .dataframe tbody tr th {\n",
       "        vertical-align: top;\n",
       "    }\n",
       "\n",
       "    .dataframe thead th {\n",
       "        text-align: right;\n",
       "    }\n",
       "</style>\n",
       "<table border=\"1\" class=\"dataframe\">\n",
       "  <thead>\n",
       "    <tr style=\"text-align: right;\">\n",
       "      <th></th>\n",
       "      <th>0</th>\n",
       "    </tr>\n",
       "  </thead>\n",
       "  <tbody>\n",
       "    <tr>\n",
       "      <th>0</th>\n",
       "      <td>3</td>\n",
       "    </tr>\n",
       "    <tr>\n",
       "      <th>1</th>\n",
       "      <td>6</td>\n",
       "    </tr>\n",
       "    <tr>\n",
       "      <th>2</th>\n",
       "      <td>9</td>\n",
       "    </tr>\n",
       "    <tr>\n",
       "      <th>3</th>\n",
       "      <td>12</td>\n",
       "    </tr>\n",
       "    <tr>\n",
       "      <th>4</th>\n",
       "      <td>15</td>\n",
       "    </tr>\n",
       "  </tbody>\n",
       "</table>\n",
       "</div>"
      ],
      "text/plain": [
       "    0\n",
       "0   3\n",
       "1   6\n",
       "2   9\n",
       "3  12\n",
       "4  15"
      ]
     },
     "execution_count": 26,
     "metadata": {},
     "output_type": "execute_result"
    }
   ],
   "source": [
    "user_af['id'].mul(3).head()"
   ]
  },
  {
   "cell_type": "markdown",
   "metadata": {},
   "source": [
    "## Persisting Data in AFrame"
   ]
  },
  {
   "cell_type": "code",
   "execution_count": 27,
   "metadata": {},
   "outputs": [],
   "source": [
    "message_af = af.AFrame(dataverse='TinySocial', dataset='GleambookMessages')\n",
    "user_af = af.AFrame(dataverse='TinySocial', dataset='GleambookUsers')"
   ]
  },
  {
   "cell_type": "code",
   "execution_count": 28,
   "metadata": {},
   "outputs": [
    {
     "data": {
      "text/html": [
       "<div>\n",
       "<style scoped>\n",
       "    .dataframe tbody tr th:only-of-type {\n",
       "        vertical-align: middle;\n",
       "    }\n",
       "\n",
       "    .dataframe tbody tr th {\n",
       "        vertical-align: top;\n",
       "    }\n",
       "\n",
       "    .dataframe thead th {\n",
       "        text-align: right;\n",
       "    }\n",
       "</style>\n",
       "<table border=\"1\" class=\"dataframe\">\n",
       "  <thead>\n",
       "    <tr style=\"text-align: right;\">\n",
       "      <th></th>\n",
       "      <th>alias</th>\n",
       "      <th>employment</th>\n",
       "      <th>friendIds</th>\n",
       "      <th>gender</th>\n",
       "      <th>id</th>\n",
       "      <th>name</th>\n",
       "      <th>nickname</th>\n",
       "      <th>userSince</th>\n",
       "    </tr>\n",
       "  </thead>\n",
       "  <tbody>\n",
       "    <tr>\n",
       "      <th>0</th>\n",
       "      <td>Margarita</td>\n",
       "      <td>[{'organizationName': 'Codetechno', 'startDate...</td>\n",
       "      <td>[2, 3, 6, 10]</td>\n",
       "      <td>F</td>\n",
       "      <td>1</td>\n",
       "      <td>MargaritaStoddard</td>\n",
       "      <td>Mags</td>\n",
       "      <td>2012-08-20T10:10:00.000Z</td>\n",
       "    </tr>\n",
       "    <tr>\n",
       "      <th>1</th>\n",
       "      <td>Isbel</td>\n",
       "      <td>[{'organizationName': 'Hexviafind', 'startDate...</td>\n",
       "      <td>[1, 4]</td>\n",
       "      <td>NaN</td>\n",
       "      <td>2</td>\n",
       "      <td>IsbelDull</td>\n",
       "      <td>Izzy</td>\n",
       "      <td>2011-01-22T10:10:00.000Z</td>\n",
       "    </tr>\n",
       "  </tbody>\n",
       "</table>\n",
       "</div>"
      ],
      "text/plain": [
       "       alias                                         employment  \\\n",
       "0  Margarita  [{'organizationName': 'Codetechno', 'startDate...   \n",
       "1      Isbel  [{'organizationName': 'Hexviafind', 'startDate...   \n",
       "\n",
       "       friendIds gender  id               name nickname  \\\n",
       "0  [2, 3, 6, 10]      F   1  MargaritaStoddard     Mags   \n",
       "1         [1, 4]    NaN   2          IsbelDull     Izzy   \n",
       "\n",
       "                  userSince  \n",
       "0  2012-08-20T10:10:00.000Z  \n",
       "1  2011-01-22T10:10:00.000Z  "
      ]
     },
     "execution_count": 28,
     "metadata": {},
     "output_type": "execute_result"
    }
   ],
   "source": [
    "user_af.toPandas().head(2)"
   ]
  },
  {
   "cell_type": "code",
   "execution_count": 29,
   "metadata": {},
   "outputs": [
    {
     "data": {
      "text/html": [
       "<div>\n",
       "<style scoped>\n",
       "    .dataframe tbody tr th:only-of-type {\n",
       "        vertical-align: middle;\n",
       "    }\n",
       "\n",
       "    .dataframe tbody tr th {\n",
       "        vertical-align: top;\n",
       "    }\n",
       "\n",
       "    .dataframe thead th {\n",
       "        text-align: right;\n",
       "    }\n",
       "</style>\n",
       "<table border=\"1\" class=\"dataframe\">\n",
       "  <thead>\n",
       "    <tr style=\"text-align: right;\">\n",
       "      <th></th>\n",
       "      <th>alias</th>\n",
       "      <th>employment</th>\n",
       "      <th>friendIds</th>\n",
       "      <th>gender</th>\n",
       "      <th>id</th>\n",
       "      <th>id_3</th>\n",
       "      <th>name</th>\n",
       "      <th>nickname</th>\n",
       "      <th>userSince</th>\n",
       "    </tr>\n",
       "  </thead>\n",
       "  <tbody>\n",
       "    <tr>\n",
       "      <th>0</th>\n",
       "      <td>Margarita</td>\n",
       "      <td>[{'organizationName': 'Codetechno', 'startDate...</td>\n",
       "      <td>[2, 3, 6, 10]</td>\n",
       "      <td>F</td>\n",
       "      <td>1</td>\n",
       "      <td>4</td>\n",
       "      <td>MargaritaStoddard</td>\n",
       "      <td>Mags</td>\n",
       "      <td>2012-08-20T10:10:00.000Z</td>\n",
       "    </tr>\n",
       "    <tr>\n",
       "      <th>1</th>\n",
       "      <td>Isbel</td>\n",
       "      <td>[{'organizationName': 'Hexviafind', 'startDate...</td>\n",
       "      <td>[1, 4]</td>\n",
       "      <td>NaN</td>\n",
       "      <td>2</td>\n",
       "      <td>5</td>\n",
       "      <td>IsbelDull</td>\n",
       "      <td>Izzy</td>\n",
       "      <td>2011-01-22T10:10:00.000Z</td>\n",
       "    </tr>\n",
       "    <tr>\n",
       "      <th>2</th>\n",
       "      <td>Emory</td>\n",
       "      <td>[{'organizationName': 'geomedia', 'startDate':...</td>\n",
       "      <td>[1, 5, 8, 9]</td>\n",
       "      <td>NaN</td>\n",
       "      <td>3</td>\n",
       "      <td>6</td>\n",
       "      <td>EmoryUnk</td>\n",
       "      <td>NaN</td>\n",
       "      <td>2012-07-10T10:10:00.000Z</td>\n",
       "    </tr>\n",
       "    <tr>\n",
       "      <th>3</th>\n",
       "      <td>Nicholas</td>\n",
       "      <td>[{'organizationName': 'Zamcorporation', 'start...</td>\n",
       "      <td>[2]</td>\n",
       "      <td>NaN</td>\n",
       "      <td>4</td>\n",
       "      <td>7</td>\n",
       "      <td>NicholasStroh</td>\n",
       "      <td>NaN</td>\n",
       "      <td>2010-12-27T10:10:00.000Z</td>\n",
       "    </tr>\n",
       "    <tr>\n",
       "      <th>4</th>\n",
       "      <td>Von</td>\n",
       "      <td>[{'organizationName': 'Kongreen', 'startDate':...</td>\n",
       "      <td>[3, 6, 10]</td>\n",
       "      <td>NaN</td>\n",
       "      <td>5</td>\n",
       "      <td>8</td>\n",
       "      <td>VonKemble</td>\n",
       "      <td>NaN</td>\n",
       "      <td>2010-01-05T10:10:00.000Z</td>\n",
       "    </tr>\n",
       "  </tbody>\n",
       "</table>\n",
       "</div>"
      ],
      "text/plain": [
       "       alias                                         employment  \\\n",
       "0  Margarita  [{'organizationName': 'Codetechno', 'startDate...   \n",
       "1      Isbel  [{'organizationName': 'Hexviafind', 'startDate...   \n",
       "2      Emory  [{'organizationName': 'geomedia', 'startDate':...   \n",
       "3   Nicholas  [{'organizationName': 'Zamcorporation', 'start...   \n",
       "4        Von  [{'organizationName': 'Kongreen', 'startDate':...   \n",
       "\n",
       "       friendIds gender  id  id_3               name nickname  \\\n",
       "0  [2, 3, 6, 10]      F   1     4  MargaritaStoddard     Mags   \n",
       "1         [1, 4]    NaN   2     5          IsbelDull     Izzy   \n",
       "2   [1, 5, 8, 9]    NaN   3     6           EmoryUnk      NaN   \n",
       "3            [2]    NaN   4     7      NicholasStroh      NaN   \n",
       "4     [3, 6, 10]    NaN   5     8          VonKemble      NaN   \n",
       "\n",
       "                  userSince  \n",
       "0  2012-08-20T10:10:00.000Z  \n",
       "1  2011-01-22T10:10:00.000Z  \n",
       "2  2012-07-10T10:10:00.000Z  \n",
       "3  2010-12-27T10:10:00.000Z  \n",
       "4  2010-01-05T10:10:00.000Z  "
      ]
     },
     "execution_count": 29,
     "metadata": {},
     "output_type": "execute_result"
    }
   ],
   "source": [
    "tmp = user_af.withColumn('id_3', user_af['id']+3)\n",
    "tmp.head()"
   ]
  },
  {
   "cell_type": "code",
   "execution_count": 42,
   "metadata": {},
   "outputs": [
    {
     "data": {
      "text/plain": [
       "'select u friendID, t.* from TinySocial.GleambookUsers t unnest t.friendIds u;'"
      ]
     },
     "execution_count": 42,
     "metadata": {},
     "output_type": "execute_result"
    }
   ],
   "source": [
    "tmp.query"
   ]
  },
  {
   "cell_type": "code",
   "execution_count": 31,
   "metadata": {},
   "outputs": [],
   "source": [
    "new_af = tmp.persist('UserCopy')"
   ]
  },
  {
   "cell_type": "code",
   "execution_count": 32,
   "metadata": {},
   "outputs": [
    {
     "data": {
      "text/plain": [
       "aframe.AFrame"
      ]
     },
     "execution_count": 32,
     "metadata": {},
     "output_type": "execute_result"
    }
   ],
   "source": [
    "type(new_af)"
   ]
  },
  {
   "cell_type": "code",
   "execution_count": 33,
   "metadata": {},
   "outputs": [
    {
     "data": {
      "text/plain": [
       "'_Temp'"
      ]
     },
     "execution_count": 33,
     "metadata": {},
     "output_type": "execute_result"
    }
   ],
   "source": [
    "new_af._dataverse"
   ]
  },
  {
   "cell_type": "code",
   "execution_count": 34,
   "metadata": {},
   "outputs": [
    {
     "data": {
      "text/plain": [
       "'UserCopy'"
      ]
     },
     "execution_count": 34,
     "metadata": {},
     "output_type": "execute_result"
    }
   ],
   "source": [
    "new_af._dataset"
   ]
  },
  {
   "cell_type": "code",
   "execution_count": 35,
   "metadata": {},
   "outputs": [
    {
     "data": {
      "text/html": [
       "<div>\n",
       "<style scoped>\n",
       "    .dataframe tbody tr th:only-of-type {\n",
       "        vertical-align: middle;\n",
       "    }\n",
       "\n",
       "    .dataframe tbody tr th {\n",
       "        vertical-align: top;\n",
       "    }\n",
       "\n",
       "    .dataframe thead th {\n",
       "        text-align: right;\n",
       "    }\n",
       "</style>\n",
       "<table border=\"1\" class=\"dataframe\">\n",
       "  <thead>\n",
       "    <tr style=\"text-align: right;\">\n",
       "      <th></th>\n",
       "      <th>alias</th>\n",
       "      <th>employment</th>\n",
       "      <th>friendIds</th>\n",
       "      <th>gender</th>\n",
       "      <th>id</th>\n",
       "      <th>id_3</th>\n",
       "      <th>name</th>\n",
       "      <th>nickname</th>\n",
       "      <th>userSince</th>\n",
       "    </tr>\n",
       "  </thead>\n",
       "  <tbody>\n",
       "    <tr>\n",
       "      <th>0</th>\n",
       "      <td>Margarita</td>\n",
       "      <td>[{'organizationName': 'Codetechno', 'startDate...</td>\n",
       "      <td>[2, 3, 6, 10]</td>\n",
       "      <td>F</td>\n",
       "      <td>1</td>\n",
       "      <td>4</td>\n",
       "      <td>MargaritaStoddard</td>\n",
       "      <td>Mags</td>\n",
       "      <td>2012-08-20T10:10:00.000Z</td>\n",
       "    </tr>\n",
       "    <tr>\n",
       "      <th>1</th>\n",
       "      <td>Isbel</td>\n",
       "      <td>[{'organizationName': 'Hexviafind', 'startDate...</td>\n",
       "      <td>[1, 4]</td>\n",
       "      <td>NaN</td>\n",
       "      <td>2</td>\n",
       "      <td>5</td>\n",
       "      <td>IsbelDull</td>\n",
       "      <td>Izzy</td>\n",
       "      <td>2011-01-22T10:10:00.000Z</td>\n",
       "    </tr>\n",
       "    <tr>\n",
       "      <th>2</th>\n",
       "      <td>Emory</td>\n",
       "      <td>[{'organizationName': 'geomedia', 'startDate':...</td>\n",
       "      <td>[1, 5, 8, 9]</td>\n",
       "      <td>NaN</td>\n",
       "      <td>3</td>\n",
       "      <td>6</td>\n",
       "      <td>EmoryUnk</td>\n",
       "      <td>NaN</td>\n",
       "      <td>2012-07-10T10:10:00.000Z</td>\n",
       "    </tr>\n",
       "    <tr>\n",
       "      <th>3</th>\n",
       "      <td>Nicholas</td>\n",
       "      <td>[{'organizationName': 'Zamcorporation', 'start...</td>\n",
       "      <td>[2]</td>\n",
       "      <td>NaN</td>\n",
       "      <td>4</td>\n",
       "      <td>7</td>\n",
       "      <td>NicholasStroh</td>\n",
       "      <td>NaN</td>\n",
       "      <td>2010-12-27T10:10:00.000Z</td>\n",
       "    </tr>\n",
       "    <tr>\n",
       "      <th>4</th>\n",
       "      <td>Von</td>\n",
       "      <td>[{'organizationName': 'Kongreen', 'startDate':...</td>\n",
       "      <td>[3, 6, 10]</td>\n",
       "      <td>NaN</td>\n",
       "      <td>5</td>\n",
       "      <td>8</td>\n",
       "      <td>VonKemble</td>\n",
       "      <td>NaN</td>\n",
       "      <td>2010-01-05T10:10:00.000Z</td>\n",
       "    </tr>\n",
       "    <tr>\n",
       "      <th>5</th>\n",
       "      <td>Willis</td>\n",
       "      <td>[{'organizationName': 'jaydax', 'startDate': '...</td>\n",
       "      <td>[1, 3, 7]</td>\n",
       "      <td>NaN</td>\n",
       "      <td>6</td>\n",
       "      <td>9</td>\n",
       "      <td>WillisWynne</td>\n",
       "      <td>NaN</td>\n",
       "      <td>2005-01-17T10:10:00.000Z</td>\n",
       "    </tr>\n",
       "    <tr>\n",
       "      <th>6</th>\n",
       "      <td>Suzanna</td>\n",
       "      <td>[{'organizationName': 'Labzatron', 'startDate'...</td>\n",
       "      <td>[6]</td>\n",
       "      <td>NaN</td>\n",
       "      <td>7</td>\n",
       "      <td>10</td>\n",
       "      <td>SuzannaTillson</td>\n",
       "      <td>NaN</td>\n",
       "      <td>2012-08-07T10:10:00.000Z</td>\n",
       "    </tr>\n",
       "    <tr>\n",
       "      <th>7</th>\n",
       "      <td>Nila</td>\n",
       "      <td>[{'organizationName': 'Plexlane', 'startDate':...</td>\n",
       "      <td>[3]</td>\n",
       "      <td>NaN</td>\n",
       "      <td>8</td>\n",
       "      <td>11</td>\n",
       "      <td>NilaMilliron</td>\n",
       "      <td>NaN</td>\n",
       "      <td>2008-01-01T10:10:00.000Z</td>\n",
       "    </tr>\n",
       "    <tr>\n",
       "      <th>8</th>\n",
       "      <td>Woodrow</td>\n",
       "      <td>[{'organizationName': 'Zuncan', 'startDate': '...</td>\n",
       "      <td>[3, 10]</td>\n",
       "      <td>NaN</td>\n",
       "      <td>9</td>\n",
       "      <td>12</td>\n",
       "      <td>WoodrowNehling</td>\n",
       "      <td>Woody</td>\n",
       "      <td>2005-09-20T10:10:00.000Z</td>\n",
       "    </tr>\n",
       "    <tr>\n",
       "      <th>9</th>\n",
       "      <td>Bram</td>\n",
       "      <td>[{'organizationName': 'physcane', 'startDate':...</td>\n",
       "      <td>[1, 5, 9]</td>\n",
       "      <td>NaN</td>\n",
       "      <td>10</td>\n",
       "      <td>13</td>\n",
       "      <td>BramHatch</td>\n",
       "      <td>NaN</td>\n",
       "      <td>2010-10-16T10:10:00.000Z</td>\n",
       "    </tr>\n",
       "  </tbody>\n",
       "</table>\n",
       "</div>"
      ],
      "text/plain": [
       "       alias                                         employment  \\\n",
       "0  Margarita  [{'organizationName': 'Codetechno', 'startDate...   \n",
       "1      Isbel  [{'organizationName': 'Hexviafind', 'startDate...   \n",
       "2      Emory  [{'organizationName': 'geomedia', 'startDate':...   \n",
       "3   Nicholas  [{'organizationName': 'Zamcorporation', 'start...   \n",
       "4        Von  [{'organizationName': 'Kongreen', 'startDate':...   \n",
       "5     Willis  [{'organizationName': 'jaydax', 'startDate': '...   \n",
       "6    Suzanna  [{'organizationName': 'Labzatron', 'startDate'...   \n",
       "7       Nila  [{'organizationName': 'Plexlane', 'startDate':...   \n",
       "8    Woodrow  [{'organizationName': 'Zuncan', 'startDate': '...   \n",
       "9       Bram  [{'organizationName': 'physcane', 'startDate':...   \n",
       "\n",
       "       friendIds gender  id  id_3               name nickname  \\\n",
       "0  [2, 3, 6, 10]      F   1     4  MargaritaStoddard     Mags   \n",
       "1         [1, 4]    NaN   2     5          IsbelDull     Izzy   \n",
       "2   [1, 5, 8, 9]    NaN   3     6           EmoryUnk      NaN   \n",
       "3            [2]    NaN   4     7      NicholasStroh      NaN   \n",
       "4     [3, 6, 10]    NaN   5     8          VonKemble      NaN   \n",
       "5      [1, 3, 7]    NaN   6     9        WillisWynne      NaN   \n",
       "6            [6]    NaN   7    10     SuzannaTillson      NaN   \n",
       "7            [3]    NaN   8    11       NilaMilliron      NaN   \n",
       "8        [3, 10]    NaN   9    12     WoodrowNehling    Woody   \n",
       "9      [1, 5, 9]    NaN  10    13          BramHatch      NaN   \n",
       "\n",
       "                  userSince  \n",
       "0  2012-08-20T10:10:00.000Z  \n",
       "1  2011-01-22T10:10:00.000Z  \n",
       "2  2012-07-10T10:10:00.000Z  \n",
       "3  2010-12-27T10:10:00.000Z  \n",
       "4  2010-01-05T10:10:00.000Z  \n",
       "5  2005-01-17T10:10:00.000Z  \n",
       "6  2012-08-07T10:10:00.000Z  \n",
       "7  2008-01-01T10:10:00.000Z  \n",
       "8  2005-09-20T10:10:00.000Z  \n",
       "9  2010-10-16T10:10:00.000Z  "
      ]
     },
     "execution_count": 35,
     "metadata": {},
     "output_type": "execute_result"
    }
   ],
   "source": [
    "new_af.toPandas()"
   ]
  },
  {
   "cell_type": "code",
   "execution_count": 36,
   "metadata": {},
   "outputs": [
    {
     "data": {
      "text/plain": [
       "'success'"
      ]
     },
     "execution_count": 36,
     "metadata": {},
     "output_type": "execute_result"
    }
   ],
   "source": [
    "af.AFrame.drop(new_af)"
   ]
  },
  {
   "cell_type": "code",
   "execution_count": 37,
   "metadata": {},
   "outputs": [
    {
     "data": {
      "text/html": [
       "<div>\n",
       "<style scoped>\n",
       "    .dataframe tbody tr th:only-of-type {\n",
       "        vertical-align: middle;\n",
       "    }\n",
       "\n",
       "    .dataframe tbody tr th {\n",
       "        vertical-align: top;\n",
       "    }\n",
       "\n",
       "    .dataframe thead th {\n",
       "        text-align: right;\n",
       "    }\n",
       "</style>\n",
       "<table border=\"1\" class=\"dataframe\">\n",
       "  <thead>\n",
       "    <tr style=\"text-align: right;\">\n",
       "      <th></th>\n",
       "      <th>alias</th>\n",
       "      <th>employment</th>\n",
       "      <th>friendID</th>\n",
       "      <th>friendIds</th>\n",
       "      <th>gender</th>\n",
       "      <th>id</th>\n",
       "      <th>name</th>\n",
       "      <th>nickname</th>\n",
       "      <th>userSince</th>\n",
       "    </tr>\n",
       "  </thead>\n",
       "  <tbody>\n",
       "    <tr>\n",
       "      <th>0</th>\n",
       "      <td>Margarita</td>\n",
       "      <td>[{'organizationName': 'Codetechno', 'startDate...</td>\n",
       "      <td>2</td>\n",
       "      <td>[2, 3, 6, 10]</td>\n",
       "      <td>F</td>\n",
       "      <td>1</td>\n",
       "      <td>MargaritaStoddard</td>\n",
       "      <td>Mags</td>\n",
       "      <td>2012-08-20T10:10:00.000Z</td>\n",
       "    </tr>\n",
       "    <tr>\n",
       "      <th>1</th>\n",
       "      <td>Margarita</td>\n",
       "      <td>[{'organizationName': 'Codetechno', 'startDate...</td>\n",
       "      <td>3</td>\n",
       "      <td>[2, 3, 6, 10]</td>\n",
       "      <td>F</td>\n",
       "      <td>1</td>\n",
       "      <td>MargaritaStoddard</td>\n",
       "      <td>Mags</td>\n",
       "      <td>2012-08-20T10:10:00.000Z</td>\n",
       "    </tr>\n",
       "  </tbody>\n",
       "</table>\n",
       "</div>"
      ],
      "text/plain": [
       "       alias                                         employment  friendID  \\\n",
       "0  Margarita  [{'organizationName': 'Codetechno', 'startDate...         2   \n",
       "1  Margarita  [{'organizationName': 'Codetechno', 'startDate...         3   \n",
       "\n",
       "       friendIds gender  id               name nickname  \\\n",
       "0  [2, 3, 6, 10]      F   1  MargaritaStoddard     Mags   \n",
       "1  [2, 3, 6, 10]      F   1  MargaritaStoddard     Mags   \n",
       "\n",
       "                  userSince  \n",
       "0  2012-08-20T10:10:00.000Z  \n",
       "1  2012-08-20T10:10:00.000Z  "
      ]
     },
     "execution_count": 37,
     "metadata": {},
     "output_type": "execute_result"
    }
   ],
   "source": [
    "tmp = user_af.unnest(user_af['friendIds'], appended=True, name='friendID')\n",
    "tmp.head(2)"
   ]
  },
  {
   "cell_type": "code",
   "execution_count": 40,
   "metadata": {},
   "outputs": [
    {
     "data": {
      "text/html": [
       "<div>\n",
       "<style scoped>\n",
       "    .dataframe tbody tr th:only-of-type {\n",
       "        vertical-align: middle;\n",
       "    }\n",
       "\n",
       "    .dataframe tbody tr th {\n",
       "        vertical-align: top;\n",
       "    }\n",
       "\n",
       "    .dataframe thead th {\n",
       "        text-align: right;\n",
       "    }\n",
       "</style>\n",
       "<table border=\"1\" class=\"dataframe\">\n",
       "  <thead>\n",
       "    <tr style=\"text-align: right;\">\n",
       "      <th></th>\n",
       "      <th>alias</th>\n",
       "      <th>employment</th>\n",
       "      <th>friendID</th>\n",
       "      <th>friendIds</th>\n",
       "      <th>gender</th>\n",
       "      <th>id</th>\n",
       "      <th>name</th>\n",
       "      <th>nickname</th>\n",
       "      <th>userSince</th>\n",
       "    </tr>\n",
       "  </thead>\n",
       "  <tbody>\n",
       "    <tr>\n",
       "      <th>0</th>\n",
       "      <td>Margarita</td>\n",
       "      <td>[{'organizationName': 'Codetechno', 'startDate...</td>\n",
       "      <td>2</td>\n",
       "      <td>[2, 3, 6, 10]</td>\n",
       "      <td>F</td>\n",
       "      <td>1</td>\n",
       "      <td>MargaritaStoddard</td>\n",
       "      <td>Mags</td>\n",
       "      <td>2012-08-20T10:10:00.000Z</td>\n",
       "    </tr>\n",
       "    <tr>\n",
       "      <th>1</th>\n",
       "      <td>Margarita</td>\n",
       "      <td>[{'organizationName': 'Codetechno', 'startDate...</td>\n",
       "      <td>3</td>\n",
       "      <td>[2, 3, 6, 10]</td>\n",
       "      <td>F</td>\n",
       "      <td>1</td>\n",
       "      <td>MargaritaStoddard</td>\n",
       "      <td>Mags</td>\n",
       "      <td>2012-08-20T10:10:00.000Z</td>\n",
       "    </tr>\n",
       "    <tr>\n",
       "      <th>2</th>\n",
       "      <td>Margarita</td>\n",
       "      <td>[{'organizationName': 'Codetechno', 'startDate...</td>\n",
       "      <td>6</td>\n",
       "      <td>[2, 3, 6, 10]</td>\n",
       "      <td>F</td>\n",
       "      <td>1</td>\n",
       "      <td>MargaritaStoddard</td>\n",
       "      <td>Mags</td>\n",
       "      <td>2012-08-20T10:10:00.000Z</td>\n",
       "    </tr>\n",
       "    <tr>\n",
       "      <th>3</th>\n",
       "      <td>Margarita</td>\n",
       "      <td>[{'organizationName': 'Codetechno', 'startDate...</td>\n",
       "      <td>10</td>\n",
       "      <td>[2, 3, 6, 10]</td>\n",
       "      <td>F</td>\n",
       "      <td>1</td>\n",
       "      <td>MargaritaStoddard</td>\n",
       "      <td>Mags</td>\n",
       "      <td>2012-08-20T10:10:00.000Z</td>\n",
       "    </tr>\n",
       "    <tr>\n",
       "      <th>4</th>\n",
       "      <td>Isbel</td>\n",
       "      <td>[{'organizationName': 'Hexviafind', 'startDate...</td>\n",
       "      <td>1</td>\n",
       "      <td>[1, 4]</td>\n",
       "      <td>NaN</td>\n",
       "      <td>2</td>\n",
       "      <td>IsbelDull</td>\n",
       "      <td>Izzy</td>\n",
       "      <td>2011-01-22T10:10:00.000Z</td>\n",
       "    </tr>\n",
       "  </tbody>\n",
       "</table>\n",
       "</div>"
      ],
      "text/plain": [
       "       alias                                         employment  friendID  \\\n",
       "0  Margarita  [{'organizationName': 'Codetechno', 'startDate...         2   \n",
       "1  Margarita  [{'organizationName': 'Codetechno', 'startDate...         3   \n",
       "2  Margarita  [{'organizationName': 'Codetechno', 'startDate...         6   \n",
       "3  Margarita  [{'organizationName': 'Codetechno', 'startDate...        10   \n",
       "4      Isbel  [{'organizationName': 'Hexviafind', 'startDate...         1   \n",
       "\n",
       "       friendIds gender  id               name nickname  \\\n",
       "0  [2, 3, 6, 10]      F   1  MargaritaStoddard     Mags   \n",
       "1  [2, 3, 6, 10]      F   1  MargaritaStoddard     Mags   \n",
       "2  [2, 3, 6, 10]      F   1  MargaritaStoddard     Mags   \n",
       "3  [2, 3, 6, 10]      F   1  MargaritaStoddard     Mags   \n",
       "4         [1, 4]    NaN   2          IsbelDull     Izzy   \n",
       "\n",
       "                  userSince  \n",
       "0  2012-08-20T10:10:00.000Z  \n",
       "1  2012-08-20T10:10:00.000Z  \n",
       "2  2012-08-20T10:10:00.000Z  \n",
       "3  2012-08-20T10:10:00.000Z  \n",
       "4  2011-01-22T10:10:00.000Z  "
      ]
     },
     "execution_count": 40,
     "metadata": {},
     "output_type": "execute_result"
    }
   ],
   "source": [
    "copy_af = tmp.persist('UserCopy')\n",
    "copy_af.toPandas().head()"
   ]
  },
  {
   "cell_type": "code",
   "execution_count": 41,
   "metadata": {},
   "outputs": [
    {
     "data": {
      "text/plain": [
       "'success'"
      ]
     },
     "execution_count": 41,
     "metadata": {},
     "output_type": "execute_result"
    }
   ],
   "source": [
    "af.AFrame.drop(copy_af)"
   ]
  }
 ],
 "metadata": {
  "kernelspec": {
   "display_name": "pyspark-dev",
   "language": "python",
   "name": "pyspark"
  },
  "language_info": {
   "codemirror_mode": {
    "name": "ipython",
    "version": 3
   },
   "file_extension": ".py",
   "mimetype": "text/x-python",
   "name": "python",
   "nbconvert_exporter": "python",
   "pygments_lexer": "ipython3",
   "version": "3.6.4"
  }
 },
 "nbformat": 4,
 "nbformat_minor": 2
}
