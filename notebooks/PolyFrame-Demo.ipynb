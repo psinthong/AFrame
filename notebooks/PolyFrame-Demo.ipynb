{
 "cells": [
  {
   "cell_type": "code",
   "execution_count": 1,
   "metadata": {},
   "outputs": [],
   "source": [
    "from aframe import AFrame\n",
    "import pandas as pd\n",
    "from aframe.connector import CypherConnector\n",
    "from aframe.connector import AsterixConnector\n",
    "from aframe.connector import MongoConnector"
   ]
  },
  {
   "cell_type": "markdown",
   "metadata": {},
   "source": [
    "## PolyFrame + AsterixDB"
   ]
  },
  {
   "cell_type": "code",
   "execution_count": 2,
   "metadata": {},
   "outputs": [],
   "source": [
    "af = AFrame(dataverse='Yelp', \n",
    "            dataset='businesses', \n",
    "            connector=AsterixConnector('localhost:19002'))"
   ]
  },
  {
   "cell_type": "code",
   "execution_count": 3,
   "metadata": {},
   "outputs": [
    {
     "data": {
      "text/html": [
       "<div>\n",
       "<style scoped>\n",
       "    .dataframe tbody tr th:only-of-type {\n",
       "        vertical-align: middle;\n",
       "    }\n",
       "\n",
       "    .dataframe tbody tr th {\n",
       "        vertical-align: top;\n",
       "    }\n",
       "\n",
       "    .dataframe thead th {\n",
       "        text-align: right;\n",
       "    }\n",
       "</style>\n",
       "<table border=\"1\" class=\"dataframe\">\n",
       "  <thead>\n",
       "    <tr style=\"text-align: right;\">\n",
       "      <th></th>\n",
       "      <th>business_id</th>\n",
       "      <th>name</th>\n",
       "      <th>address</th>\n",
       "      <th>city</th>\n",
       "      <th>state</th>\n",
       "      <th>postal_code</th>\n",
       "      <th>latitude</th>\n",
       "      <th>longitude</th>\n",
       "      <th>stars</th>\n",
       "      <th>review_count</th>\n",
       "      <th>is_open</th>\n",
       "      <th>attributes</th>\n",
       "      <th>categories</th>\n",
       "      <th>hours</th>\n",
       "    </tr>\n",
       "  </thead>\n",
       "  <tbody>\n",
       "    <tr>\n",
       "      <th>0</th>\n",
       "      <td>--1UhMGODdWsrMastO9DZw</td>\n",
       "      <td>The Spicy Amigos</td>\n",
       "      <td>821 4 Avenue SW</td>\n",
       "      <td>Calgary</td>\n",
       "      <td>AB</td>\n",
       "      <td>T2P 0K5</td>\n",
       "      <td>51.049673</td>\n",
       "      <td>-114.079977</td>\n",
       "      <td>4.0</td>\n",
       "      <td>24</td>\n",
       "      <td>1</td>\n",
       "      <td>{'BusinessParking': '{'garage': False, 'street...</td>\n",
       "      <td>Restaurants, Mexican</td>\n",
       "      <td>{'Monday': '11:0-20:0', 'Tuesday': '11:0-20:0'...</td>\n",
       "    </tr>\n",
       "    <tr>\n",
       "      <th>1</th>\n",
       "      <td>--6MefnULPED_I942VcFNA</td>\n",
       "      <td>John's Chinese BBQ Restaurant</td>\n",
       "      <td>328 Highway 7 E, Chalmers Gate 11, Unit 10</td>\n",
       "      <td>Richmond Hill</td>\n",
       "      <td>ON</td>\n",
       "      <td>L4B 3P7</td>\n",
       "      <td>43.841694</td>\n",
       "      <td>-79.399755</td>\n",
       "      <td>3.0</td>\n",
       "      <td>44</td>\n",
       "      <td>1</td>\n",
       "      <td>{'BusinessParking': '{'garage': False, 'street...</td>\n",
       "      <td>Chinese, Restaurants</td>\n",
       "      <td>{'Monday': '11:0-22:30', 'Tuesday': '11:0-22:3...</td>\n",
       "    </tr>\n",
       "    <tr>\n",
       "      <th>2</th>\n",
       "      <td>--7zmmkVg-IMGaXbuVd0SQ</td>\n",
       "      <td>Primal Brewery</td>\n",
       "      <td>16432 Old Statesville Rd</td>\n",
       "      <td>Huntersville</td>\n",
       "      <td>NC</td>\n",
       "      <td>28078</td>\n",
       "      <td>35.437106</td>\n",
       "      <td>-80.843688</td>\n",
       "      <td>4.0</td>\n",
       "      <td>58</td>\n",
       "      <td>1</td>\n",
       "      <td>{'BikeParking': 'True', 'RestaurantsPriceRange...</td>\n",
       "      <td>Breweries, Food</td>\n",
       "      <td>{'Monday': '16:0-22:0', 'Tuesday': '16:0-22:0'...</td>\n",
       "    </tr>\n",
       "    <tr>\n",
       "      <th>3</th>\n",
       "      <td>--8LPVSo5i0Oo61X01sV9A</td>\n",
       "      <td>Valley Bone and Joint Specialists</td>\n",
       "      <td>3941 E Baseline Rd, Ste 102</td>\n",
       "      <td>Gilbert</td>\n",
       "      <td>AZ</td>\n",
       "      <td>85234</td>\n",
       "      <td>33.378589</td>\n",
       "      <td>-111.748145</td>\n",
       "      <td>3.5</td>\n",
       "      <td>4</td>\n",
       "      <td>1</td>\n",
       "      <td>{'BusinessAcceptsCreditCards': 'True', 'ByAppo...</td>\n",
       "      <td>Orthopedists, Doctors, Sports Medicine, Weight...</td>\n",
       "      <td>{'Monday': '8:30-16:30', 'Tuesday': '8:30-16:3...</td>\n",
       "    </tr>\n",
       "    <tr>\n",
       "      <th>4</th>\n",
       "      <td>--9QQLMTbFzLJ_oT-ON3Xw</td>\n",
       "      <td>Great Clips</td>\n",
       "      <td>1835 E Guadalupe Rd, Ste 106</td>\n",
       "      <td>Tempe</td>\n",
       "      <td>AZ</td>\n",
       "      <td>85283</td>\n",
       "      <td>33.362813</td>\n",
       "      <td>-111.908995</td>\n",
       "      <td>3.5</td>\n",
       "      <td>12</td>\n",
       "      <td>1</td>\n",
       "      <td>{'BusinessAcceptsCreditCards': 'True', 'ByAppo...</td>\n",
       "      <td>Beauty &amp; Spas, Hair Salons</td>\n",
       "      <td>None</td>\n",
       "    </tr>\n",
       "  </tbody>\n",
       "</table>\n",
       "</div>"
      ],
      "text/plain": [
       "              business_id                               name  \\\n",
       "0  --1UhMGODdWsrMastO9DZw                   The Spicy Amigos   \n",
       "1  --6MefnULPED_I942VcFNA      John's Chinese BBQ Restaurant   \n",
       "2  --7zmmkVg-IMGaXbuVd0SQ                     Primal Brewery   \n",
       "3  --8LPVSo5i0Oo61X01sV9A  Valley Bone and Joint Specialists   \n",
       "4  --9QQLMTbFzLJ_oT-ON3Xw                        Great Clips   \n",
       "\n",
       "                                      address           city state  \\\n",
       "0                             821 4 Avenue SW        Calgary    AB   \n",
       "1  328 Highway 7 E, Chalmers Gate 11, Unit 10  Richmond Hill    ON   \n",
       "2                    16432 Old Statesville Rd   Huntersville    NC   \n",
       "3                 3941 E Baseline Rd, Ste 102        Gilbert    AZ   \n",
       "4                1835 E Guadalupe Rd, Ste 106          Tempe    AZ   \n",
       "\n",
       "  postal_code   latitude   longitude  stars  review_count  is_open  \\\n",
       "0     T2P 0K5  51.049673 -114.079977    4.0            24        1   \n",
       "1     L4B 3P7  43.841694  -79.399755    3.0            44        1   \n",
       "2       28078  35.437106  -80.843688    4.0            58        1   \n",
       "3       85234  33.378589 -111.748145    3.5             4        1   \n",
       "4       85283  33.362813 -111.908995    3.5            12        1   \n",
       "\n",
       "                                          attributes  \\\n",
       "0  {'BusinessParking': '{'garage': False, 'street...   \n",
       "1  {'BusinessParking': '{'garage': False, 'street...   \n",
       "2  {'BikeParking': 'True', 'RestaurantsPriceRange...   \n",
       "3  {'BusinessAcceptsCreditCards': 'True', 'ByAppo...   \n",
       "4  {'BusinessAcceptsCreditCards': 'True', 'ByAppo...   \n",
       "\n",
       "                                          categories  \\\n",
       "0                               Restaurants, Mexican   \n",
       "1                               Chinese, Restaurants   \n",
       "2                                    Breweries, Food   \n",
       "3  Orthopedists, Doctors, Sports Medicine, Weight...   \n",
       "4                         Beauty & Spas, Hair Salons   \n",
       "\n",
       "                                               hours  \n",
       "0  {'Monday': '11:0-20:0', 'Tuesday': '11:0-20:0'...  \n",
       "1  {'Monday': '11:0-22:30', 'Tuesday': '11:0-22:3...  \n",
       "2  {'Monday': '16:0-22:0', 'Tuesday': '16:0-22:0'...  \n",
       "3  {'Monday': '8:30-16:30', 'Tuesday': '8:30-16:3...  \n",
       "4                                               None  "
      ]
     },
     "execution_count": 3,
     "metadata": {},
     "output_type": "execute_result"
    }
   ],
   "source": [
    "af.head()"
   ]
  },
  {
   "cell_type": "markdown",
   "metadata": {},
   "source": [
    "## Underlying query"
   ]
  },
  {
   "cell_type": "code",
   "execution_count": 4,
   "metadata": {},
   "outputs": [
    {
     "data": {
      "text/plain": [
       "'SELECT VALUE t FROM Yelp.businesses t LIMIT 5'"
      ]
     },
     "execution_count": 4,
     "metadata": {},
     "output_type": "execute_result"
    }
   ],
   "source": [
    "af.head(query=True)"
   ]
  },
  {
   "cell_type": "markdown",
   "metadata": {},
   "source": [
    "## Projection"
   ]
  },
  {
   "cell_type": "code",
   "execution_count": 5,
   "metadata": {},
   "outputs": [
    {
     "data": {
      "text/html": [
       "<div>\n",
       "<style scoped>\n",
       "    .dataframe tbody tr th:only-of-type {\n",
       "        vertical-align: middle;\n",
       "    }\n",
       "\n",
       "    .dataframe tbody tr th {\n",
       "        vertical-align: top;\n",
       "    }\n",
       "\n",
       "    .dataframe thead th {\n",
       "        text-align: right;\n",
       "    }\n",
       "</style>\n",
       "<table border=\"1\" class=\"dataframe\">\n",
       "  <thead>\n",
       "    <tr style=\"text-align: right;\">\n",
       "      <th></th>\n",
       "      <th>categories</th>\n",
       "      <th>state</th>\n",
       "      <th>stars</th>\n",
       "      <th>review_count</th>\n",
       "      <th>city</th>\n",
       "    </tr>\n",
       "  </thead>\n",
       "  <tbody>\n",
       "    <tr>\n",
       "      <th>0</th>\n",
       "      <td>Restaurants, Mexican</td>\n",
       "      <td>AB</td>\n",
       "      <td>4.0</td>\n",
       "      <td>24</td>\n",
       "      <td>Calgary</td>\n",
       "    </tr>\n",
       "    <tr>\n",
       "      <th>1</th>\n",
       "      <td>Chinese, Restaurants</td>\n",
       "      <td>ON</td>\n",
       "      <td>3.0</td>\n",
       "      <td>44</td>\n",
       "      <td>Richmond Hill</td>\n",
       "    </tr>\n",
       "    <tr>\n",
       "      <th>2</th>\n",
       "      <td>Breweries, Food</td>\n",
       "      <td>NC</td>\n",
       "      <td>4.0</td>\n",
       "      <td>58</td>\n",
       "      <td>Huntersville</td>\n",
       "    </tr>\n",
       "    <tr>\n",
       "      <th>3</th>\n",
       "      <td>Orthopedists, Doctors, Sports Medicine, Weight...</td>\n",
       "      <td>AZ</td>\n",
       "      <td>3.5</td>\n",
       "      <td>4</td>\n",
       "      <td>Gilbert</td>\n",
       "    </tr>\n",
       "    <tr>\n",
       "      <th>4</th>\n",
       "      <td>Beauty &amp; Spas, Hair Salons</td>\n",
       "      <td>AZ</td>\n",
       "      <td>3.5</td>\n",
       "      <td>12</td>\n",
       "      <td>Tempe</td>\n",
       "    </tr>\n",
       "  </tbody>\n",
       "</table>\n",
       "</div>"
      ],
      "text/plain": [
       "                                          categories state  stars  \\\n",
       "0                               Restaurants, Mexican    AB    4.0   \n",
       "1                               Chinese, Restaurants    ON    3.0   \n",
       "2                                    Breweries, Food    NC    4.0   \n",
       "3  Orthopedists, Doctors, Sports Medicine, Weight...    AZ    3.5   \n",
       "4                         Beauty & Spas, Hair Salons    AZ    3.5   \n",
       "\n",
       "   review_count           city  \n",
       "0            24        Calgary  \n",
       "1            44  Richmond Hill  \n",
       "2            58   Huntersville  \n",
       "3             4        Gilbert  \n",
       "4            12          Tempe  "
      ]
     },
     "execution_count": 5,
     "metadata": {},
     "output_type": "execute_result"
    }
   ],
   "source": [
    "projections = af[['categories', 'state', 'stars', 'review_count', 'city']]\n",
    "projections.head()"
   ]
  },
  {
   "cell_type": "code",
   "execution_count": 6,
   "metadata": {},
   "outputs": [
    {
     "data": {
      "text/plain": [
       "'SELECT categories, state, stars, review_count, city FROM (SELECT VALUE t FROM Yelp.businesses t) t'"
      ]
     },
     "execution_count": 6,
     "metadata": {},
     "output_type": "execute_result"
    }
   ],
   "source": [
    "projections.query"
   ]
  },
  {
   "cell_type": "markdown",
   "metadata": {},
   "source": [
    "## Selection"
   ]
  },
  {
   "cell_type": "code",
   "execution_count": 7,
   "metadata": {},
   "outputs": [],
   "source": [
    "selections = projections[(projections['categories'] == 'Mexican, Restaurants') \n",
    "                         & (projections['stars'] > 3.0)]"
   ]
  },
  {
   "cell_type": "code",
   "execution_count": 8,
   "metadata": {},
   "outputs": [
    {
     "data": {
      "text/html": [
       "<div>\n",
       "<style scoped>\n",
       "    .dataframe tbody tr th:only-of-type {\n",
       "        vertical-align: middle;\n",
       "    }\n",
       "\n",
       "    .dataframe tbody tr th {\n",
       "        vertical-align: top;\n",
       "    }\n",
       "\n",
       "    .dataframe thead th {\n",
       "        text-align: right;\n",
       "    }\n",
       "</style>\n",
       "<table border=\"1\" class=\"dataframe\">\n",
       "  <thead>\n",
       "    <tr style=\"text-align: right;\">\n",
       "      <th></th>\n",
       "      <th>categories</th>\n",
       "      <th>state</th>\n",
       "      <th>stars</th>\n",
       "      <th>review_count</th>\n",
       "      <th>city</th>\n",
       "    </tr>\n",
       "  </thead>\n",
       "  <tbody>\n",
       "    <tr>\n",
       "      <th>0</th>\n",
       "      <td>Mexican, Restaurants</td>\n",
       "      <td>SC</td>\n",
       "      <td>4.0</td>\n",
       "      <td>16</td>\n",
       "      <td>Fort Mill</td>\n",
       "    </tr>\n",
       "    <tr>\n",
       "      <th>1</th>\n",
       "      <td>Mexican, Restaurants</td>\n",
       "      <td>AZ</td>\n",
       "      <td>4.0</td>\n",
       "      <td>29</td>\n",
       "      <td>Gilbert</td>\n",
       "    </tr>\n",
       "    <tr>\n",
       "      <th>2</th>\n",
       "      <td>Mexican, Restaurants</td>\n",
       "      <td>NV</td>\n",
       "      <td>4.5</td>\n",
       "      <td>9</td>\n",
       "      <td>Las Vegas</td>\n",
       "    </tr>\n",
       "    <tr>\n",
       "      <th>3</th>\n",
       "      <td>Mexican, Restaurants</td>\n",
       "      <td>QC</td>\n",
       "      <td>4.0</td>\n",
       "      <td>6</td>\n",
       "      <td>Montréal</td>\n",
       "    </tr>\n",
       "    <tr>\n",
       "      <th>4</th>\n",
       "      <td>Mexican, Restaurants</td>\n",
       "      <td>NC</td>\n",
       "      <td>4.0</td>\n",
       "      <td>101</td>\n",
       "      <td>Charlotte</td>\n",
       "    </tr>\n",
       "  </tbody>\n",
       "</table>\n",
       "</div>"
      ],
      "text/plain": [
       "             categories state  stars  review_count       city\n",
       "0  Mexican, Restaurants    SC    4.0            16  Fort Mill\n",
       "1  Mexican, Restaurants    AZ    4.0            29    Gilbert\n",
       "2  Mexican, Restaurants    NV    4.5             9  Las Vegas\n",
       "3  Mexican, Restaurants    QC    4.0             6   Montréal\n",
       "4  Mexican, Restaurants    NC    4.0           101  Charlotte"
      ]
     },
     "execution_count": 8,
     "metadata": {},
     "output_type": "execute_result"
    }
   ],
   "source": [
    "selections.head()"
   ]
  },
  {
   "cell_type": "code",
   "execution_count": 9,
   "metadata": {},
   "outputs": [
    {
     "data": {
      "text/plain": [
       "'SELECT VALUE t FROM (SELECT categories, state, stars, review_count, city FROM (SELECT VALUE t FROM Yelp.businesses t) t) t WHERE categories = \"Mexican, Restaurants\" AND stars > 3.0'"
      ]
     },
     "execution_count": 9,
     "metadata": {},
     "output_type": "execute_result"
    }
   ],
   "source": [
    "selections.query"
   ]
  },
  {
   "cell_type": "code",
   "execution_count": 10,
   "metadata": {},
   "outputs": [
    {
     "data": {
      "text/html": [
       "<div>\n",
       "<style scoped>\n",
       "    .dataframe tbody tr th:only-of-type {\n",
       "        vertical-align: middle;\n",
       "    }\n",
       "\n",
       "    .dataframe tbody tr th {\n",
       "        vertical-align: top;\n",
       "    }\n",
       "\n",
       "    .dataframe thead th {\n",
       "        text-align: right;\n",
       "    }\n",
       "</style>\n",
       "<table border=\"1\" class=\"dataframe\">\n",
       "  <thead>\n",
       "    <tr style=\"text-align: right;\">\n",
       "      <th></th>\n",
       "      <th>state</th>\n",
       "      <th>sum_review_count</th>\n",
       "    </tr>\n",
       "  </thead>\n",
       "  <tbody>\n",
       "    <tr>\n",
       "      <th>0</th>\n",
       "      <td>AB</td>\n",
       "      <td>119</td>\n",
       "    </tr>\n",
       "    <tr>\n",
       "      <th>1</th>\n",
       "      <td>AZ</td>\n",
       "      <td>20841</td>\n",
       "    </tr>\n",
       "    <tr>\n",
       "      <th>2</th>\n",
       "      <td>IL</td>\n",
       "      <td>735</td>\n",
       "    </tr>\n",
       "    <tr>\n",
       "      <th>3</th>\n",
       "      <td>NC</td>\n",
       "      <td>3266</td>\n",
       "    </tr>\n",
       "    <tr>\n",
       "      <th>4</th>\n",
       "      <td>NV</td>\n",
       "      <td>8298</td>\n",
       "    </tr>\n",
       "    <tr>\n",
       "      <th>5</th>\n",
       "      <td>OH</td>\n",
       "      <td>1907</td>\n",
       "    </tr>\n",
       "    <tr>\n",
       "      <th>6</th>\n",
       "      <td>ON</td>\n",
       "      <td>2194</td>\n",
       "    </tr>\n",
       "    <tr>\n",
       "      <th>7</th>\n",
       "      <td>PA</td>\n",
       "      <td>985</td>\n",
       "    </tr>\n",
       "    <tr>\n",
       "      <th>8</th>\n",
       "      <td>QC</td>\n",
       "      <td>372</td>\n",
       "    </tr>\n",
       "    <tr>\n",
       "      <th>9</th>\n",
       "      <td>SC</td>\n",
       "      <td>228</td>\n",
       "    </tr>\n",
       "    <tr>\n",
       "      <th>10</th>\n",
       "      <td>WI</td>\n",
       "      <td>1130</td>\n",
       "    </tr>\n",
       "  </tbody>\n",
       "</table>\n",
       "</div>"
      ],
      "text/plain": [
       "   state  sum_review_count\n",
       "0     AB               119\n",
       "1     AZ             20841\n",
       "2     IL               735\n",
       "3     NC              3266\n",
       "4     NV              8298\n",
       "5     OH              1907\n",
       "6     ON              2194\n",
       "7     PA               985\n",
       "8     QC               372\n",
       "9     SC               228\n",
       "10    WI              1130"
      ]
     },
     "execution_count": 10,
     "metadata": {},
     "output_type": "execute_result"
    }
   ],
   "source": [
    "groups = selections.groupby('state').agg({'review_count':'sum'})\n",
    "groups.head(15)"
   ]
  },
  {
   "cell_type": "code",
   "execution_count": null,
   "metadata": {},
   "outputs": [],
   "source": []
  },
  {
   "cell_type": "markdown",
   "metadata": {},
   "source": [
    "# Retarget PolyFrame onto MongoDB and Neo4j"
   ]
  },
  {
   "cell_type": "markdown",
   "metadata": {},
   "source": [
    "### Neo4j connector"
   ]
  },
  {
   "cell_type": "code",
   "execution_count": 11,
   "metadata": {},
   "outputs": [],
   "source": [
    "neo4j_connector = CypherConnector(uri='http://localhost:7474', username='neo4j', password='password')"
   ]
  },
  {
   "cell_type": "markdown",
   "metadata": {},
   "source": [
    "### MongoDB connector"
   ]
  },
  {
   "cell_type": "code",
   "execution_count": 12,
   "metadata": {},
   "outputs": [],
   "source": [
    "mongo_connector = MongoConnector('mongodb://localhost:27017')"
   ]
  },
  {
   "cell_type": "markdown",
   "metadata": {},
   "source": [
    "## Dataframe construction"
   ]
  },
  {
   "cell_type": "code",
   "execution_count": 13,
   "metadata": {},
   "outputs": [],
   "source": [
    "neo4j_df = AFrame(dataverse='Yelp', dataset='business', connector=neo4j_connector)"
   ]
  },
  {
   "cell_type": "code",
   "execution_count": 14,
   "metadata": {},
   "outputs": [],
   "source": [
    "mongo_df = AFrame(dataverse='Yelp', dataset='business', connector=mongo_connector)"
   ]
  },
  {
   "cell_type": "code",
   "execution_count": 15,
   "metadata": {},
   "outputs": [
    {
     "name": "stdout",
     "output_type": "stream",
     "text": [
      "Neo4j Dataframe:\n",
      "\n"
     ]
    },
    {
     "data": {
      "text/html": [
       "<div>\n",
       "<style scoped>\n",
       "    .dataframe tbody tr th:only-of-type {\n",
       "        vertical-align: middle;\n",
       "    }\n",
       "\n",
       "    .dataframe tbody tr th {\n",
       "        vertical-align: top;\n",
       "    }\n",
       "\n",
       "    .dataframe thead th {\n",
       "        text-align: right;\n",
       "    }\n",
       "</style>\n",
       "<table border=\"1\" class=\"dataframe\">\n",
       "  <thead>\n",
       "    <tr style=\"text-align: right;\">\n",
       "      <th></th>\n",
       "      <th>address</th>\n",
       "      <th>city</th>\n",
       "      <th>is_open</th>\n",
       "      <th>latitude</th>\n",
       "      <th>name</th>\n",
       "      <th>review_count</th>\n",
       "      <th>state</th>\n",
       "      <th>categories</th>\n",
       "      <th>stars</th>\n",
       "      <th>postal_code</th>\n",
       "      <th>business_id</th>\n",
       "      <th>longitude</th>\n",
       "    </tr>\n",
       "  </thead>\n",
       "  <tbody>\n",
       "    <tr>\n",
       "      <th>0</th>\n",
       "      <td>5931 Providence Rd</td>\n",
       "      <td>Charlotte</td>\n",
       "      <td>0</td>\n",
       "      <td>35.131469</td>\n",
       "      <td>The Reserve at Providence by Pegasus Residential</td>\n",
       "      <td>6</td>\n",
       "      <td>NC</td>\n",
       "      <td>Apartments, Real Estate, Home Services</td>\n",
       "      <td>1.0</td>\n",
       "      <td>28226</td>\n",
       "      <td>0SbElPykzndWQufOPSPDsg</td>\n",
       "      <td>-80.780094</td>\n",
       "    </tr>\n",
       "    <tr>\n",
       "      <th>1</th>\n",
       "      <td>1835 E Guadalupe Rd, Ste 106</td>\n",
       "      <td>Tempe</td>\n",
       "      <td>1</td>\n",
       "      <td>33.362813</td>\n",
       "      <td>Great Clips</td>\n",
       "      <td>12</td>\n",
       "      <td>AZ</td>\n",
       "      <td>Beauty &amp; Spas, Hair Salons</td>\n",
       "      <td>3.5</td>\n",
       "      <td>85283</td>\n",
       "      <td>--9QQLMTbFzLJ_oT-ON3Xw</td>\n",
       "      <td>-111.908995</td>\n",
       "    </tr>\n",
       "  </tbody>\n",
       "</table>\n",
       "</div>"
      ],
      "text/plain": [
       "                        address       city  is_open   latitude  \\\n",
       "0            5931 Providence Rd  Charlotte        0  35.131469   \n",
       "1  1835 E Guadalupe Rd, Ste 106      Tempe        1  33.362813   \n",
       "\n",
       "                                               name  review_count state  \\\n",
       "0  The Reserve at Providence by Pegasus Residential             6    NC   \n",
       "1                                       Great Clips            12    AZ   \n",
       "\n",
       "                               categories  stars postal_code  \\\n",
       "0  Apartments, Real Estate, Home Services    1.0       28226   \n",
       "1              Beauty & Spas, Hair Salons    3.5       85283   \n",
       "\n",
       "              business_id   longitude  \n",
       "0  0SbElPykzndWQufOPSPDsg  -80.780094  \n",
       "1  --9QQLMTbFzLJ_oT-ON3Xw -111.908995  "
      ]
     },
     "execution_count": 15,
     "metadata": {},
     "output_type": "execute_result"
    }
   ],
   "source": [
    "print('Neo4j Dataframe:\\n')\n",
    "neo4j_df.head(2)"
   ]
  },
  {
   "cell_type": "code",
   "execution_count": 16,
   "metadata": {},
   "outputs": [
    {
     "name": "stdout",
     "output_type": "stream",
     "text": [
      "MongoDB Dataframe:\n",
      "\n"
     ]
    },
    {
     "data": {
      "text/html": [
       "<div>\n",
       "<style scoped>\n",
       "    .dataframe tbody tr th:only-of-type {\n",
       "        vertical-align: middle;\n",
       "    }\n",
       "\n",
       "    .dataframe tbody tr th {\n",
       "        vertical-align: top;\n",
       "    }\n",
       "\n",
       "    .dataframe thead th {\n",
       "        text-align: right;\n",
       "    }\n",
       "</style>\n",
       "<table border=\"1\" class=\"dataframe\">\n",
       "  <thead>\n",
       "    <tr style=\"text-align: right;\">\n",
       "      <th></th>\n",
       "      <th>business_id</th>\n",
       "      <th>name</th>\n",
       "      <th>address</th>\n",
       "      <th>city</th>\n",
       "      <th>state</th>\n",
       "      <th>postal_code</th>\n",
       "      <th>latitude</th>\n",
       "      <th>longitude</th>\n",
       "      <th>stars</th>\n",
       "      <th>review_count</th>\n",
       "      <th>is_open</th>\n",
       "      <th>categories</th>\n",
       "    </tr>\n",
       "  </thead>\n",
       "  <tbody>\n",
       "    <tr>\n",
       "      <th>0</th>\n",
       "      <td>--9QQLMTbFzLJ_oT-ON3Xw</td>\n",
       "      <td>Great Clips</td>\n",
       "      <td>1835 E Guadalupe Rd, Ste 106</td>\n",
       "      <td>Tempe</td>\n",
       "      <td>AZ</td>\n",
       "      <td>85283</td>\n",
       "      <td>33.362813</td>\n",
       "      <td>-111.908995</td>\n",
       "      <td>3.5</td>\n",
       "      <td>12</td>\n",
       "      <td>1</td>\n",
       "      <td>Beauty &amp; Spas, Hair Salons</td>\n",
       "    </tr>\n",
       "    <tr>\n",
       "      <th>1</th>\n",
       "      <td>--ttCFj_csKJhxnaMRNuiw</td>\n",
       "      <td>Impressions Dental</td>\n",
       "      <td>5970 S Cooper Rd, Ste 1</td>\n",
       "      <td>Chandler</td>\n",
       "      <td>AZ</td>\n",
       "      <td>85249</td>\n",
       "      <td>33.219474</td>\n",
       "      <td>-111.807451</td>\n",
       "      <td>2.5</td>\n",
       "      <td>39</td>\n",
       "      <td>1</td>\n",
       "      <td>General Dentistry, Health &amp; Medical, Dentists,...</td>\n",
       "    </tr>\n",
       "  </tbody>\n",
       "</table>\n",
       "</div>"
      ],
      "text/plain": [
       "              business_id                name                       address  \\\n",
       "0  --9QQLMTbFzLJ_oT-ON3Xw         Great Clips  1835 E Guadalupe Rd, Ste 106   \n",
       "1  --ttCFj_csKJhxnaMRNuiw  Impressions Dental       5970 S Cooper Rd, Ste 1   \n",
       "\n",
       "       city state postal_code   latitude   longitude  stars  review_count  \\\n",
       "0     Tempe    AZ       85283  33.362813 -111.908995    3.5            12   \n",
       "1  Chandler    AZ       85249  33.219474 -111.807451    2.5            39   \n",
       "\n",
       "   is_open                                         categories  \n",
       "0        1                         Beauty & Spas, Hair Salons  \n",
       "1        1  General Dentistry, Health & Medical, Dentists,...  "
      ]
     },
     "execution_count": 16,
     "metadata": {},
     "output_type": "execute_result"
    }
   ],
   "source": [
    "print('MongoDB Dataframe:\\n')\n",
    "mongo_df.head(2)"
   ]
  },
  {
   "cell_type": "code",
   "execution_count": 17,
   "metadata": {},
   "outputs": [
    {
     "name": "stdout",
     "output_type": "stream",
     "text": [
      "Neo4j\n",
      "MATCH(t: business)\n",
      "\n",
      "MongoDB\n",
      "{ \"$match\": {} }\n"
     ]
    }
   ],
   "source": [
    "print('Neo4j\\n{}\\n'.format(neo4j_df.query))\n",
    "print('MongoDB\\n{}'.format(mongo_df.query))"
   ]
  },
  {
   "cell_type": "markdown",
   "metadata": {},
   "source": [
    "### Projection"
   ]
  },
  {
   "cell_type": "code",
   "execution_count": 18,
   "metadata": {},
   "outputs": [
    {
     "data": {
      "text/html": [
       "<div>\n",
       "<style scoped>\n",
       "    .dataframe tbody tr th:only-of-type {\n",
       "        vertical-align: middle;\n",
       "    }\n",
       "\n",
       "    .dataframe tbody tr th {\n",
       "        vertical-align: top;\n",
       "    }\n",
       "\n",
       "    .dataframe thead th {\n",
       "        text-align: right;\n",
       "    }\n",
       "</style>\n",
       "<table border=\"1\" class=\"dataframe\">\n",
       "  <thead>\n",
       "    <tr style=\"text-align: right;\">\n",
       "      <th></th>\n",
       "      <th>city</th>\n",
       "      <th>review_count</th>\n",
       "      <th>stars</th>\n",
       "      <th>state</th>\n",
       "      <th>categories</th>\n",
       "    </tr>\n",
       "  </thead>\n",
       "  <tbody>\n",
       "    <tr>\n",
       "      <th>0</th>\n",
       "      <td>Charlotte</td>\n",
       "      <td>6</td>\n",
       "      <td>1.0</td>\n",
       "      <td>NC</td>\n",
       "      <td>Apartments, Real Estate, Home Services</td>\n",
       "    </tr>\n",
       "    <tr>\n",
       "      <th>1</th>\n",
       "      <td>Tempe</td>\n",
       "      <td>12</td>\n",
       "      <td>3.5</td>\n",
       "      <td>AZ</td>\n",
       "      <td>Beauty &amp; Spas, Hair Salons</td>\n",
       "    </tr>\n",
       "  </tbody>\n",
       "</table>\n",
       "</div>"
      ],
      "text/plain": [
       "        city  review_count  stars state  \\\n",
       "0  Charlotte             6    1.0    NC   \n",
       "1      Tempe            12    3.5    AZ   \n",
       "\n",
       "                               categories  \n",
       "0  Apartments, Real Estate, Home Services  \n",
       "1              Beauty & Spas, Hair Salons  "
      ]
     },
     "execution_count": 18,
     "metadata": {},
     "output_type": "execute_result"
    }
   ],
   "source": [
    "neo4j_df = neo4j_df[['categories', 'state', 'stars', 'review_count', 'city']]\n",
    "neo4j_df.head(2)"
   ]
  },
  {
   "cell_type": "code",
   "execution_count": 19,
   "metadata": {},
   "outputs": [
    {
     "data": {
      "text/html": [
       "<div>\n",
       "<style scoped>\n",
       "    .dataframe tbody tr th:only-of-type {\n",
       "        vertical-align: middle;\n",
       "    }\n",
       "\n",
       "    .dataframe tbody tr th {\n",
       "        vertical-align: top;\n",
       "    }\n",
       "\n",
       "    .dataframe thead th {\n",
       "        text-align: right;\n",
       "    }\n",
       "</style>\n",
       "<table border=\"1\" class=\"dataframe\">\n",
       "  <thead>\n",
       "    <tr style=\"text-align: right;\">\n",
       "      <th></th>\n",
       "      <th>city</th>\n",
       "      <th>state</th>\n",
       "      <th>stars</th>\n",
       "      <th>review_count</th>\n",
       "      <th>categories</th>\n",
       "    </tr>\n",
       "  </thead>\n",
       "  <tbody>\n",
       "    <tr>\n",
       "      <th>0</th>\n",
       "      <td>Tempe</td>\n",
       "      <td>AZ</td>\n",
       "      <td>3.5</td>\n",
       "      <td>12</td>\n",
       "      <td>Beauty &amp; Spas, Hair Salons</td>\n",
       "    </tr>\n",
       "    <tr>\n",
       "      <th>1</th>\n",
       "      <td>Chandler</td>\n",
       "      <td>AZ</td>\n",
       "      <td>2.5</td>\n",
       "      <td>39</td>\n",
       "      <td>General Dentistry, Health &amp; Medical, Dentists,...</td>\n",
       "    </tr>\n",
       "  </tbody>\n",
       "</table>\n",
       "</div>"
      ],
      "text/plain": [
       "       city state  stars  review_count  \\\n",
       "0     Tempe    AZ    3.5            12   \n",
       "1  Chandler    AZ    2.5            39   \n",
       "\n",
       "                                          categories  \n",
       "0                         Beauty & Spas, Hair Salons  \n",
       "1  General Dentistry, Health & Medical, Dentists,...  "
      ]
     },
     "execution_count": 19,
     "metadata": {},
     "output_type": "execute_result"
    }
   ],
   "source": [
    "mongo_df = mongo_df[['categories', 'state', 'stars', 'review_count', 'city']]\n",
    "mongo_df.head(2)"
   ]
  },
  {
   "cell_type": "code",
   "execution_count": 20,
   "metadata": {},
   "outputs": [
    {
     "name": "stdout",
     "output_type": "stream",
     "text": [
      "MATCH(t: business)\r\n",
      "WITH t{`categories`:t.categories, `state`:t.state, `stars`:t.stars, `review_count`:t.review_count, `city`:t.city}\n",
      "\n",
      "\n",
      "{ \"$match\": {} },\r\n",
      "{ \"$project\": { \"categories\": 1, \"state\": 1, \"stars\": 1, \"review_count\": 1, \"city\": 1 } }\n"
     ]
    }
   ],
   "source": [
    "print(neo4j_df.query)\n",
    "print('\\n')\n",
    "print(mongo_df.query)"
   ]
  },
  {
   "cell_type": "markdown",
   "metadata": {},
   "source": [
    "### Selection"
   ]
  },
  {
   "cell_type": "code",
   "execution_count": 21,
   "metadata": {},
   "outputs": [
    {
     "data": {
      "text/html": [
       "<div>\n",
       "<style scoped>\n",
       "    .dataframe tbody tr th:only-of-type {\n",
       "        vertical-align: middle;\n",
       "    }\n",
       "\n",
       "    .dataframe tbody tr th {\n",
       "        vertical-align: top;\n",
       "    }\n",
       "\n",
       "    .dataframe thead th {\n",
       "        text-align: right;\n",
       "    }\n",
       "</style>\n",
       "<table border=\"1\" class=\"dataframe\">\n",
       "  <thead>\n",
       "    <tr style=\"text-align: right;\">\n",
       "      <th></th>\n",
       "      <th>city</th>\n",
       "      <th>review_count</th>\n",
       "      <th>stars</th>\n",
       "      <th>state</th>\n",
       "      <th>categories</th>\n",
       "    </tr>\n",
       "  </thead>\n",
       "  <tbody>\n",
       "    <tr>\n",
       "      <th>0</th>\n",
       "      <td>Phoenix</td>\n",
       "      <td>44</td>\n",
       "      <td>3.5</td>\n",
       "      <td>AZ</td>\n",
       "      <td>Mexican, Restaurants</td>\n",
       "    </tr>\n",
       "    <tr>\n",
       "      <th>1</th>\n",
       "      <td>Sun City</td>\n",
       "      <td>56</td>\n",
       "      <td>4.0</td>\n",
       "      <td>AZ</td>\n",
       "      <td>Mexican, Restaurants</td>\n",
       "    </tr>\n",
       "  </tbody>\n",
       "</table>\n",
       "</div>"
      ],
      "text/plain": [
       "       city  review_count  stars state            categories\n",
       "0   Phoenix            44    3.5    AZ  Mexican, Restaurants\n",
       "1  Sun City            56    4.0    AZ  Mexican, Restaurants"
      ]
     },
     "execution_count": 21,
     "metadata": {},
     "output_type": "execute_result"
    }
   ],
   "source": [
    "neo4j_df = neo4j_df[(neo4j_df['categories'] == 'Mexican, Restaurants') & \n",
    "                    (neo4j_df['stars'] > 3.0)]\n",
    "neo4j_df.head(2)"
   ]
  },
  {
   "cell_type": "code",
   "execution_count": 22,
   "metadata": {},
   "outputs": [
    {
     "data": {
      "text/html": [
       "<div>\n",
       "<style scoped>\n",
       "    .dataframe tbody tr th:only-of-type {\n",
       "        vertical-align: middle;\n",
       "    }\n",
       "\n",
       "    .dataframe tbody tr th {\n",
       "        vertical-align: top;\n",
       "    }\n",
       "\n",
       "    .dataframe thead th {\n",
       "        text-align: right;\n",
       "    }\n",
       "</style>\n",
       "<table border=\"1\" class=\"dataframe\">\n",
       "  <thead>\n",
       "    <tr style=\"text-align: right;\">\n",
       "      <th></th>\n",
       "      <th>city</th>\n",
       "      <th>state</th>\n",
       "      <th>stars</th>\n",
       "      <th>review_count</th>\n",
       "      <th>categories</th>\n",
       "    </tr>\n",
       "  </thead>\n",
       "  <tbody>\n",
       "    <tr>\n",
       "      <th>0</th>\n",
       "      <td>Phoenix</td>\n",
       "      <td>AZ</td>\n",
       "      <td>3.5</td>\n",
       "      <td>44</td>\n",
       "      <td>Mexican, Restaurants</td>\n",
       "    </tr>\n",
       "    <tr>\n",
       "      <th>1</th>\n",
       "      <td>Sun City</td>\n",
       "      <td>AZ</td>\n",
       "      <td>4.0</td>\n",
       "      <td>56</td>\n",
       "      <td>Mexican, Restaurants</td>\n",
       "    </tr>\n",
       "  </tbody>\n",
       "</table>\n",
       "</div>"
      ],
      "text/plain": [
       "       city state  stars  review_count            categories\n",
       "0   Phoenix    AZ    3.5            44  Mexican, Restaurants\n",
       "1  Sun City    AZ    4.0            56  Mexican, Restaurants"
      ]
     },
     "execution_count": 22,
     "metadata": {},
     "output_type": "execute_result"
    }
   ],
   "source": [
    "mongo_df = mongo_df[(mongo_df['categories'] == 'Mexican, Restaurants') & \n",
    "                    (mongo_df['stars'] > 3.0)]\n",
    "mongo_df.head(2)"
   ]
  },
  {
   "cell_type": "code",
   "execution_count": 23,
   "metadata": {},
   "outputs": [
    {
     "name": "stdout",
     "output_type": "stream",
     "text": [
      "MATCH(t: business)\r\n",
      "WITH t{`categories`:t.categories, `state`:t.state, `stars`:t.stars, `review_count`:t.review_count, `city`:t.city}\r\n",
      "WITH t WHERE t.categories = \"Mexican, Restaurants\" AND t.stars > 3.0\n",
      "\n",
      "\n",
      "{ \"$match\": {} },\r\n",
      "{ \"$project\": { \"categories\": 1, \"state\": 1, \"stars\": 1, \"review_count\": 1, \"city\": 1 } },\r\n",
      "{ \"$match\": { \"$expr\": { \"$and\": [ { \"$eq\": [\"$categories\", \"Mexican, Restaurants\"] }, { \"$gt\": [\"$stars\", 3.0] } ] } } }\n"
     ]
    }
   ],
   "source": [
    "print(neo4j_df.query)\n",
    "print('\\n')\n",
    "print(mongo_df.query)"
   ]
  },
  {
   "cell_type": "markdown",
   "metadata": {},
   "source": [
    "### Grouping"
   ]
  },
  {
   "cell_type": "code",
   "execution_count": 24,
   "metadata": {},
   "outputs": [
    {
     "data": {
      "text/html": [
       "<div>\n",
       "<style scoped>\n",
       "    .dataframe tbody tr th:only-of-type {\n",
       "        vertical-align: middle;\n",
       "    }\n",
       "\n",
       "    .dataframe tbody tr th {\n",
       "        vertical-align: top;\n",
       "    }\n",
       "\n",
       "    .dataframe thead th {\n",
       "        text-align: right;\n",
       "    }\n",
       "</style>\n",
       "<table border=\"1\" class=\"dataframe\">\n",
       "  <thead>\n",
       "    <tr style=\"text-align: right;\">\n",
       "      <th></th>\n",
       "      <th>sum_review_count</th>\n",
       "      <th>state</th>\n",
       "    </tr>\n",
       "  </thead>\n",
       "  <tbody>\n",
       "    <tr>\n",
       "      <th>0</th>\n",
       "      <td>20841</td>\n",
       "      <td>AZ</td>\n",
       "    </tr>\n",
       "    <tr>\n",
       "      <th>1</th>\n",
       "      <td>8298</td>\n",
       "      <td>NV</td>\n",
       "    </tr>\n",
       "    <tr>\n",
       "      <th>2</th>\n",
       "      <td>2194</td>\n",
       "      <td>ON</td>\n",
       "    </tr>\n",
       "    <tr>\n",
       "      <th>3</th>\n",
       "      <td>1907</td>\n",
       "      <td>OH</td>\n",
       "    </tr>\n",
       "    <tr>\n",
       "      <th>4</th>\n",
       "      <td>735</td>\n",
       "      <td>IL</td>\n",
       "    </tr>\n",
       "  </tbody>\n",
       "</table>\n",
       "</div>"
      ],
      "text/plain": [
       "   sum_review_count state\n",
       "0             20841    AZ\n",
       "1              8298    NV\n",
       "2              2194    ON\n",
       "3              1907    OH\n",
       "4               735    IL"
      ]
     },
     "execution_count": 24,
     "metadata": {},
     "output_type": "execute_result"
    }
   ],
   "source": [
    "neo_grps = neo4j_df.groupby('state').agg({'review_count':'sum'})\n",
    "neo_grps.head()"
   ]
  },
  {
   "cell_type": "code",
   "execution_count": 25,
   "metadata": {},
   "outputs": [
    {
     "data": {
      "text/html": [
       "<div>\n",
       "<style scoped>\n",
       "    .dataframe tbody tr th:only-of-type {\n",
       "        vertical-align: middle;\n",
       "    }\n",
       "\n",
       "    .dataframe tbody tr th {\n",
       "        vertical-align: top;\n",
       "    }\n",
       "\n",
       "    .dataframe thead th {\n",
       "        text-align: right;\n",
       "    }\n",
       "</style>\n",
       "<table border=\"1\" class=\"dataframe\">\n",
       "  <thead>\n",
       "    <tr style=\"text-align: right;\">\n",
       "      <th></th>\n",
       "      <th>sum_review_count</th>\n",
       "      <th>state</th>\n",
       "    </tr>\n",
       "  </thead>\n",
       "  <tbody>\n",
       "    <tr>\n",
       "      <th>0</th>\n",
       "      <td>1907</td>\n",
       "      <td>OH</td>\n",
       "    </tr>\n",
       "    <tr>\n",
       "      <th>1</th>\n",
       "      <td>1130</td>\n",
       "      <td>WI</td>\n",
       "    </tr>\n",
       "    <tr>\n",
       "      <th>2</th>\n",
       "      <td>372</td>\n",
       "      <td>QC</td>\n",
       "    </tr>\n",
       "    <tr>\n",
       "      <th>3</th>\n",
       "      <td>8298</td>\n",
       "      <td>NV</td>\n",
       "    </tr>\n",
       "    <tr>\n",
       "      <th>4</th>\n",
       "      <td>3266</td>\n",
       "      <td>NC</td>\n",
       "    </tr>\n",
       "  </tbody>\n",
       "</table>\n",
       "</div>"
      ],
      "text/plain": [
       "   sum_review_count state\n",
       "0              1907    OH\n",
       "1              1130    WI\n",
       "2               372    QC\n",
       "3              8298    NV\n",
       "4              3266    NC"
      ]
     },
     "execution_count": 25,
     "metadata": {},
     "output_type": "execute_result"
    }
   ],
   "source": [
    "mongo_grps = mongo_df.groupby('state').agg({'review_count':'sum'})\n",
    "mongo_grps.head()"
   ]
  },
  {
   "cell_type": "markdown",
   "metadata": {},
   "source": [
    "### Sorting"
   ]
  },
  {
   "cell_type": "code",
   "execution_count": 26,
   "metadata": {},
   "outputs": [
    {
     "data": {
      "text/html": [
       "<div>\n",
       "<style scoped>\n",
       "    .dataframe tbody tr th:only-of-type {\n",
       "        vertical-align: middle;\n",
       "    }\n",
       "\n",
       "    .dataframe tbody tr th {\n",
       "        vertical-align: top;\n",
       "    }\n",
       "\n",
       "    .dataframe thead th {\n",
       "        text-align: right;\n",
       "    }\n",
       "</style>\n",
       "<table border=\"1\" class=\"dataframe\">\n",
       "  <thead>\n",
       "    <tr style=\"text-align: right;\">\n",
       "      <th></th>\n",
       "      <th>sum_review_count</th>\n",
       "      <th>state</th>\n",
       "    </tr>\n",
       "  </thead>\n",
       "  <tbody>\n",
       "    <tr>\n",
       "      <th>0</th>\n",
       "      <td>20841</td>\n",
       "      <td>AZ</td>\n",
       "    </tr>\n",
       "    <tr>\n",
       "      <th>1</th>\n",
       "      <td>8298</td>\n",
       "      <td>NV</td>\n",
       "    </tr>\n",
       "    <tr>\n",
       "      <th>2</th>\n",
       "      <td>3266</td>\n",
       "      <td>NC</td>\n",
       "    </tr>\n",
       "    <tr>\n",
       "      <th>3</th>\n",
       "      <td>2194</td>\n",
       "      <td>ON</td>\n",
       "    </tr>\n",
       "    <tr>\n",
       "      <th>4</th>\n",
       "      <td>1907</td>\n",
       "      <td>OH</td>\n",
       "    </tr>\n",
       "  </tbody>\n",
       "</table>\n",
       "</div>"
      ],
      "text/plain": [
       "   sum_review_count state\n",
       "0             20841    AZ\n",
       "1              8298    NV\n",
       "2              3266    NC\n",
       "3              2194    ON\n",
       "4              1907    OH"
      ]
     },
     "execution_count": 26,
     "metadata": {},
     "output_type": "execute_result"
    }
   ],
   "source": [
    "neo_sorted = neo_grps.sort_values(by='sum_review_count', ascending=False)\n",
    "neo_sorted.head()"
   ]
  },
  {
   "cell_type": "code",
   "execution_count": 27,
   "metadata": {},
   "outputs": [
    {
     "data": {
      "text/html": [
       "<div>\n",
       "<style scoped>\n",
       "    .dataframe tbody tr th:only-of-type {\n",
       "        vertical-align: middle;\n",
       "    }\n",
       "\n",
       "    .dataframe tbody tr th {\n",
       "        vertical-align: top;\n",
       "    }\n",
       "\n",
       "    .dataframe thead th {\n",
       "        text-align: right;\n",
       "    }\n",
       "</style>\n",
       "<table border=\"1\" class=\"dataframe\">\n",
       "  <thead>\n",
       "    <tr style=\"text-align: right;\">\n",
       "      <th></th>\n",
       "      <th>sum_review_count</th>\n",
       "      <th>state</th>\n",
       "    </tr>\n",
       "  </thead>\n",
       "  <tbody>\n",
       "    <tr>\n",
       "      <th>0</th>\n",
       "      <td>20841</td>\n",
       "      <td>AZ</td>\n",
       "    </tr>\n",
       "    <tr>\n",
       "      <th>1</th>\n",
       "      <td>8298</td>\n",
       "      <td>NV</td>\n",
       "    </tr>\n",
       "    <tr>\n",
       "      <th>2</th>\n",
       "      <td>3266</td>\n",
       "      <td>NC</td>\n",
       "    </tr>\n",
       "    <tr>\n",
       "      <th>3</th>\n",
       "      <td>2194</td>\n",
       "      <td>ON</td>\n",
       "    </tr>\n",
       "    <tr>\n",
       "      <th>4</th>\n",
       "      <td>1907</td>\n",
       "      <td>OH</td>\n",
       "    </tr>\n",
       "  </tbody>\n",
       "</table>\n",
       "</div>"
      ],
      "text/plain": [
       "   sum_review_count state\n",
       "0             20841    AZ\n",
       "1              8298    NV\n",
       "2              3266    NC\n",
       "3              2194    ON\n",
       "4              1907    OH"
      ]
     },
     "execution_count": 27,
     "metadata": {},
     "output_type": "execute_result"
    }
   ],
   "source": [
    "mongo_sorted = mongo_grps.sort_values(by='sum_review_count', ascending=False)\n",
    "mongo_sorted.head()"
   ]
  },
  {
   "cell_type": "code",
   "execution_count": 28,
   "metadata": {},
   "outputs": [
    {
     "name": "stdout",
     "output_type": "stream",
     "text": [
      "Neo4j\n",
      "MATCH(t: business)\r\n",
      "WITH t{`categories`:t.categories, `state`:t.state, `stars`:t.stars, `review_count`:t.review_count, `city`:t.city}\r\n",
      "WITH t WHERE t.categories = \"Mexican, Restaurants\" AND t.stars > 3.0\r\n",
      "WITH {`state`: t.state, `sum_review_count`: sum(t.review_count)} AS t\r\n",
      "WITH t ORDER BY t.sum_review_count DESC\r\n",
      "RETURN t\r\n",
      "LIMIT 5\n",
      "\n",
      "MongoDB\n",
      "{ \"$match\": {} },\r\n",
      "{ \"$project\": { \"categories\": 1, \"state\": 1, \"stars\": 1, \"review_count\": 1, \"city\": 1 } },\r\n",
      "{ \"$match\": { \"$expr\": { \"$and\": [ { \"$eq\": [\"$categories\", \"Mexican, Restaurants\"] }, { \"$gt\": [\"$stars\", 3.0] } ] } } },\r\n",
      "{ \"$group\": { \"_id\": { \"state\": \"$state\" }, \"sum_review_count\": { \"$sum\": \"$review_count\" } } },\r\n",
      "{ \"$addFields\": { \"state\": \"$_id.state\" } },\r\n",
      "{ \"$sort\": { \"sum_review_count\": -1 } },\r\n",
      "{ \"$project\": { \"_id\": 0 } },\r\n",
      "{ \"$limit\" : 5 }\n"
     ]
    }
   ],
   "source": [
    "print('Neo4j\\n{}\\n'.format(neo_sorted.head(query=True)))\n",
    "print('MongoDB\\n{}'.format(mongo_sorted.head(query=True)))"
   ]
  },
  {
   "cell_type": "markdown",
   "metadata": {},
   "source": [
    "## Composite Operations"
   ]
  },
  {
   "cell_type": "code",
   "execution_count": 29,
   "metadata": {},
   "outputs": [],
   "source": [
    "neo4j_df = AFrame(dataverse='Yelp', dataset='business', connector=neo4j_connector)\n",
    "mongo_df = AFrame(dataverse='Yelp', dataset='business', connector=mongo_connector)"
   ]
  },
  {
   "cell_type": "code",
   "execution_count": 30,
   "metadata": {},
   "outputs": [
    {
     "data": {
      "text/html": [
       "<div>\n",
       "<style scoped>\n",
       "    .dataframe tbody tr th:only-of-type {\n",
       "        vertical-align: middle;\n",
       "    }\n",
       "\n",
       "    .dataframe tbody tr th {\n",
       "        vertical-align: top;\n",
       "    }\n",
       "\n",
       "    .dataframe thead th {\n",
       "        text-align: right;\n",
       "    }\n",
       "</style>\n",
       "<table border=\"1\" class=\"dataframe\">\n",
       "  <thead>\n",
       "    <tr style=\"text-align: right;\">\n",
       "      <th></th>\n",
       "      <th>review_count</th>\n",
       "      <th>stars</th>\n",
       "      <th>latitude</th>\n",
       "      <th>longitude</th>\n",
       "    </tr>\n",
       "  </thead>\n",
       "  <tbody>\n",
       "    <tr>\n",
       "      <th>avg</th>\n",
       "      <td>33.538962</td>\n",
       "      <td>3.585627</td>\n",
       "      <td>38.541803</td>\n",
       "      <td>-97.594785</td>\n",
       "    </tr>\n",
       "    <tr>\n",
       "      <th>std</th>\n",
       "      <td>110.134939</td>\n",
       "      <td>1.018456</td>\n",
       "      <td>4.941951</td>\n",
       "      <td>16.697681</td>\n",
       "    </tr>\n",
       "    <tr>\n",
       "      <th>min</th>\n",
       "      <td>3.000000</td>\n",
       "      <td>1.000000</td>\n",
       "      <td>33.204642</td>\n",
       "      <td>-115.493471</td>\n",
       "    </tr>\n",
       "    <tr>\n",
       "      <th>max</th>\n",
       "      <td>8348.000000</td>\n",
       "      <td>5.000000</td>\n",
       "      <td>51.299943</td>\n",
       "      <td>-72.911982</td>\n",
       "    </tr>\n",
       "    <tr>\n",
       "      <th>count</th>\n",
       "      <td>192609.000000</td>\n",
       "      <td>192609.000000</td>\n",
       "      <td>192609.000000</td>\n",
       "      <td>192609.000000</td>\n",
       "    </tr>\n",
       "  </tbody>\n",
       "</table>\n",
       "</div>"
      ],
      "text/plain": [
       "        review_count          stars       latitude      longitude\n",
       "avg        33.538962       3.585627      38.541803     -97.594785\n",
       "std       110.134939       1.018456       4.941951      16.697681\n",
       "min         3.000000       1.000000      33.204642    -115.493471\n",
       "max      8348.000000       5.000000      51.299943     -72.911982\n",
       "count  192609.000000  192609.000000  192609.000000  192609.000000"
      ]
     },
     "execution_count": 30,
     "metadata": {},
     "output_type": "execute_result"
    }
   ],
   "source": [
    "neo4j_df[['review_count', 'stars', 'latitude', 'longitude']].describe()"
   ]
  },
  {
   "cell_type": "code",
   "execution_count": 31,
   "metadata": {},
   "outputs": [
    {
     "data": {
      "text/html": [
       "<div>\n",
       "<style scoped>\n",
       "    .dataframe tbody tr th:only-of-type {\n",
       "        vertical-align: middle;\n",
       "    }\n",
       "\n",
       "    .dataframe tbody tr th {\n",
       "        vertical-align: top;\n",
       "    }\n",
       "\n",
       "    .dataframe thead th {\n",
       "        text-align: right;\n",
       "    }\n",
       "</style>\n",
       "<table border=\"1\" class=\"dataframe\">\n",
       "  <thead>\n",
       "    <tr style=\"text-align: right;\">\n",
       "      <th></th>\n",
       "      <th>review_count</th>\n",
       "      <th>stars</th>\n",
       "      <th>latitude</th>\n",
       "      <th>longitude</th>\n",
       "    </tr>\n",
       "  </thead>\n",
       "  <tbody>\n",
       "    <tr>\n",
       "      <th>avg</th>\n",
       "      <td>33.538962</td>\n",
       "      <td>3.585627</td>\n",
       "      <td>38.541803</td>\n",
       "      <td>-97.594785</td>\n",
       "    </tr>\n",
       "    <tr>\n",
       "      <th>std</th>\n",
       "      <td>110.135224</td>\n",
       "      <td>1.018458</td>\n",
       "      <td>4.941964</td>\n",
       "      <td>16.697725</td>\n",
       "    </tr>\n",
       "    <tr>\n",
       "      <th>min</th>\n",
       "      <td>3.000000</td>\n",
       "      <td>1.000000</td>\n",
       "      <td>33.204642</td>\n",
       "      <td>-115.493471</td>\n",
       "    </tr>\n",
       "    <tr>\n",
       "      <th>max</th>\n",
       "      <td>8348.000000</td>\n",
       "      <td>5.000000</td>\n",
       "      <td>51.299943</td>\n",
       "      <td>-72.911982</td>\n",
       "    </tr>\n",
       "    <tr>\n",
       "      <th>count</th>\n",
       "      <td>192609.000000</td>\n",
       "      <td>192609.000000</td>\n",
       "      <td>192609.000000</td>\n",
       "      <td>192609.000000</td>\n",
       "    </tr>\n",
       "  </tbody>\n",
       "</table>\n",
       "</div>"
      ],
      "text/plain": [
       "        review_count          stars       latitude      longitude\n",
       "avg        33.538962       3.585627      38.541803     -97.594785\n",
       "std       110.135224       1.018458       4.941964      16.697725\n",
       "min         3.000000       1.000000      33.204642    -115.493471\n",
       "max      8348.000000       5.000000      51.299943     -72.911982\n",
       "count  192609.000000  192609.000000  192609.000000  192609.000000"
      ]
     },
     "execution_count": 31,
     "metadata": {},
     "output_type": "execute_result"
    }
   ],
   "source": [
    "mongo_df[['review_count', 'stars', 'latitude', 'longitude']].describe()"
   ]
  },
  {
   "cell_type": "code",
   "execution_count": 32,
   "metadata": {},
   "outputs": [
    {
     "name": "stdout",
     "output_type": "stream",
     "text": [
      "MATCH(t: business)\r\n",
      "WITH t{`review_count`:t.review_count, `stars`:t.stars, `latitude`:t.latitude, `longitude`:t.longitude}\r\n",
      "WITH {`avg_review_count`: avg(t.review_count), `std_review_count`: stDevP(t.review_count), `min_review_count`: min(t.review_count), `max_review_count`: max(t.review_count), `count_review_count`: count(t.review_count), `avg_stars`: avg(t.stars), `std_stars`: stDevP(t.stars), `min_stars`: min(t.stars), `max_stars`: max(t.stars), `count_stars`: count(t.stars), `avg_latitude`: avg(t.latitude), `std_latitude`: stDevP(t.latitude), `min_latitude`: min(t.latitude), `max_latitude`: max(t.latitude), `count_latitude`: count(t.latitude), `avg_longitude`: avg(t.longitude), `std_longitude`: stDevP(t.longitude), `min_longitude`: min(t.longitude), `max_longitude`: max(t.longitude), `count_longitude`: count(t.longitude)} AS t\r\n",
      "RETURN t\n",
      "\n",
      "\n",
      "{ \"$match\": {} },\r\n",
      "{ \"$project\": { \"review_count\": 1, \"stars\": 1, \"latitude\": 1, \"longitude\": 1 } },\r\n",
      "{ \"$group\": { \"_id\": {}, \"avg_review_count\": { \"$avg\": \"$review_count\" }, \"std_review_count\": { \"$stdDevSamp\": \"$review_count\" }, \"min_review_count\": { \"$min\": \"$review_count\" }, \"max_review_count\": { \"$max\": \"$review_count\" }, \"count_review_count\": { \"$sum\": 1 }, \"avg_stars\": { \"$avg\": \"$stars\" }, \"std_stars\": { \"$stdDevSamp\": \"$stars\" }, \"min_stars\": { \"$min\": \"$stars\" }, \"max_stars\": { \"$max\": \"$stars\" }, \"count_stars\": { \"$sum\": 1 }, \"avg_latitude\": { \"$avg\": \"$latitude\" }, \"std_latitude\": { \"$stdDevSamp\": \"$latitude\" }, \"min_latitude\": { \"$min\": \"$latitude\" }, \"max_latitude\": { \"$max\": \"$latitude\" }, \"count_latitude\": { \"$sum\": 1 }, \"avg_longitude\": { \"$avg\": \"$longitude\" }, \"std_longitude\": { \"$stdDevSamp\": \"$longitude\" }, \"min_longitude\": { \"$min\": \"$longitude\" }, \"max_longitude\": { \"$max\": \"$longitude\" }, \"count_longitude\": { \"$sum\": 1 } } },\r\n",
      "{ \"$project\": {\"_id\": 0 } }\n"
     ]
    }
   ],
   "source": [
    "print(neo4j_df[['review_count', 'stars', 'latitude', 'longitude']].describe(query=True))\n",
    "print('\\n')\n",
    "print(mongo_df[['review_count', 'stars', 'latitude', 'longitude']].describe(query=True))"
   ]
  },
  {
   "cell_type": "code",
   "execution_count": null,
   "metadata": {},
   "outputs": [],
   "source": []
  }
 ],
 "metadata": {
  "kernelspec": {
   "display_name": "Py3.6.5",
   "language": "python",
   "name": "test3.6"
  },
  "language_info": {
   "codemirror_mode": {
    "name": "ipython",
    "version": 3
   },
   "file_extension": ".py",
   "mimetype": "text/x-python",
   "name": "python",
   "nbconvert_exporter": "python",
   "pygments_lexer": "ipython3",
   "version": "3.6.5"
  }
 },
 "nbformat": 4,
 "nbformat_minor": 2
}
